{
  "cells": [
    {
      "cell_type": "markdown",
      "metadata": {
        "id": "rdYWSKZrSOu1"
      },
      "source": [
        "# Pytorch Workflow\n",
        "\n",
        "Exploring the example of pytorch end-to-end workflow\n"
      ]
    },
    {
      "cell_type": "code",
      "execution_count": null,
      "metadata": {
        "colab": {
          "base_uri": "https://localhost:8080/",
          "height": 35
        },
        "id": "DEwilr3rT5rv",
        "outputId": "996b0ac0-c4f1-4443-abff-4ec28c080f03"
      },
      "outputs": [
        {
          "data": {
            "application/vnd.google.colaboratory.intrinsic+json": {
              "type": "string"
            },
            "text/plain": [
              "'2.4.1+cu121'"
            ]
          },
          "execution_count": 3,
          "metadata": {},
          "output_type": "execute_result"
        }
      ],
      "source": [
        "import torch\n",
        "from torch import nn # nn contains all of pytorch's building blocks for neural networks\n",
        "import matplotlib.pyplot as plt\n",
        "\n",
        "# checking the pytorch version\n",
        "\n",
        "torch.__version__\n"
      ]
    },
    {
      "cell_type": "markdown",
      "metadata": {
        "id": "oVeNBcbbVXi2"
      },
      "source": [
        "# 1.Data (preparing and loading)\n",
        "\n",
        "Data can be almost anything... in machine learning\n",
        "\n",
        "* Excel speadsheet\n",
        "* Images of any kind\n",
        "* Videos (youtube has lots of data...)\n",
        "* Audio like songs or photos\n",
        "* DNA\n",
        "* Text\n",
        "\n",
        "Machine learning or deep learning is a game of two parts\n",
        "1. Get data into a numerical representation\n",
        "2. Build a model to learn patterns in that numerical representation.\n",
        "\n",
        "To showcase this,lets create some *known* data using the linear regression formula.\n",
        "\n",
        "We'll use a liner regression formula to make a straight line without known parameters.\n",
        "\n"
      ]
    },
    {
      "cell_type": "code",
      "execution_count": null,
      "metadata": {
        "colab": {
          "base_uri": "https://localhost:8080/"
        },
        "id": "DFXxqPQkYptx",
        "outputId": "63056bb3-6d57-4328-f946-5d10a68fc385"
      },
      "outputs": [
        {
          "output_type": "execute_result",
          "data": {
            "text/plain": [
              "(tensor([[0.0000],\n",
              "         [0.0200],\n",
              "         [0.0400],\n",
              "         [0.0600],\n",
              "         [0.0800],\n",
              "         [0.1000],\n",
              "         [0.1200],\n",
              "         [0.1400],\n",
              "         [0.1600],\n",
              "         [0.1800]]),\n",
              " tensor([[0.3000],\n",
              "         [0.3140],\n",
              "         [0.3280],\n",
              "         [0.3420],\n",
              "         [0.3560],\n",
              "         [0.3700],\n",
              "         [0.3840],\n",
              "         [0.3980],\n",
              "         [0.4120],\n",
              "         [0.4260]]))"
            ]
          },
          "metadata": {},
          "execution_count": 16
        }
      ],
      "source": [
        "# Create a known paramter\n",
        "\n",
        "weight = 0.7\n",
        "bias = 0.3\n",
        "\n",
        "# create data\n",
        "start = 0\n",
        "end = 1\n",
        "step = 0.02\n",
        "X = torch.arange(start,end,step).unsqueeze(dim=1)  # X is capital beacus in deep learning X represents the matrix or the tensor\n",
        "y = weight * X + bias # output\n",
        "X[:10] , y[:10]"
      ]
    },
    {
      "cell_type": "code",
      "execution_count": null,
      "metadata": {
        "colab": {
          "base_uri": "https://localhost:8080/"
        },
        "id": "J9Txg6o0aHi1",
        "outputId": "40029d3c-cac2-4abf-f6da-197b6aca2c8f"
      },
      "outputs": [
        {
          "output_type": "execute_result",
          "data": {
            "text/plain": [
              "(50, 50)"
            ]
          },
          "metadata": {},
          "execution_count": 17
        }
      ],
      "source": [
        "len(X),len(y)"
      ]
    },
    {
      "cell_type": "code",
      "execution_count": null,
      "metadata": {
        "colab": {
          "base_uri": "https://localhost:8080/"
        },
        "id": "ZTNsqGcsaJYt",
        "outputId": "adb98540-3d4c-44a2-bb26-9619acedf7fb"
      },
      "outputs": [
        {
          "output_type": "execute_result",
          "data": {
            "text/plain": [
              "2"
            ]
          },
          "metadata": {},
          "execution_count": 18
        }
      ],
      "source": [
        "X.ndim"
      ]
    },
    {
      "cell_type": "code",
      "execution_count": null,
      "metadata": {
        "colab": {
          "base_uri": "https://localhost:8080/"
        },
        "id": "T5eDzQ2saLhP",
        "outputId": "48ea0481-9c30-46cb-fe02-3009583bbc34"
      },
      "outputs": [
        {
          "output_type": "execute_result",
          "data": {
            "text/plain": [
              "torch.Size([50, 1])"
            ]
          },
          "metadata": {},
          "execution_count": 19
        }
      ],
      "source": [
        "X.shape"
      ]
    },
    {
      "cell_type": "markdown",
      "metadata": {
        "id": "AqRipMvIaT0h"
      },
      "source": [
        "## splitting the data into the training and test data (Important concept in machine learning in General)\n",
        "Let's create a train and test split"
      ]
    },
    {
      "cell_type": "code",
      "execution_count": null,
      "metadata": {
        "id": "MYV6-4aBr8tV"
      },
      "outputs": [],
      "source": [
        "# Create a train/test split\n",
        "\n",
        "train_split = int(0.8 * len(X))\n",
        "X_train , y_train = X[:train_split],y[:train_split]\n",
        "X_test , y_test = X[train_split:],y[train_split:]"
      ]
    },
    {
      "cell_type": "code",
      "execution_count": null,
      "metadata": {
        "colab": {
          "base_uri": "https://localhost:8080/"
        },
        "id": "78Tr1nY2uPS4",
        "outputId": "0d508965-c8cc-4f01-f378-54389247554e"
      },
      "outputs": [
        {
          "output_type": "execute_result",
          "data": {
            "text/plain": [
              "(40, 40, 10, 10)"
            ]
          },
          "metadata": {},
          "execution_count": 21
        }
      ],
      "source": [
        "len(X_train),len(y_train),len(X_test),len(y_test)"
      ]
    },
    {
      "cell_type": "markdown",
      "metadata": {
        "id": "NlszZhgUubdH"
      },
      "source": [
        "# Visualize the Data"
      ]
    },
    {
      "cell_type": "code",
      "execution_count": null,
      "metadata": {
        "id": "e7z3AVcuu7f4"
      },
      "outputs": [],
      "source": [
        "def plot_prediction (train_data = X_train , train_labels = y_train , test_data = X_test , test_labels = y_test , predictions = None):\n",
        "  \"\"\"\n",
        "  plot training data ,test data and compares predictions\n",
        "  \"\"\"\n",
        "  plt.figure(figsize=(10,7))\n",
        "\n",
        "  # Plot the tarining data in the blue\n",
        "  plt.scatter(train_data,train_labels , c=\"b\" , s=4 , label=\"Training Data\")\n",
        "\n",
        "  # Plot the test data in the green\n",
        "  plt.scatter(test_data , test_labels , c=\"g\" , s=4 , label=\"Test Data\")\n",
        "\n",
        "  # if predictions are passed,plot them in red\n",
        "  if predictions is not None:\n",
        "    plt.scatter(test_data , predictions , c=\"r\" , s=4 , label  = \"Predictions\")\n",
        "\n",
        "  # show the legend\n",
        "  plt.legend(prop={\"size\":14})\n",
        "\n",
        "\n"
      ]
    },
    {
      "cell_type": "code",
      "execution_count": null,
      "metadata": {
        "colab": {
          "base_uri": "https://localhost:8080/",
          "height": 459
        },
        "id": "gELYnhQdxlpf",
        "outputId": "815e9975-10ec-48b9-ecc4-8c604c7bfdb9"
      },
      "outputs": [
        {
          "data": {
            "image/png": "[encoded data removed]",
            "text/plain": [
              "<Figure size 1000x700 with 1 Axes>"
            ]
          },
          "metadata": {},
          "output_type": "display_data"
        }
      ],
      "source": [
        "plot_prediction()"
      ]
    },
    {
      "cell_type": "markdown",
      "metadata": {
        "id": "Pt4KSGpBxntf"
      },
      "source": [
        "## Build the model\n",
        "\n",
        "First pytorch model!\n",
        "\n",
        "How does it do so ?\n",
        "1. Gradient descent\n",
        "2. BackPropagation"
      ]
    },
    {
      "cell_type": "code",
      "execution_count": null,
      "metadata": {
        "id": "qA76KWmT4bi3"
      },
      "outputs": [],
      "source": [
        "# from torch import nn\n",
        "# class LinearRegressionModel(nn.Module):\n",
        "\n",
        "#     def __init__ (self):\n",
        "#       super().__init__()\n",
        "#       self.weights = nn.parameter(torch.randn(1, # <- start with a random weight and try to adjust it to the ideal weight\n",
        "#                                           dtype=torch.float),\n",
        "#                               requires_grad=True # <- can thus parameter be updated via gradient descent?\n",
        "#                                            ) #<- Pytorch loves the datatype torch.float32\n",
        "\n",
        "#       self.bias = nn.parameter(torch.randn(1, # <- start with a random bias and try to adjust it to the ideal bais\n",
        "#                                          dtype=torch.float),\n",
        "#                             requires_grad=True) # <- can this parameter be updated via gradient descemt  ?\n",
        "\n",
        "\n",
        "#   # Forward method to define the computation in the model:\n",
        "\n",
        "#     def forward (self,x: torch.Tensor) -> torch.Tensor: # x: torch.Tensor: This means the input x is expected to be a tensor (PyTorch's multidimensional array).\n",
        "#         return self.weights * x + self.bias\n",
        "\n",
        "\n",
        "\n",
        "# Create a Linear Regression model class\n",
        "class LinearRegressionModel(nn.Module): # <- almost everything in PyTorch is a nn.Module (think of this as neural network lego blocks)\n",
        "    def __init__(self):\n",
        "        super().__init__()\n",
        "        self.weights = nn.Parameter(torch.randn(1, # <- start with random weights (this will get adjusted as the model learns)\n",
        "                                                dtype=torch.float), # <- PyTorch loves float32 by default\n",
        "                                   requires_grad=True) # <- can we update this value with gradient descent?)\n",
        "\n",
        "        self.bias = nn.Parameter(torch.randn(1, # <- start with random bias (this will get adjusted as the model learns)\n",
        "                                            dtype=torch.float), # <- PyTorch loves float32 by default\n",
        "                                requires_grad=True) # <- can we update this value with gradient descent?))\n",
        "\n",
        "    # Forward defines the computation in the model\n",
        "    def forward(self, x: torch.Tensor) -> torch.Tensor: # <- \"x\" is the input data (e.g. training/testing features)\n",
        "        return self.weights * x + self.bias # <- this is the linear regression formula (y = m*x + b)"
      ]
    },
    {
      "cell_type": "markdown",
      "metadata": {
        "id": "9Vbpp23M4u0J"
      },
      "source": []
    },
    {
      "cell_type": "markdown",
      "metadata": {
        "id": "rsG1J_xbClbg"
      },
      "source": [
        "## PyTorch model building essentials\n",
        "* torch.nn - Contains all of the buildongs for computational graphs(a neural network an be considered a computational graph )\n",
        "* torch.nn.parameter - what parameter should our model try and learn, often a pytorch layer from torch.nn will set these fpr us\n",
        "* torch.nn.Module - The base class for all  neural network modules in PyTorch. if you subclass it,you should overwrite forward()\n",
        "* torch.optim - This where the optimizer in PyTorch live, They will help with gradient descent\n",
        "* def Forward() - All nn.module subclass require you to overwrite forward(),this method defines what happens in the forwad computational"
      ]
    },
    {
      "cell_type": "markdown",
      "metadata": {
        "id": "76DAXiI80DTP"
      },
      "source": [
        "\n",
        "# Checking the contents of a PyTorch model\n",
        "Now we've got these out of the way, let's create a model instance with the class we've made and check its parameters using `.parameters().`"
      ]
    },
    {
      "cell_type": "code",
      "execution_count": null,
      "metadata": {
        "colab": {
          "base_uri": "https://localhost:8080/"
        },
        "id": "tLgawYjq1_Wx",
        "outputId": "05aaa042-da38-4a7f-f2a6-926292b01cba"
      },
      "outputs": [
        {
          "data": {
            "text/plain": [
              "[Parameter containing:\n",
              " tensor([0.3367], requires_grad=True),\n",
              " Parameter containing:\n",
              " tensor([0.1288], requires_grad=True)]"
            ]
          },
          "execution_count": 13,
          "metadata": {},
          "output_type": "execute_result"
        }
      ],
      "source": [
        "# Set maunual seed since nn.paramter are randomly initialized\n",
        "\n",
        "torch.manual_seed(42)\n",
        "\n",
        "# Create an instance of the model (This is the subclass of nn.Module that contains nn.Parameter(s))\n",
        "\n",
        "model_0 = LinearRegressionModel()\n",
        "\n",
        "# Check the parameter(s) within the nn.Module subclass we created\n",
        "list(model_0.parameters())"
      ]
    },
    {
      "cell_type": "markdown",
      "metadata": {
        "id": "v7XHCOE26EBp"
      },
      "source": [
        "### We can also get the state (what the mdoel contains) of the model using `.state_dict().`"
      ]
    },
    {
      "cell_type": "code",
      "execution_count": null,
      "metadata": {
        "colab": {
          "base_uri": "https://localhost:8080/"
        },
        "id": "dVI1uhkr6d1R",
        "outputId": "84c2ca04-870c-4195-a754-2651d7f46d26"
      },
      "outputs": [
        {
          "data": {
            "text/plain": [
              "OrderedDict([('weights', tensor([0.3367])), ('bias', tensor([0.1288]))])"
            ]
          },
          "execution_count": 14,
          "metadata": {},
          "output_type": "execute_result"
        }
      ],
      "source": [
        "model_0.state_dict()"
      ]
    },
    {
      "cell_type": "code",
      "execution_count": null,
      "metadata": {
        "id": "cIFDedP2sWnT"
      },
      "outputs": [],
      "source": [
        "# inference mode turn off that gradient tracking beacuse when we are doing inference we are not doing training\n",
        "# so we don't need to keep track of the gradient . so we don't need to keep track of how we should update\n",
        "# our model . so inference mode disables all of the useful things that are available during training\n",
        "\n",
        "# It makes our code run faster\n",
        "\n",
        "# --> Making the prediction with the model\n",
        "\n",
        "with torch.inference_mode():\n",
        "  y_preds= model_0(X_test)\n",
        "\n",
        "\n",
        "\n",
        "# can also do like this\n",
        "\n",
        "# with torch.no_grad():\n",
        "#   y_pred = model_0(X_test)\n",
        "# y_pred"
      ]
    },
    {
      "cell_type": "code",
      "execution_count": null,
      "metadata": {
        "colab": {
          "base_uri": "https://localhost:8080/"
        },
        "id": "UuuV1HmH3O9f",
        "outputId": "a22c0a55-4e49-44ef-f988-490564ed34ac"
      },
      "outputs": [
        {
          "data": {
            "text/plain": [
              "tensor([[0.8600],\n",
              "        [0.8740],\n",
              "        [0.8880],\n",
              "        [0.9020],\n",
              "        [0.9160],\n",
              "        [0.9300],\n",
              "        [0.9440],\n",
              "        [0.9580],\n",
              "        [0.9720],\n",
              "        [0.9860]])"
            ]
          },
          "execution_count": 16,
          "metadata": {},
          "output_type": "execute_result"
        }
      ],
      "source": [
        "y_test"
      ]
    },
    {
      "cell_type": "code",
      "execution_count": null,
      "metadata": {
        "id": "IKsCJ0Mj7Szw"
      },
      "outputs": [],
      "source": [
        "# we can also do like this\n",
        "\n",
        "# y_pred = model_0(X_test)\n",
        "# y_pred"
      ]
    },
    {
      "cell_type": "markdown",
      "metadata": {
        "id": "Z7SlHNb07ovB"
      },
      "source": [
        "\n",
        "Hmm?\n",
        "\n",
        "You probably noticed we used torch.inference_mode() as a context manager (that's what the with torch.inference_mode(): is) to make the predictions.\n",
        "\n",
        "As the name suggests, torch.inference_mode() is used when using a model for inference (making predictions).\n",
        "\n",
        "torch.inference_mode() turns off a bunch of things (like gradient tracking, which is necessary for training but not for inference) to make forward-passes (data going through the forward() method) faster."
      ]
    },
    {
      "cell_type": "code",
      "execution_count": null,
      "metadata": {
        "colab": {
          "base_uri": "https://localhost:8080/",
          "height": 459
        },
        "id": "tI2ENlrp8FLX",
        "outputId": "c9457a28-92b5-4398-8415-ddc14df1a24f"
      },
      "outputs": [
        {
          "data": {
            "image/png": "[encoded data removed]",
            "text/plain": [
              "<Figure size 1000x700 with 1 Axes>"
            ]
          },
          "metadata": {},
          "output_type": "display_data"
        }
      ],
      "source": [
        "# plot the prediction\n",
        "\n",
        "plot_prediction(predictions=y_preds)"
      ]
    },
    {
      "cell_type": "markdown",
      "metadata": {
        "id": "DphwD7XX8bbK"
      },
      "source": [
        "## Train the model\n",
        "\n",
        "The whole idea of training is for a model to move from *unknown* parameters (these may be random) to some *known* parameters.and\n",
        "\n",
        "or in the other word from a poor reperesentation of the data to a better representation of the data\n",
        "\n",
        "One way to measure of how wrong our model predictions are we use the loss function.\n",
        "\n",
        "* Note: Loss function may also be called an error function or cost function or criterion\n",
        "\n",
        "### Things we need to train:\n",
        "* **Loss Function:** A function to measure how wromg your model's prediction are to the ideal output, lower id better.\n",
        "* **Optimizer:** Takes into account the loss of a model and adjusts the model's paramter(e.g. weight & bias)to improve the loss fucntion\n",
        "\n",
        "And specifically for PyTorch,we need:\n",
        "\n",
        "* A training loop\n",
        "* A testing loop\n",
        "\n",
        "More things :\n",
        "* `params` -The model paramteres you would like to optimize, for example in our case model_0 parameters\n",
        "\n",
        "* `lr (Learning Rate)`- The learning rate is a hyperparameter taht defines how big/small the optimizer changes the parameters with each step(a small lr resukt in small changes, a large lr results in large changes\n"
      ]
    },
    {
      "cell_type": "code",
      "execution_count": null,
      "metadata": {
        "id": "jkL940hjTwEi"
      },
      "outputs": [],
      "source": [
        "# Create the lossfunction\n",
        "\n",
        "loss_fn = nn.L1Loss() # MAE loss is same as the L1Loss\n",
        "\n",
        "# Create the optimizer\n",
        "optimizer = torch.optim.SGD (params = model_0.parameters() ,lr = 0.01)\n",
        "# learning rate (how much the optimizer should change parameters at each step ,higher=more(less stable) , lower=less(might take a long time))\n"
      ]
    },
    {
      "cell_type": "markdown",
      "metadata": {
        "id": "osJwEOsCa-9i"
      },
      "source": [
        "# Building a training loop (and a testing loop) in PyTorch\n",
        "\n",
        "A Couple of thing we need in a training loop:\n",
        "\n",
        "0. Loop through the data\n",
        "1. Forward pass(This involves data moving through our models `forward()` functions)to make predictions on propagation\n",
        "2. Calculate the loss(compare forward pass predictions to ground truth labels)\n",
        "3. optimizer zero grad\n",
        "4. Loss backward - move backwards through the network to calculate the gradients of each of the parameter of our model with respect to the loss (**backpropagation**)\n",
        "5. Optimizer step - use the optimizer to adjust our model's parameters to try and improve the loss (**gradient descent**)\n"
      ]
    },
    {
      "cell_type": "code",
      "execution_count": null,
      "metadata": {
        "colab": {
          "base_uri": "https://localhost:8080/"
        },
        "collapsed": true,
        "id": "comHEjZYdMNN",
        "outputId": "eef2ca3e-6185-4058-c153-88bb5169d479"
      },
      "outputs": [
        {
          "name": "stdout",
          "output_type": "stream",
          "text": [
            "Epoch: 0 | MAE Train Loss: 0.31288138031959534 | MAE Test Loss: 0.48106518387794495\n",
            "OrderedDict([('weights', tensor([0.3406])), ('bias', tensor([0.1388]))])\n",
            "Epoch: 10 | MAE Train Loss: 0.1976713240146637 | MAE Test Loss: 0.3463551998138428\n",
            "OrderedDict([('weights', tensor([0.3796])), ('bias', tensor([0.2388]))])\n",
            "Epoch: 20 | MAE Train Loss: 0.08908725529909134 | MAE Test Loss: 0.21729660034179688\n",
            "OrderedDict([('weights', tensor([0.4184])), ('bias', tensor([0.3333]))])\n",
            "Epoch: 30 | MAE Train Loss: 0.053148526698350906 | MAE Test Loss: 0.14464017748832703\n",
            "OrderedDict([('weights', tensor([0.4512])), ('bias', tensor([0.3768]))])\n",
            "Epoch: 40 | MAE Train Loss: 0.04543796554207802 | MAE Test Loss: 0.11360953003168106\n",
            "OrderedDict([('weights', tensor([0.4748])), ('bias', tensor([0.3868]))])\n",
            "Epoch: 50 | MAE Train Loss: 0.04167863354086876 | MAE Test Loss: 0.09919948130846024\n",
            "OrderedDict([('weights', tensor([0.4938])), ('bias', tensor([0.3843]))])\n",
            "Epoch: 60 | MAE Train Loss: 0.03818932920694351 | MAE Test Loss: 0.08886633068323135\n",
            "OrderedDict([('weights', tensor([0.5116])), ('bias', tensor([0.3788]))])\n",
            "Epoch: 70 | MAE Train Loss: 0.03476089984178543 | MAE Test Loss: 0.0805937647819519\n",
            "OrderedDict([('weights', tensor([0.5288])), ('bias', tensor([0.3718]))])\n",
            "Epoch: 80 | MAE Train Loss: 0.03132382780313492 | MAE Test Loss: 0.07232122868299484\n",
            "OrderedDict([('weights', tensor([0.5459])), ('bias', tensor([0.3648]))])\n",
            "Epoch: 90 | MAE Train Loss: 0.02788739837706089 | MAE Test Loss: 0.06473556160926819\n",
            "OrderedDict([('weights', tensor([0.5629])), ('bias', tensor([0.3573]))])\n",
            "Epoch: 100 | MAE Train Loss: 0.024458957836031914 | MAE Test Loss: 0.05646304413676262\n",
            "OrderedDict([('weights', tensor([0.5800])), ('bias', tensor([0.3503]))])\n",
            "Epoch: 110 | MAE Train Loss: 0.021020207554101944 | MAE Test Loss: 0.04819049686193466\n",
            "OrderedDict([('weights', tensor([0.5972])), ('bias', tensor([0.3433]))])\n",
            "Epoch: 120 | MAE Train Loss: 0.01758546568453312 | MAE Test Loss: 0.04060482233762741\n",
            "OrderedDict([('weights', tensor([0.6141])), ('bias', tensor([0.3358]))])\n",
            "Epoch: 130 | MAE Train Loss: 0.014155393466353416 | MAE Test Loss: 0.03233227878808975\n",
            "OrderedDict([('weights', tensor([0.6313])), ('bias', tensor([0.3288]))])\n",
            "Epoch: 140 | MAE Train Loss: 0.010716589167714119 | MAE Test Loss: 0.024059748277068138\n",
            "OrderedDict([('weights', tensor([0.6485])), ('bias', tensor([0.3218]))])\n",
            "Epoch: 150 | MAE Train Loss: 0.0072835334576666355 | MAE Test Loss: 0.016474086791276932\n",
            "OrderedDict([('weights', tensor([0.6654])), ('bias', tensor([0.3143]))])\n",
            "Epoch: 160 | MAE Train Loss: 0.0038517764769494534 | MAE Test Loss: 0.008201557211577892\n",
            "OrderedDict([('weights', tensor([0.6826])), ('bias', tensor([0.3073]))])\n",
            "Epoch: 170 | MAE Train Loss: 0.008932482451200485 | MAE Test Loss: 0.005023092031478882\n",
            "OrderedDict([('weights', tensor([0.6951])), ('bias', tensor([0.2993]))])\n",
            "Epoch: 180 | MAE Train Loss: 0.008932482451200485 | MAE Test Loss: 0.005023092031478882\n",
            "OrderedDict([('weights', tensor([0.6951])), ('bias', tensor([0.2993]))])\n",
            "Epoch: 190 | MAE Train Loss: 0.008932482451200485 | MAE Test Loss: 0.005023092031478882\n",
            "OrderedDict([('weights', tensor([0.6951])), ('bias', tensor([0.2993]))])\n"
          ]
        }
      ],
      "source": [
        "# An epoch is one loop through the data...(this is the hyperparameter because we have set it ourselves)\n",
        "epochs = 200\n",
        "\n",
        "# create empty loss lists to track values\n",
        "train_loss_values= []\n",
        "test_loss_values = []\n",
        "epoch_count = []\n",
        "\n",
        "\n",
        "# 0. Loop through the data\n",
        "for epoch in range(epochs):\n",
        "  # set the model to the trainig mode\n",
        "  model_0.train() # train mode in PyTorch sets all parameters that require gradients to require gradinets\n",
        "\n",
        "  # 1. Forward pass\n",
        "  y_pred = model_0(X_train)\n",
        "\n",
        "  #2. Calculate the loss\n",
        "  loss = loss_fn(y_pred,y_train)\n",
        "  # print(f\"Loss: {loss}\")\n",
        "  #3. optimizer zero grad\n",
        "  optimizer.zero_grad()\n",
        "\n",
        "  #4. Perform the backpropagation on the loss with respect to the parameters of the model\n",
        "  loss.backward()\n",
        "\n",
        "  #5. step the optimizer (perform gradinet descent)\n",
        "  optimizer.step() # by default how the optimizer changes will accumulate throught the loop so... we have to zero them above in the step 3\n",
        "\n",
        "  model_0.eval() # turns off the gradient tracking\n",
        "\n",
        "  with torch.inference_mode():\n",
        "    test_pred = model_0(X_test)\n",
        "\n",
        "    test_loss = loss_fn(test_pred , y_test.type(torch.float))\n",
        "\n",
        "    if epoch % 10 == 0:\n",
        "      epoch_count.append(epoch)\n",
        "      train_loss_values.append(loss)\n",
        "      test_loss_values.append(test_loss)\n",
        "      print(f\"Epoch: {epoch} | MAE Train Loss: {loss} | MAE Test Loss: {test_loss}\")\n",
        "      print(model_0.state_dict())\n",
        "\n",
        "\n",
        "\n"
      ]
    },
    {
      "cell_type": "code",
      "execution_count": null,
      "metadata": {
        "colab": {
          "base_uri": "https://localhost:8080/"
        },
        "id": "a0aVNW8em5EV",
        "outputId": "ec0aa198-4544-4159-8d79-19f419da1fd7"
      },
      "outputs": [
        {
          "data": {
            "text/plain": [
              "OrderedDict([('weights', tensor([0.6990])), ('bias', tensor([0.3093]))])"
            ]
          },
          "execution_count": 21,
          "metadata": {},
          "output_type": "execute_result"
        }
      ],
      "source": [
        "model_0.state_dict()"
      ]
    },
    {
      "cell_type": "code",
      "execution_count": null,
      "metadata": {
        "colab": {
          "base_uri": "https://localhost:8080/"
        },
        "id": "eLyy6SSXm0rl",
        "outputId": "d8fd065e-2774-4006-8de6-25790a27a048"
      },
      "outputs": [
        {
          "data": {
            "text/plain": [
              "OrderedDict([('weights', tensor([0.6990])), ('bias', tensor([0.3093]))])"
            ]
          },
          "execution_count": 22,
          "metadata": {},
          "output_type": "execute_result"
        }
      ],
      "source": [
        "model_0.state_dict()"
      ]
    },
    {
      "cell_type": "code",
      "execution_count": null,
      "metadata": {
        "colab": {
          "base_uri": "https://localhost:8080/",
          "height": 459
        },
        "id": "e6EM_OdbodCM",
        "outputId": "5e4492e4-30d9-4161-a76d-a2a74b38ebe6"
      },
      "outputs": [
        {
          "data": {
            "image/png": "[encoded data removed]",
            "text/plain": [
              "<Figure size 1000x700 with 1 Axes>"
            ]
          },
          "metadata": {},
          "output_type": "display_data"
        }
      ],
      "source": [
        "plot_prediction(predictions=y_preds)"
      ]
    },
    {
      "cell_type": "code",
      "execution_count": null,
      "metadata": {
        "colab": {
          "base_uri": "https://localhost:8080/",
          "height": 459
        },
        "id": "6imeAc50oiim",
        "outputId": "b1d282a8-e7ea-4854-a21d-b7897651e817"
      },
      "outputs": [
        {
          "data": {
            "image/png": "[encoded data removed]",
            "text/plain": [
              "<Figure size 1000x700 with 1 Axes>"
            ]
          },
          "metadata": {},
          "output_type": "display_data"
        }
      ],
      "source": [
        "plot_prediction(predictions=test_pred)"
      ]
    },
    {
      "cell_type": "code",
      "execution_count": null,
      "metadata": {
        "colab": {
          "base_uri": "https://localhost:8080/"
        },
        "id": "SjgKRWJUiNjo",
        "outputId": "f91e2675-bdec-4510-83d1-33dd8618383b"
      },
      "outputs": [
        {
          "data": {
            "text/plain": [
              "([tensor(0.3129, grad_fn=<MeanBackward0>),\n",
              "  tensor(0.1977, grad_fn=<MeanBackward0>),\n",
              "  tensor(0.0891, grad_fn=<MeanBackward0>),\n",
              "  tensor(0.0531, grad_fn=<MeanBackward0>),\n",
              "  tensor(0.0454, grad_fn=<MeanBackward0>),\n",
              "  tensor(0.0417, grad_fn=<MeanBackward0>),\n",
              "  tensor(0.0382, grad_fn=<MeanBackward0>),\n",
              "  tensor(0.0348, grad_fn=<MeanBackward0>),\n",
              "  tensor(0.0313, grad_fn=<MeanBackward0>),\n",
              "  tensor(0.0279, grad_fn=<MeanBackward0>),\n",
              "  tensor(0.0245, grad_fn=<MeanBackward0>),\n",
              "  tensor(0.0210, grad_fn=<MeanBackward0>),\n",
              "  tensor(0.0176, grad_fn=<MeanBackward0>),\n",
              "  tensor(0.0142, grad_fn=<MeanBackward0>),\n",
              "  tensor(0.0107, grad_fn=<MeanBackward0>),\n",
              "  tensor(0.0073, grad_fn=<MeanBackward0>),\n",
              "  tensor(0.0039, grad_fn=<MeanBackward0>),\n",
              "  tensor(0.0089, grad_fn=<MeanBackward0>),\n",
              "  tensor(0.0089, grad_fn=<MeanBackward0>),\n",
              "  tensor(0.0089, grad_fn=<MeanBackward0>)],\n",
              " [tensor(0.4811),\n",
              "  tensor(0.3464),\n",
              "  tensor(0.2173),\n",
              "  tensor(0.1446),\n",
              "  tensor(0.1136),\n",
              "  tensor(0.0992),\n",
              "  tensor(0.0889),\n",
              "  tensor(0.0806),\n",
              "  tensor(0.0723),\n",
              "  tensor(0.0647),\n",
              "  tensor(0.0565),\n",
              "  tensor(0.0482),\n",
              "  tensor(0.0406),\n",
              "  tensor(0.0323),\n",
              "  tensor(0.0241),\n",
              "  tensor(0.0165),\n",
              "  tensor(0.0082),\n",
              "  tensor(0.0050),\n",
              "  tensor(0.0050),\n",
              "  tensor(0.0050)])"
            ]
          },
          "execution_count": 25,
          "metadata": {},
          "output_type": "execute_result"
        }
      ],
      "source": [
        "train_loss_values , test_loss_values"
      ]
    },
    {
      "cell_type": "code",
      "execution_count": null,
      "metadata": {
        "colab": {
          "base_uri": "https://localhost:8080/",
          "height": 468
        },
        "id": "y3KWTpPepSzq",
        "outputId": "0129720e-df9b-42d8-f009-e0e6c0ceddb7"
      },
      "outputs": [
        {
          "data": {
            "text/plain": [
              "<matplotlib.legend.Legend at 0x7fc0fa265750>"
            ]
          },
          "execution_count": 26,
          "metadata": {},
          "output_type": "execute_result"
        },
        {
          "data": {
            "image/png": "[encoded data removed]",
            "text/plain": [
              "<Figure size 640x480 with 1 Axes>"
            ]
          },
          "metadata": {},
          "output_type": "display_data"
        }
      ],
      "source": [
        "# Plot the loss curves.\n",
        "import numpy as np\n",
        "plt.plot(epoch_count , np.array(torch.tensor(train_loss_values).numpy()) ,color = 'g' , label = 'Train Loss')\n",
        "plt.plot(epoch_count , np.array(torch.tensor(test_loss_values).numpy()) , color = 'r' , label = 'Test Loss_values')\n",
        "plt.xlabel('epochs')\n",
        "plt.ylabel('Loss values')\n",
        "\n",
        "plt.legend()"
      ]
    },
    {
      "cell_type": "markdown",
      "metadata": {
        "id": "-nditjs5XiqJ"
      },
      "source": [
        "# Saving a pyTorch model's `state_dict()`"
      ]
    },
    {
      "cell_type": "code",
      "execution_count": null,
      "metadata": {
        "colab": {
          "base_uri": "https://localhost:8080/"
        },
        "id": "yO75i6PXQ4p3",
        "outputId": "bbae2490-87cb-4d8d-c7cf-a9c37328d4a8"
      },
      "outputs": [
        {
          "name": "stdout",
          "output_type": "stream",
          "text": [
            "Saving model to: models/01_pytorch_workflow_model.pth\n"
          ]
        }
      ],
      "source": [
        "from pathlib import Path\n",
        "\n",
        "# 1. Create a models directory\n",
        "model_path = Path('models')\n",
        "model_path.mkdir(parents=True , exist_ok =True)\n",
        "\n",
        "# 2. Create a model save path\n",
        "model_name = \"01_pytorch_workflow_model.pth\"\n",
        "model_save_path = model_path / model_name\n",
        "\n",
        "# 3. save the model state\n",
        "print(f\"Saving model to: {model_save_path}\")\n",
        "torch.save(obj=model_0.state_dict() , f=model_save_path)"
      ]
    },
    {
      "cell_type": "code",
      "execution_count": null,
      "metadata": {
        "colab": {
          "base_uri": "https://localhost:8080/"
        },
        "id": "t3nOB5BUWfZ-",
        "outputId": "a66cdc45-40f6-4656-d4bb-b0e7070fca26"
      },
      "outputs": [
        {
          "name": "stdout",
          "output_type": "stream",
          "text": [
            "-rw-r--r-- 1 root root 1668 Oct 23 16:12 models/01_pytorch_workflow_model.pth\n"
          ]
        }
      ],
      "source": [
        "!ls -l models/01_pytorch_workflow_model.pth\n"
      ]
    },
    {
      "cell_type": "markdown",
      "metadata": {
        "id": "iH_FomheXeVz"
      },
      "source": [
        "# Loading a PyTorch model\n",
        "\n",
        "since we saved our model's `state_dict()` rather than entire model,we'll create a new instance of our model class and load the saved `state_dict` into that"
      ]
    },
    {
      "cell_type": "code",
      "execution_count": null,
      "metadata": {
        "colab": {
          "base_uri": "https://localhost:8080/"
        },
        "id": "FP4lDv-bJwxW",
        "outputId": "cb4defc7-5c1c-49e7-e27c-181a3a444790"
      },
      "outputs": [
        {
          "name": "stderr",
          "output_type": "stream",
          "text": [
            "<ipython-input-36-6908c22ce468>:5: FutureWarning: You are using `torch.load` with `weights_only=False` (the current default value), which uses the default pickle module implicitly. It is possible to construct malicious pickle data which will execute arbitrary code during unpickling (See https://github.com/pytorch/pytorch/blob/main/SECURITY.md#untrusted-models for more details). In a future release, the default value for `weights_only` will be flipped to `True`. This limits the functions that could be executed during unpickling. Arbitrary objects will no longer be allowed to be loaded via this mode unless they are explicitly allowlisted by the user via `torch.serialization.add_safe_globals`. We recommend you start setting `weights_only=True` for any use case where you don't have full control of the loaded file. Please open an issue on GitHub for any issues related to this experimental feature.\n",
            "  loaded_model_0.load_state_dict(torch.load(f=model_save_path))\n"
          ]
        },
        {
          "data": {
            "text/plain": [
              "<All keys matched successfully>"
            ]
          },
          "execution_count": 36,
          "metadata": {},
          "output_type": "execute_result"
        }
      ],
      "source": [
        "torch.manual_seed(42)\n",
        "# To load in a saved state_dict we have to instantiate a new instance of our model class\n",
        "loaded_model_0 = LinearRegressionModel()\n",
        "# load the saved state_dict of model_0 (this will update the new instance with updated parameter)\n",
        "loaded_model_0.load_state_dict(torch.load(f=model_save_path))"
      ]
    },
    {
      "cell_type": "code",
      "execution_count": null,
      "metadata": {
        "colab": {
          "base_uri": "https://localhost:8080/"
        },
        "id": "0Yu_AkGqJ2Ap",
        "outputId": "e4ba2589-103b-488b-9bad-556419017cc1"
      },
      "outputs": [
        {
          "data": {
            "text/plain": [
              "OrderedDict([('weights', tensor([0.6990])), ('bias', tensor([0.3093]))])"
            ]
          },
          "execution_count": 31,
          "metadata": {},
          "output_type": "execute_result"
        }
      ],
      "source": [
        "model_0.state_dict()"
      ]
    },
    {
      "cell_type": "code",
      "execution_count": null,
      "metadata": {
        "colab": {
          "base_uri": "https://localhost:8080/"
        },
        "id": "LrST4ypiKFKd",
        "outputId": "930610b2-00aa-49e7-a921-2c02859f61f6"
      },
      "outputs": [
        {
          "data": {
            "text/plain": [
              "OrderedDict([('weights', tensor([0.6990])), ('bias', tensor([0.3093]))])"
            ]
          },
          "execution_count": 37,
          "metadata": {},
          "output_type": "execute_result"
        }
      ],
      "source": [
        "loaded_model_0.state_dict()"
      ]
    },
    {
      "cell_type": "code",
      "execution_count": null,
      "metadata": {
        "colab": {
          "base_uri": "https://localhost:8080/"
        },
        "id": "T2F4dRTrKNEq",
        "outputId": "dcceffa3-82bd-42a2-f62e-7c8a4a5e2c43"
      },
      "outputs": [
        {
          "data": {
            "text/plain": [
              "tensor([[0.8685],\n",
              "        [0.8825],\n",
              "        [0.8965],\n",
              "        [0.9105],\n",
              "        [0.9245],\n",
              "        [0.9384],\n",
              "        [0.9524],\n",
              "        [0.9664],\n",
              "        [0.9804],\n",
              "        [0.9944]])"
            ]
          },
          "execution_count": 38,
          "metadata": {},
          "output_type": "execute_result"
        }
      ],
      "source": [
        "# make some predictions with our model\n",
        "\n",
        "loaded_model_0.eval()\n",
        "with torch.inference_mode():\n",
        "  loaded_model_preds = loaded_model_0(X_test)\n",
        "\n",
        "loaded_model_preds"
      ]
    },
    {
      "cell_type": "code",
      "execution_count": null,
      "metadata": {
        "colab": {
          "base_uri": "https://localhost:8080/"
        },
        "id": "ZDX0Sd6RL2kB",
        "outputId": "a6f01373-359c-4c1a-ebcd-cd95526d2225"
      },
      "outputs": [
        {
          "data": {
            "text/plain": [
              "tensor([[0.8685],\n",
              "        [0.8825],\n",
              "        [0.8965],\n",
              "        [0.9105],\n",
              "        [0.9245],\n",
              "        [0.9384],\n",
              "        [0.9524],\n",
              "        [0.9664],\n",
              "        [0.9804],\n",
              "        [0.9944]])"
            ]
          },
          "execution_count": 39,
          "metadata": {},
          "output_type": "execute_result"
        }
      ],
      "source": [
        "model_0.eval()\n",
        "with torch.inference_mode() :\n",
        "  y_preds = model_0(X_test)\n",
        "y_preds"
      ]
    },
    {
      "cell_type": "code",
      "execution_count": null,
      "metadata": {
        "colab": {
          "background_save": true,
          "base_uri": "https://localhost:8080/"
        },
        "id": "DufevDMuMHtW",
        "outputId": "1d8ae820-008a-459a-d5d4-0ea00ef68418"
      },
      "outputs": [
        {
          "data": {
            "text/plain": [
              "tensor([[True],\n",
              "        [True],\n",
              "        [True],\n",
              "        [True],\n",
              "        [True],\n",
              "        [True],\n",
              "        [True],\n",
              "        [True],\n",
              "        [True],\n",
              "        [True]])"
            ]
          },
          "execution_count": 34,
          "metadata": {},
          "output_type": "execute_result"
        }
      ],
      "source": [
        "y_preds == loaded_model_preds"
      ]
    },
    {
      "cell_type": "markdown",
      "source": [
        "# Putting every thing together of the workflow topic"
      ],
      "metadata": {
        "id": "D-pVEquhMLw0"
      }
    },
    {
      "cell_type": "code",
      "source": [
        "# imports the necessary libraries like pytorch , numpy and matplotlib\n",
        "\n",
        "import torch\n",
        "from torch import nn\n",
        "import matplotlib.pyplot as plt\n",
        "\n",
        "# checking the pytorch version we are currently using\n",
        "torch.__version__"
      ],
      "metadata": {
        "colab": {
          "base_uri": "https://localhost:8080/",
          "height": 35
        },
        "id": "Pk9gqNb6ytQq",
        "outputId": "aab65d48-734a-4aec-812e-f0db80fadde8"
      },
      "execution_count": null,
      "outputs": [
        {
          "output_type": "execute_result",
          "data": {
            "text/plain": [
              "'2.5.0+cu121'"
            ],
            "application/vnd.google.colaboratory.intrinsic+json": {
              "type": "string"
            }
          },
          "metadata": {},
          "execution_count": 1
        }
      ]
    },
    {
      "cell_type": "markdown",
      "source": [
        "# Creating the device agnostic code"
      ],
      "metadata": {
        "id": "UN_U0ahL0RL8"
      }
    },
    {
      "cell_type": "code",
      "source": [
        "device = 'cuda' if torch.cuda.is_available() else 'cpu'\n",
        "print(device)"
      ],
      "metadata": {
        "colab": {
          "base_uri": "https://localhost:8080/"
        },
        "id": "JHUcgMFq0l8S",
        "outputId": "6b32969b-664c-45c1-b4a5-1a8b2d772899"
      },
      "execution_count": null,
      "outputs": [
        {
          "output_type": "stream",
          "name": "stdout",
          "text": [
            "cuda\n"
          ]
        }
      ]
    },
    {
      "cell_type": "markdown",
      "source": [
        "# Creating the data"
      ],
      "metadata": {
        "id": "jakkvTST2tUB"
      }
    },
    {
      "cell_type": "code",
      "source": [
        "weight = 0.7\n",
        "bias = 0.3\n",
        "\n",
        "start = 0\n",
        "end  = 1\n",
        "step = 0.02\n",
        "\n",
        "X = torch.arange(start , end,step).unsqueeze(dim = 1)\n",
        "y = weight * X + bias"
      ],
      "metadata": {
        "id": "FPiQNBNX3ScJ"
      },
      "execution_count": null,
      "outputs": []
    },
    {
      "cell_type": "code",
      "source": [
        "print(X[:10])"
      ],
      "metadata": {
        "colab": {
          "base_uri": "https://localhost:8080/"
        },
        "id": "KtcKKkEw3l8R",
        "outputId": "6f4dc3fc-11e1-485b-9e6b-3e8092990c14"
      },
      "execution_count": null,
      "outputs": [
        {
          "output_type": "stream",
          "name": "stdout",
          "text": [
            "tensor([[0.0000],\n",
            "        [0.0200],\n",
            "        [0.0400],\n",
            "        [0.0600],\n",
            "        [0.0800],\n",
            "        [0.1000],\n",
            "        [0.1200],\n",
            "        [0.1400],\n",
            "        [0.1600],\n",
            "        [0.1800]])\n"
          ]
        }
      ]
    },
    {
      "cell_type": "markdown",
      "source": [
        "# Splitting the data set"
      ],
      "metadata": {
        "id": "J-7L-zTd3rDv"
      }
    },
    {
      "cell_type": "code",
      "source": [
        "test_split = int(0.8 * len(X))\n",
        "X_train , y_train = X[:test_split] , y[:test_split]\n",
        "X_test , y_test = X[test_split:] , y[test_split:]\n"
      ],
      "metadata": {
        "id": "XqZyXuGj349p"
      },
      "execution_count": null,
      "outputs": []
    },
    {
      "cell_type": "code",
      "source": [
        "print(X_train.shape,'-->' , y_train.shape)"
      ],
      "metadata": {
        "colab": {
          "base_uri": "https://localhost:8080/"
        },
        "id": "hR-s0S0A4Nmk",
        "outputId": "b7b5c2e8-0526-4db0-d1d0-9b13ddd14e9f"
      },
      "execution_count": null,
      "outputs": [
        {
          "output_type": "stream",
          "name": "stdout",
          "text": [
            "torch.Size([40, 1]) --> torch.Size([40, 1])\n"
          ]
        }
      ]
    },
    {
      "cell_type": "code",
      "source": [
        "print(y_test.shape)"
      ],
      "metadata": {
        "colab": {
          "base_uri": "https://localhost:8080/"
        },
        "id": "XVzwESTL4U9E",
        "outputId": "ead00bed-0bad-4708-ee4f-759a7af4219e"
      },
      "execution_count": null,
      "outputs": [
        {
          "output_type": "stream",
          "name": "stdout",
          "text": [
            "torch.Size([10, 1])\n"
          ]
        }
      ]
    },
    {
      "cell_type": "markdown",
      "source": [
        "# Plot the data"
      ],
      "metadata": {
        "id": "BPiUC4Sn4qK3"
      }
    },
    {
      "cell_type": "code",
      "source": [
        "plot_prediction()"
      ],
      "metadata": {
        "colab": {
          "base_uri": "https://localhost:8080/",
          "height": 497
        },
        "id": "a5pwSj5J490h",
        "outputId": "75b9e4f9-577b-4bf9-95ad-016a180cfd15"
      },
      "execution_count": null,
      "outputs": [
        {
          "output_type": "display_data",
          "data": {
            "text/plain": [
              "<Figure size 1000x700 with 1 Axes>"
            ],
            "image/png": "[encoded data removed]"
          },
          "metadata": {}
        }
      ]
    },
    {
      "cell_type": "markdown",
      "source": [
        "# Building the pytorch linear model"
      ],
      "metadata": {
        "id": "OR1vDGrO5Lna"
      }
    },
    {
      "cell_type": "code",
      "source": [
        "class LinearRegressionModelV2(nn.Module) :\n",
        "  def __init__(self) :\n",
        "    super().__init__()\n",
        "    # use nn.Linear() for cerating the models parameters\n",
        "    self.linear_layer = nn.Linear(in_features=1 , out_features = 1) # this means we take an input of size (1) and take an output of the size (1)\n",
        "    # (x -> y) in the mapping of the x and y\n",
        "\n",
        "  def forward (self , x:torch.Tensor) -> torch.Tensor :\n",
        "    return self.linear_layer(x)\n",
        "\n",
        "# setting the manual seed\n",
        "\n",
        "torch.manual_seed(42)\n",
        "model_1 = LinearRegressionModelV2()\n",
        "\n",
        "# checking the model state dictionary\n",
        "\n",
        "model_1.state_dict()\n"
      ],
      "metadata": {
        "colab": {
          "base_uri": "https://localhost:8080/"
        },
        "id": "9jyYkcPj5pIK",
        "outputId": "cec6b44c-19e9-493f-eebd-e4990b5b3b4b"
      },
      "execution_count": null,
      "outputs": [
        {
          "output_type": "execute_result",
          "data": {
            "text/plain": [
              "OrderedDict([('linear_layer.weight', tensor([[0.7645]])),\n",
              "             ('linear_layer.bias', tensor([0.8300]))])"
            ]
          },
          "metadata": {},
          "execution_count": 12
        }
      ]
    },
    {
      "cell_type": "markdown",
      "source": [],
      "metadata": {
        "id": "D03qrC0g6OTY"
      }
    },
    {
      "cell_type": "code",
      "source": [
        "# checking the model current device\n",
        "next(model_1.parameters()).device"
      ],
      "metadata": {
        "colab": {
          "base_uri": "https://localhost:8080/"
        },
        "id": "bwHckWV29mlx",
        "outputId": "1f753a3f-270b-4546-9284-861d42d40b2e"
      },
      "execution_count": null,
      "outputs": [
        {
          "output_type": "execute_result",
          "data": {
            "text/plain": [
              "device(type='cpu')"
            ]
          },
          "metadata": {},
          "execution_count": 13
        }
      ]
    },
    {
      "cell_type": "code",
      "source": [
        "model_1.to(device)  # (to) sends the models to the gpu memory\n",
        "next(model_1.parameters()).device"
      ],
      "metadata": {
        "colab": {
          "base_uri": "https://localhost:8080/"
        },
        "id": "MvNnN-y_9dca",
        "outputId": "44aae2c7-09ba-4729-89eb-6bb35467edde"
      },
      "execution_count": null,
      "outputs": [
        {
          "output_type": "execute_result",
          "data": {
            "text/plain": [
              "device(type='cuda', index=0)"
            ]
          },
          "metadata": {},
          "execution_count": 14
        }
      ]
    },
    {
      "cell_type": "markdown",
      "source": [
        "# Training the model\n",
        "**For this we need the**\n",
        "- Loss function\n",
        "- optimizer"
      ],
      "metadata": {
        "id": "Dpq9GDTS-kAw"
      }
    },
    {
      "cell_type": "code",
      "source": [
        "loss_function = nn.L1Loss()  # L1Loss () is same as the MAE loss\n",
        "optimizer = torch.optim.SGD(params = model_1.parameters() , lr = 0.01)\n"
      ],
      "metadata": {
        "id": "6xe5ojFr-_Kn"
      },
      "execution_count": null,
      "outputs": []
    },
    {
      "cell_type": "code",
      "source": [
        "# Now creating the trainig loop\n",
        "\n",
        "torch.manual_seed(42)\n",
        "epochs = 200\n",
        "\n",
        "# we dont put the data to the gpu its on the cpu so we have to write the devoce agnostic code to move to the target device\n",
        "X_train = X_train.to(device)\n",
        "y_train = y_train.to(device)\n",
        "X_test = X_test.to(device)\n",
        "y_test = y_test.to(device)\n",
        "for epoch in range (epochs) :\n",
        "  model_1.train()\n",
        "\n",
        "  y_preds = model_1(X_train)\n",
        "\n",
        "  loss  = loss_function(y_preds, y_train)\n",
        "\n",
        "  optimizer.zero_grad()\n",
        "\n",
        "  loss.backward()\n",
        "\n",
        "  optimizer.step()  # enable the gradient descent to better represent the data by adjusting the parameters\n",
        "\n",
        "\n",
        "# Testing the model\n",
        "\n",
        "  model_1.eval()\n",
        "  with torch.inference_mode() :\n",
        "    test_preds = model_1(X_test)\n",
        "    test_loss = loss_function(test_preds , y_test)\n",
        "\n",
        "  if epoch % 10 == 0  :\n",
        "    print(f\"Epoch: {epoch} | MAE Train Loss: {loss} | MAE Test Loss: {test_loss}\")"
      ],
      "metadata": {
        "colab": {
          "base_uri": "https://localhost:8080/"
        },
        "id": "Zv6LU5-z_azW",
        "outputId": "21c2a742-14c1-4cdc-ce60-de2592dc3196"
      },
      "execution_count": null,
      "outputs": [
        {
          "output_type": "stream",
          "name": "stdout",
          "text": [
            "Epoch: 0 | MAE Train Loss: 0.5551779866218567 | MAE Test Loss: 0.5739762187004089\n",
            "Epoch: 10 | MAE Train Loss: 0.439968079328537 | MAE Test Loss: 0.4392664134502411\n",
            "Epoch: 20 | MAE Train Loss: 0.3247582018375397 | MAE Test Loss: 0.30455657839775085\n",
            "Epoch: 30 | MAE Train Loss: 0.20954833924770355 | MAE Test Loss: 0.16984669864177704\n",
            "Epoch: 40 | MAE Train Loss: 0.09433845430612564 | MAE Test Loss: 0.03513690456748009\n",
            "Epoch: 50 | MAE Train Loss: 0.023886388167738914 | MAE Test Loss: 0.04784907028079033\n",
            "Epoch: 60 | MAE Train Loss: 0.019956795498728752 | MAE Test Loss: 0.045803118497133255\n",
            "Epoch: 70 | MAE Train Loss: 0.016517987474799156 | MAE Test Loss: 0.037530567497015\n",
            "Epoch: 80 | MAE Train Loss: 0.013089174404740334 | MAE Test Loss: 0.02994490973651409\n",
            "Epoch: 90 | MAE Train Loss: 0.009653178043663502 | MAE Test Loss: 0.02167237363755703\n",
            "Epoch: 100 | MAE Train Loss: 0.006215683650225401 | MAE Test Loss: 0.014086711220443249\n",
            "Epoch: 110 | MAE Train Loss: 0.00278724217787385 | MAE Test Loss: 0.005814164876937866\n",
            "Epoch: 120 | MAE Train Loss: 0.0012645035749301314 | MAE Test Loss: 0.013801801018416882\n",
            "Epoch: 130 | MAE Train Loss: 0.0012645035749301314 | MAE Test Loss: 0.013801801018416882\n",
            "Epoch: 140 | MAE Train Loss: 0.0012645035749301314 | MAE Test Loss: 0.013801801018416882\n",
            "Epoch: 150 | MAE Train Loss: 0.0012645035749301314 | MAE Test Loss: 0.013801801018416882\n",
            "Epoch: 160 | MAE Train Loss: 0.0012645035749301314 | MAE Test Loss: 0.013801801018416882\n",
            "Epoch: 170 | MAE Train Loss: 0.0012645035749301314 | MAE Test Loss: 0.013801801018416882\n",
            "Epoch: 180 | MAE Train Loss: 0.0012645035749301314 | MAE Test Loss: 0.013801801018416882\n",
            "Epoch: 190 | MAE Train Loss: 0.0012645035749301314 | MAE Test Loss: 0.013801801018416882\n"
          ]
        }
      ]
    },
    {
      "cell_type": "code",
      "source": [
        "model_1.state_dict()"
      ],
      "metadata": {
        "colab": {
          "base_uri": "https://localhost:8080/"
        },
        "id": "OYoED5YuB4GD",
        "outputId": "0deae8e5-71d0-4013-d0fc-9f02f40debde"
      },
      "execution_count": null,
      "outputs": [
        {
          "output_type": "execute_result",
          "data": {
            "text/plain": [
              "OrderedDict([('linear_layer.weight', tensor([[0.6968]], device='cuda:0')),\n",
              "             ('linear_layer.bias', tensor([0.3025], device='cuda:0'))])"
            ]
          },
          "metadata": {},
          "execution_count": 18
        }
      ]
    },
    {
      "cell_type": "code",
      "source": [
        "import numpy as np\n",
        "# matplotlib works with the numpy and numpy not run on the cuda so we have to turn our prediction back to cpu form making the plot\n",
        "plot_prediction(predictions = test_preds.cpu())"
      ],
      "metadata": {
        "colab": {
          "base_uri": "https://localhost:8080/",
          "height": 497
        },
        "id": "lH6-k7kqDCWv",
        "outputId": "6f409d3c-c6e1-4188-a966-d2cde364ae56"
      },
      "execution_count": null,
      "outputs": [
        {
          "output_type": "display_data",
          "data": {
            "text/plain": [
              "<Figure size 1000x700 with 1 Axes>"
            ],
            "image/png": "[encoded data removed]"
          },
          "metadata": {}
        }
      ]
    },
    {
      "cell_type": "markdown",
      "source": [
        "# Loading and saving the load model"
      ],
      "metadata": {
        "id": "UiWI7GXWDSc6"
      }
    },
    {
      "cell_type": "code",
      "source": [
        "from pathlib import Path\n",
        "\n",
        "model_path = Path('model')\n",
        "model_path.mkdir(parents=True , exist_ok = True)\n",
        "\n",
        "model_name = '02_PYTORCH_PRACTICE.pth'\n",
        "model_saved_path = model_path / model_name\n",
        "\n",
        "# saving the model\n",
        "torch.save(obj = model_1.state_dict() , f = model_saved_path)"
      ],
      "metadata": {
        "id": "mAOG6KI7E6ST"
      },
      "execution_count": null,
      "outputs": []
    },
    {
      "cell_type": "code",
      "source": [
        "# Loading the model\n",
        "\n",
        "loaded_model = LinearRegressionModelV2()\n",
        "loaded_model.load_state_dict(torch.load(f=model_saved_path))\n",
        "loaded_model.to(device)"
      ],
      "metadata": {
        "colab": {
          "base_uri": "https://localhost:8080/"
        },
        "id": "eGlpLDCWFqoT",
        "outputId": "4ba3860c-1a5c-4112-c7b0-58580bfe83e6"
      },
      "execution_count": null,
      "outputs": [
        {
          "output_type": "stream",
          "name": "stderr",
          "text": [
            "<ipython-input-31-e3fe83845895>:4: FutureWarning: You are using `torch.load` with `weights_only=False` (the current default value), which uses the default pickle module implicitly. It is possible to construct malicious pickle data which will execute arbitrary code during unpickling (See https://github.com/pytorch/pytorch/blob/main/SECURITY.md#untrusted-models for more details). In a future release, the default value for `weights_only` will be flipped to `True`. This limits the functions that could be executed during unpickling. Arbitrary objects will no longer be allowed to be loaded via this mode unless they are explicitly allowlisted by the user via `torch.serialization.add_safe_globals`. We recommend you start setting `weights_only=True` for any use case where you don't have full control of the loaded file. Please open an issue on GitHub for any issues related to this experimental feature.\n",
            "  loaded_model.load_state_dict(torch.load(f=model_saved_path))\n"
          ]
        },
        {
          "output_type": "execute_result",
          "data": {
            "text/plain": [
              "LinearRegressionModelV2(\n",
              "  (linear_layer): Linear(in_features=1, out_features=1, bias=True)\n",
              ")"
            ]
          },
          "metadata": {},
          "execution_count": 31
        }
      ]
    },
    {
      "cell_type": "code",
      "source": [
        "loaded_model.state_dict()"
      ],
      "metadata": {
        "colab": {
          "base_uri": "https://localhost:8080/"
        },
        "id": "L4EhjfbSGt9D",
        "outputId": "4af383c6-b097-4447-ac28-56e0a308b110"
      },
      "execution_count": null,
      "outputs": [
        {
          "output_type": "execute_result",
          "data": {
            "text/plain": [
              "OrderedDict([('linear_layer.weight', tensor([[0.6968]], device='cuda:0')),\n",
              "             ('linear_layer.bias', tensor([0.3025], device='cuda:0'))])"
            ]
          },
          "metadata": {},
          "execution_count": 32
        }
      ]
    },
    {
      "cell_type": "code",
      "source": [
        "loaded_model.eval()"
      ],
      "metadata": {
        "colab": {
          "base_uri": "https://localhost:8080/"
        },
        "id": "W9NFfuayHSk3",
        "outputId": "b4c8a09c-ea12-4363-ab2c-062d3eb2f09f"
      },
      "execution_count": null,
      "outputs": [
        {
          "output_type": "execute_result",
          "data": {
            "text/plain": [
              "LinearRegressionModelV2(\n",
              "  (linear_layer): Linear(in_features=1, out_features=1, bias=True)\n",
              ")"
            ]
          },
          "metadata": {},
          "execution_count": 33
        }
      ]
    },
    {
      "cell_type": "code",
      "source": [
        "with torch.inference_mode() :\n",
        "  preds = loaded_model(X_test)"
      ],
      "metadata": {
        "id": "O4oo5rEyHWWw"
      },
      "execution_count": null,
      "outputs": []
    },
    {
      "cell_type": "code",
      "source": [
        "test_preds == preds"
      ],
      "metadata": {
        "colab": {
          "base_uri": "https://localhost:8080/"
        },
        "id": "bcLDHEMtH6LI",
        "outputId": "c189b55d-9b40-40f6-b6de-2f6afbb0fe0a"
      },
      "execution_count": null,
      "outputs": [
        {
          "output_type": "execute_result",
          "data": {
            "text/plain": [
              "tensor([[True],\n",
              "        [True],\n",
              "        [True],\n",
              "        [True],\n",
              "        [True],\n",
              "        [True],\n",
              "        [True],\n",
              "        [True],\n",
              "        [True],\n",
              "        [True]], device='cuda:0')"
            ]
          },
          "metadata": {},
          "execution_count": 36
        }
      ]
    },
    {
      "cell_type": "code",
      "source": [],
      "metadata": {
        "id": "EVMe9HGzH-tM"
      },
      "execution_count": null,
      "outputs": []
    }
  ],
  "metadata": {
    "colab": {
      "provenance": [],
      "gpuType": "T4"
    },
    "kernelspec": {
      "display_name": "Python 3",
      "name": "python3"
    },
    "language_info": {
      "name": "python"
    },
    "accelerator": "GPU"
  },
  "nbformat": 4,
  "nbformat_minor": 0
}