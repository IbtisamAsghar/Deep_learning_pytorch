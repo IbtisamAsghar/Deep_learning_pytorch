{
  "nbformat": 4,
  "nbformat_minor": 0,
  "metadata": {
    "colab": {
      "provenance": [],
      "toc_visible": true
    },
    "kernelspec": {
      "name": "python3",
      "display_name": "Python 3"
    },
    "language_info": {
      "name": "python"
    }
  },
  "cells": [
    {
      "cell_type": "code",
      "execution_count": null,
      "metadata": {
        "colab": {
          "base_uri": "https://localhost:8080/"
        },
        "id": "9ISNip6TFxGs",
        "outputId": "dbe54737-c48b-4161-8762-0f318de5b588"
      },
      "outputs": [
        {
          "output_type": "stream",
          "name": "stdout",
          "text": [
            "2.4.1+cu121\n"
          ]
        }
      ],
      "source": [
        "import torch\n",
        "import pandas as pd\n",
        "import numpy as np\n",
        "import matplotlib.pyplot as plt\n",
        "print(torch.__version__)"
      ]
    },
    {
      "cell_type": "markdown",
      "source": [
        "# Introduction to Tensors\n",
        "\n",
        "## Creating a tensors"
      ],
      "metadata": {
        "id": "zVOLayH7I5tY"
      }
    },
    {
      "cell_type": "code",
      "source": [
        "# Scalar\n",
        "\n",
        "scalar = torch.tensor(7)\n",
        "scalar"
      ],
      "metadata": {
        "colab": {
          "base_uri": "https://localhost:8080/"
        },
        "id": "QsB-1MzBLKJh",
        "outputId": "d434d193-828a-4393-de24-8f46f1fe39ee"
      },
      "execution_count": null,
      "outputs": [
        {
          "output_type": "execute_result",
          "data": {
            "text/plain": [
              "tensor(7)"
            ]
          },
          "metadata": {},
          "execution_count": 2
        }
      ]
    },
    {
      "cell_type": "code",
      "source": [
        "# checking the dimensions of the tenssors\n",
        "scalar.ndim"
      ],
      "metadata": {
        "colab": {
          "base_uri": "https://localhost:8080/"
        },
        "id": "-QxxvO--MECo",
        "outputId": "784b712a-788e-4d27-a6e9-5e44eb59defc"
      },
      "execution_count": null,
      "outputs": [
        {
          "output_type": "execute_result",
          "data": {
            "text/plain": [
              "0"
            ]
          },
          "metadata": {},
          "execution_count": 3
        }
      ]
    },
    {
      "cell_type": "code",
      "source": [
        "# Get back the tensor as the python integer\n",
        "scalar.item()"
      ],
      "metadata": {
        "colab": {
          "base_uri": "https://localhost:8080/"
        },
        "id": "hkTLMxEmLV8L",
        "outputId": "c6b5fa78-f40b-49b4-83f9-4bddd1460027"
      },
      "execution_count": null,
      "outputs": [
        {
          "output_type": "execute_result",
          "data": {
            "text/plain": [
              "7"
            ]
          },
          "metadata": {},
          "execution_count": 4
        }
      ]
    },
    {
      "cell_type": "code",
      "source": [
        "# vector reprsentation\n",
        "\n",
        "# The number of the square bracket also tell us the number of the dimesnions\n",
        "vector = torch.tensor([4,5,6])\n"
      ],
      "metadata": {
        "id": "2_v0oDMQSRcC"
      },
      "execution_count": null,
      "outputs": []
    },
    {
      "cell_type": "code",
      "source": [
        "vector.ndim"
      ],
      "metadata": {
        "colab": {
          "base_uri": "https://localhost:8080/"
        },
        "id": "K_auRM6GSeJ7",
        "outputId": "f99a8348-b63a-46bc-9190-fbd87f877a24"
      },
      "execution_count": null,
      "outputs": [
        {
          "output_type": "execute_result",
          "data": {
            "text/plain": [
              "1"
            ]
          },
          "metadata": {},
          "execution_count": 6
        }
      ]
    },
    {
      "cell_type": "code",
      "source": [
        "vector.shape"
      ],
      "metadata": {
        "colab": {
          "base_uri": "https://localhost:8080/"
        },
        "id": "EMrfdB0fSfbo",
        "outputId": "7102bf7c-0331-42e5-ecc0-07c944467325"
      },
      "execution_count": null,
      "outputs": [
        {
          "output_type": "execute_result",
          "data": {
            "text/plain": [
              "torch.Size([3])"
            ]
          },
          "metadata": {},
          "execution_count": 7
        }
      ]
    },
    {
      "cell_type": "code",
      "source": [
        "# MATRIX Representaion\n",
        "\n",
        "MATRIX = torch.tensor([[1,2],[3,4]])\n",
        "MATRIX"
      ],
      "metadata": {
        "colab": {
          "base_uri": "https://localhost:8080/"
        },
        "id": "Srdn0grHShBT",
        "outputId": "cfb61d8e-02ec-4dbb-d4d4-11fef608bef4"
      },
      "execution_count": null,
      "outputs": [
        {
          "output_type": "execute_result",
          "data": {
            "text/plain": [
              "tensor([[1, 2],\n",
              "        [3, 4]])"
            ]
          },
          "metadata": {},
          "execution_count": 8
        }
      ]
    },
    {
      "cell_type": "code",
      "source": [
        "MATRIX.ndim"
      ],
      "metadata": {
        "colab": {
          "base_uri": "https://localhost:8080/"
        },
        "id": "26l9K1luTjGq",
        "outputId": "aa43b71b-96b2-4674-a071-07b5cde9fc3e"
      },
      "execution_count": null,
      "outputs": [
        {
          "output_type": "execute_result",
          "data": {
            "text/plain": [
              "2"
            ]
          },
          "metadata": {},
          "execution_count": 9
        }
      ]
    },
    {
      "cell_type": "code",
      "source": [
        "# Takind the element from the 0th index\n",
        "MATRIX[0]"
      ],
      "metadata": {
        "colab": {
          "base_uri": "https://localhost:8080/"
        },
        "id": "cBLt2dI_Tmdw",
        "outputId": "269b2bf4-3176-4a25-928d-85b8d1129c2a"
      },
      "execution_count": null,
      "outputs": [
        {
          "output_type": "execute_result",
          "data": {
            "text/plain": [
              "tensor([1, 2])"
            ]
          },
          "metadata": {},
          "execution_count": 10
        }
      ]
    },
    {
      "cell_type": "code",
      "source": [
        "MATRIX.shape"
      ],
      "metadata": {
        "colab": {
          "base_uri": "https://localhost:8080/"
        },
        "id": "DTQf6CocTu_9",
        "outputId": "b8e56797-5179-44fe-feb4-b9a2b01a7a0f"
      },
      "execution_count": null,
      "outputs": [
        {
          "output_type": "execute_result",
          "data": {
            "text/plain": [
              "torch.Size([2, 2])"
            ]
          },
          "metadata": {},
          "execution_count": 11
        }
      ]
    },
    {
      "cell_type": "code",
      "source": [
        "# 3D Matrix tensor\n",
        "\n",
        "Tensors = torch.tensor([[[1,2,3],\n",
        "                         [4,5,6],\n",
        "                         [7,8,9]]])\n",
        "\n",
        "Tensors"
      ],
      "metadata": {
        "colab": {
          "base_uri": "https://localhost:8080/"
        },
        "id": "mkoPMAqUT9Sb",
        "outputId": "72c471c5-2df6-4757-f1ab-dc964515c47a"
      },
      "execution_count": null,
      "outputs": [
        {
          "output_type": "execute_result",
          "data": {
            "text/plain": [
              "tensor([[[1, 2, 3],\n",
              "         [4, 5, 6],\n",
              "         [7, 8, 9]]])"
            ]
          },
          "metadata": {},
          "execution_count": 12
        }
      ]
    },
    {
      "cell_type": "code",
      "source": [
        "Tensors.ndim"
      ],
      "metadata": {
        "colab": {
          "base_uri": "https://localhost:8080/"
        },
        "id": "fDcrXnVeVRnY",
        "outputId": "22023d53-100c-4fe3-95d1-de99a662a3c9"
      },
      "execution_count": null,
      "outputs": [
        {
          "output_type": "execute_result",
          "data": {
            "text/plain": [
              "3"
            ]
          },
          "metadata": {},
          "execution_count": 13
        }
      ]
    },
    {
      "cell_type": "code",
      "source": [
        "Tensors.shape"
      ],
      "metadata": {
        "colab": {
          "base_uri": "https://localhost:8080/"
        },
        "id": "emqoQ9MbVTsM",
        "outputId": "84bae98a-0033-4289-9319-d3e70597bd8a"
      },
      "execution_count": null,
      "outputs": [
        {
          "output_type": "execute_result",
          "data": {
            "text/plain": [
              "torch.Size([1, 3, 3])"
            ]
          },
          "metadata": {},
          "execution_count": 14
        }
      ]
    },
    {
      "cell_type": "code",
      "source": [
        "Tensors = torch.tensor(\n",
        "    [\n",
        "      [\n",
        "        [\n",
        "            [[1,2,3],\n",
        "             [4,5,6],\n",
        "             [7,8,9],\n",
        "             [10,11,12]]\n",
        "            ]\n",
        "        ]\n",
        "    ]\n",
        ")\n"
      ],
      "metadata": {
        "id": "K-8-GOmkVVmh"
      },
      "execution_count": null,
      "outputs": []
    },
    {
      "cell_type": "code",
      "source": [
        "Tensors.shape"
      ],
      "metadata": {
        "colab": {
          "base_uri": "https://localhost:8080/"
        },
        "id": "fxw9JbY0Wn_N",
        "outputId": "74348de4-a42a-4dda-c5b8-b90bef3598df"
      },
      "execution_count": null,
      "outputs": [
        {
          "output_type": "execute_result",
          "data": {
            "text/plain": [
              "torch.Size([1, 1, 1, 4, 3])"
            ]
          },
          "metadata": {},
          "execution_count": 16
        }
      ]
    },
    {
      "cell_type": "code",
      "source": [
        "Tensors.ndim"
      ],
      "metadata": {
        "colab": {
          "base_uri": "https://localhost:8080/"
        },
        "id": "wmS-Q8jPWuDk",
        "outputId": "e65c2a42-6ffa-4015-f87e-8973abf5a4d9"
      },
      "execution_count": null,
      "outputs": [
        {
          "output_type": "execute_result",
          "data": {
            "text/plain": [
              "5"
            ]
          },
          "metadata": {},
          "execution_count": 17
        }
      ]
    },
    {
      "cell_type": "markdown",
      "source": [
        "# Random Tensors\n",
        "\n",
        "### Why random tensors?\n",
        "#### Random tensors are important beacuse the way many neural networks learn is that they start with tensors full of random numbers and then adjust those random numbers to better represent the data\n",
        "\n",
        "` start with random numbers -> look at data ->update the random numbers -> look at data -> update random numbers -> for the better representaion`"
      ],
      "metadata": {
        "id": "BhxCGDcLXkHW"
      }
    },
    {
      "cell_type": "code",
      "source": [
        "# Creating the random tensors\n",
        "\n",
        "random_tensor = torch.rand(1,1,4,4)\n",
        "random_tensor"
      ],
      "metadata": {
        "colab": {
          "base_uri": "https://localhost:8080/"
        },
        "id": "45s0ccOJZuHj",
        "outputId": "8246064e-6bb6-4d9b-d75c-58fae129087e"
      },
      "execution_count": null,
      "outputs": [
        {
          "output_type": "execute_result",
          "data": {
            "text/plain": [
              "tensor([[[[6.6707e-02, 2.0235e-01, 5.8477e-01, 3.8978e-01],\n",
              "          [9.1053e-01, 2.4550e-01, 7.1191e-01, 4.2125e-01],\n",
              "          [2.8527e-04, 4.1557e-01, 7.4619e-01, 5.4858e-01],\n",
              "          [6.7583e-01, 7.9663e-01, 7.8859e-02, 3.1859e-01]]]])"
            ]
          },
          "metadata": {},
          "execution_count": 18
        }
      ]
    },
    {
      "cell_type": "code",
      "source": [
        "random_tensor.shape"
      ],
      "metadata": {
        "colab": {
          "base_uri": "https://localhost:8080/"
        },
        "id": "WajlO5ugZ5tz",
        "outputId": "8d6ad30e-5182-4a5f-8ce0-5255dbbc0369"
      },
      "execution_count": null,
      "outputs": [
        {
          "output_type": "execute_result",
          "data": {
            "text/plain": [
              "torch.Size([1, 1, 4, 4])"
            ]
          },
          "metadata": {},
          "execution_count": 19
        }
      ]
    },
    {
      "cell_type": "code",
      "source": [
        "random_tensor.ndim"
      ],
      "metadata": {
        "colab": {
          "base_uri": "https://localhost:8080/"
        },
        "id": "xUMSspIwZ_Z7",
        "outputId": "c3b1aa1a-b16f-4a31-ef06-54a028ba7bec"
      },
      "execution_count": null,
      "outputs": [
        {
          "output_type": "execute_result",
          "data": {
            "text/plain": [
              "4"
            ]
          },
          "metadata": {},
          "execution_count": 20
        }
      ]
    },
    {
      "cell_type": "code",
      "source": [
        "# Creating the random tensors with similar to an image tensor\n",
        "\n",
        "random_image_size_tensor = torch.rand(size=(244,244,3)) # height , width , channel (red,green,blue)\n",
        "random_image_size_tensor.shape"
      ],
      "metadata": {
        "colab": {
          "base_uri": "https://localhost:8080/"
        },
        "id": "gh_x3wD1aE27",
        "outputId": "572a5df8-b794-4d0f-d162-27eb941502a1"
      },
      "execution_count": null,
      "outputs": [
        {
          "output_type": "execute_result",
          "data": {
            "text/plain": [
              "torch.Size([244, 244, 3])"
            ]
          },
          "metadata": {},
          "execution_count": 21
        }
      ]
    },
    {
      "cell_type": "code",
      "source": [
        "random_image_size_tensor.ndim"
      ],
      "metadata": {
        "colab": {
          "base_uri": "https://localhost:8080/"
        },
        "id": "E9FedLO3b8mj",
        "outputId": "54f5ce90-0b7a-4058-ff86-bcbc341271ec"
      },
      "execution_count": null,
      "outputs": [
        {
          "output_type": "execute_result",
          "data": {
            "text/plain": [
              "3"
            ]
          },
          "metadata": {},
          "execution_count": 22
        }
      ]
    },
    {
      "cell_type": "code",
      "source": [
        "# Creating a tensors of all Zeros\n",
        "\n",
        "all_zeros_tensors = torch.zeros(3,4)"
      ],
      "metadata": {
        "id": "C-t4puAVcASM"
      },
      "execution_count": null,
      "outputs": []
    },
    {
      "cell_type": "code",
      "source": [
        "all_zeros_tensors , all_zeros_tensors.shape"
      ],
      "metadata": {
        "colab": {
          "base_uri": "https://localhost:8080/"
        },
        "id": "lGXgoCR9rzj2",
        "outputId": "85eaf5e1-832f-4742-b8c0-9c5f6a23371d"
      },
      "execution_count": null,
      "outputs": [
        {
          "output_type": "execute_result",
          "data": {
            "text/plain": [
              "(tensor([[0., 0., 0., 0.],\n",
              "         [0., 0., 0., 0.],\n",
              "         [0., 0., 0., 0.]]),\n",
              " torch.Size([3, 4]))"
            ]
          },
          "metadata": {},
          "execution_count": 24
        }
      ]
    },
    {
      "cell_type": "code",
      "source": [
        "all_zeros_tensors.dtype"
      ],
      "metadata": {
        "colab": {
          "base_uri": "https://localhost:8080/"
        },
        "id": "znEKAOzWr2JB",
        "outputId": "17019fce-122a-4e1e-8ca7-c23c496e7e2d"
      },
      "execution_count": null,
      "outputs": [
        {
          "output_type": "execute_result",
          "data": {
            "text/plain": [
              "torch.float32"
            ]
          },
          "metadata": {},
          "execution_count": 25
        }
      ]
    },
    {
      "cell_type": "code",
      "source": [
        "# Creating a tensors with all ones\n",
        "all_ones_tensor = torch.ones(3,4)\n",
        "all_ones_tensor"
      ],
      "metadata": {
        "colab": {
          "base_uri": "https://localhost:8080/"
        },
        "id": "Ra0gI46ssDQx",
        "outputId": "4f10c078-b62f-4715-80d2-149cdb839632"
      },
      "execution_count": null,
      "outputs": [
        {
          "output_type": "execute_result",
          "data": {
            "text/plain": [
              "tensor([[1., 1., 1., 1.],\n",
              "        [1., 1., 1., 1.],\n",
              "        [1., 1., 1., 1.]])"
            ]
          },
          "metadata": {},
          "execution_count": 26
        }
      ]
    },
    {
      "cell_type": "markdown",
      "source": [
        "# Creating a range of tensors and tensors-like"
      ],
      "metadata": {
        "id": "QRYGPwYgsUBV"
      }
    },
    {
      "cell_type": "code",
      "source": [
        "# use torch.range()\n",
        "\n",
        "one_to_ten = torch.arange(0,11,1) # start , end , step\n",
        "one_to_ten"
      ],
      "metadata": {
        "colab": {
          "base_uri": "https://localhost:8080/"
        },
        "id": "Vb4lw3YPtAIa",
        "outputId": "aebd9f2d-62a1-4345-dc7f-ae8f734f95a2"
      },
      "execution_count": null,
      "outputs": [
        {
          "output_type": "execute_result",
          "data": {
            "text/plain": [
              "tensor([ 0,  1,  2,  3,  4,  5,  6,  7,  8,  9, 10])"
            ]
          },
          "metadata": {},
          "execution_count": 27
        }
      ]
    },
    {
      "cell_type": "code",
      "source": [
        "ten_zeros = torch.zeros_like(input=one_to_ten)\n",
        "ten_zeros"
      ],
      "metadata": {
        "colab": {
          "base_uri": "https://localhost:8080/"
        },
        "id": "DpmS9aV2tIHc",
        "outputId": "50d4867b-6211-4cb9-bae8-276129ca28e9"
      },
      "execution_count": null,
      "outputs": [
        {
          "output_type": "execute_result",
          "data": {
            "text/plain": [
              "tensor([0, 0, 0, 0, 0, 0, 0, 0, 0, 0, 0])"
            ]
          },
          "metadata": {},
          "execution_count": 28
        }
      ]
    },
    {
      "cell_type": "markdown",
      "source": [
        "# Tensors Datatypes\n",
        "**Note** : Tensor datatypes is one if the 3 big errors will run into with pTorch & Deep learning\n",
        "\n",
        "\n",
        "1.   Tensor not right datatype\n",
        "2.   Tensor not right shape\n",
        "3.   Tensors not on the right device\n",
        "\n",
        "\n",
        "\n",
        "\n",
        "\n"
      ],
      "metadata": {
        "id": "AEl63Un-2ECG"
      }
    },
    {
      "cell_type": "code",
      "source": [
        "# these three are the important paramter while creating the tensors but pytorch take care it\n",
        "\n",
        "# here the flaot 32bit means the computer precision\n",
        "\n",
        "float_32_tensor = torch.tensor([3,4,5,6] ,\n",
        "                               dtype= torch.float32, # what datatype is the tensor (e.g float32 or float16)\n",
        "                               device = None, # What device is your tensor on\n",
        "                               requires_grad= False # wheather or not to track the gradients with this tensor operations\n",
        "                               )\n",
        "float_32_tensor\n"
      ],
      "metadata": {
        "colab": {
          "base_uri": "https://localhost:8080/"
        },
        "id": "yPMHZzRm4ZMG",
        "outputId": "acb4bf9a-38ef-4a10-c045-b1b7aaa5efdd"
      },
      "execution_count": null,
      "outputs": [
        {
          "output_type": "execute_result",
          "data": {
            "text/plain": [
              "tensor([3., 4., 5., 6.])"
            ]
          },
          "metadata": {},
          "execution_count": 29
        }
      ]
    },
    {
      "cell_type": "code",
      "source": [
        "float_32_tensor.dtype"
      ],
      "metadata": {
        "colab": {
          "base_uri": "https://localhost:8080/"
        },
        "id": "EgG-uib87pPw",
        "outputId": "45ee2d1a-77f4-4743-bd34-05b6ab3d3d73"
      },
      "execution_count": null,
      "outputs": [
        {
          "output_type": "execute_result",
          "data": {
            "text/plain": [
              "torch.float32"
            ]
          },
          "metadata": {},
          "execution_count": 30
        }
      ]
    },
    {
      "cell_type": "code",
      "source": [
        "float_16_tensor = float_32_tensor.type(torch.float16)\n",
        "float_16_tensor.dtype"
      ],
      "metadata": {
        "colab": {
          "base_uri": "https://localhost:8080/"
        },
        "id": "K9dWozHB7lWv",
        "outputId": "3e8a4b79-1331-4549-a855-8e324f0f4f95"
      },
      "execution_count": null,
      "outputs": [
        {
          "output_type": "execute_result",
          "data": {
            "text/plain": [
              "torch.float16"
            ]
          },
          "metadata": {},
          "execution_count": 31
        }
      ]
    },
    {
      "cell_type": "code",
      "source": [
        "# Multiply the tensors of the data type 16 and 32\n",
        "\n",
        "float_16_tensor * float_32_tensor"
      ],
      "metadata": {
        "id": "0b9wSHU59JyW",
        "colab": {
          "base_uri": "https://localhost:8080/"
        },
        "outputId": "e363e27e-3045-4ad1-c6dc-8ac40f612749"
      },
      "execution_count": null,
      "outputs": [
        {
          "output_type": "execute_result",
          "data": {
            "text/plain": [
              "tensor([ 9., 16., 25., 36.])"
            ]
          },
          "metadata": {},
          "execution_count": 32
        }
      ]
    },
    {
      "cell_type": "code",
      "source": [
        "# multiplying the tensor if 16/32 with zero/one tensor\n",
        "float_16_tensor * all_ones_tensor[0]"
      ],
      "metadata": {
        "colab": {
          "base_uri": "https://localhost:8080/"
        },
        "id": "ElkmfOEds_T7",
        "outputId": "f167d889-223b-4630-ba05-78fccd393d89"
      },
      "execution_count": null,
      "outputs": [
        {
          "output_type": "execute_result",
          "data": {
            "text/plain": [
              "tensor([3., 4., 5., 6.])"
            ]
          },
          "metadata": {},
          "execution_count": 33
        }
      ]
    },
    {
      "cell_type": "code",
      "source": [
        "# creating the int32bit tensor\n",
        "\n",
        "int_32_tensor = torch.tensor([3,4,5,6],dtype=torch.int32)\n",
        "int_32_tensor"
      ],
      "metadata": {
        "colab": {
          "base_uri": "https://localhost:8080/"
        },
        "id": "w5KBuYzBt9ak",
        "outputId": "81b20878-d55b-4e2c-d183-2774747e407e"
      },
      "execution_count": null,
      "outputs": [
        {
          "output_type": "execute_result",
          "data": {
            "text/plain": [
              "tensor([3, 4, 5, 6], dtype=torch.int32)"
            ]
          },
          "metadata": {},
          "execution_count": 34
        }
      ]
    },
    {
      "cell_type": "code",
      "source": [
        "# multipling the 32bit fload and integer\n",
        "float_32_tensor * int_32_tensor"
      ],
      "metadata": {
        "colab": {
          "base_uri": "https://localhost:8080/"
        },
        "id": "2sg60OzcvGI_",
        "outputId": "06a27510-045b-4a38-d625-e2944b0b5088"
      },
      "execution_count": null,
      "outputs": [
        {
          "output_type": "execute_result",
          "data": {
            "text/plain": [
              "tensor([ 9., 16., 25., 36.])"
            ]
          },
          "metadata": {},
          "execution_count": 35
        }
      ]
    },
    {
      "cell_type": "markdown",
      "source": [
        "## Getting information from tensors\n",
        "#### Three Common issues in building neural and deep learning models\n",
        "1. Tensor not right datatype - to do get datatype from a tensor, can use `tensor.dtype `\n",
        "2. Tensor not right shape - to do get shape from a tensor, can use `tensor.shape`\n",
        "3. Tensors not on the right device - to do get device from a tensor, can use `tensor.device`"
      ],
      "metadata": {
        "id": "w9FPiYYTvKnn"
      }
    },
    {
      "cell_type": "code",
      "source": [
        "# creating a some tensor and getting information out of it\n",
        "\n",
        "some_tensor = torch.rand(3,3)\n",
        "some_tensor"
      ],
      "metadata": {
        "colab": {
          "base_uri": "https://localhost:8080/"
        },
        "id": "GHOqg1oUwv0e",
        "outputId": "81e0f777-164a-4ac5-fc8a-1b4dbd04747c"
      },
      "execution_count": null,
      "outputs": [
        {
          "output_type": "execute_result",
          "data": {
            "text/plain": [
              "tensor([[0.3683, 0.9662, 0.0049],\n",
              "        [0.4096, 0.3358, 0.2286],\n",
              "        [0.1276, 0.6214, 0.6079]])"
            ]
          },
          "metadata": {},
          "execution_count": 36
        }
      ]
    },
    {
      "cell_type": "code",
      "source": [
        "print(some_tensor)\n",
        "print(some_tensor.dtype)\n",
        "print(some_tensor.shape)\n",
        "print(some_tensor.device)"
      ],
      "metadata": {
        "colab": {
          "base_uri": "https://localhost:8080/"
        },
        "id": "l4v7hV0czJu3",
        "outputId": "ec547424-9c65-444a-fba2-1c438b0e6a0a"
      },
      "execution_count": null,
      "outputs": [
        {
          "output_type": "stream",
          "name": "stdout",
          "text": [
            "tensor([[0.3683, 0.9662, 0.0049],\n",
            "        [0.4096, 0.3358, 0.2286],\n",
            "        [0.1276, 0.6214, 0.6079]])\n",
            "torch.float32\n",
            "torch.Size([3, 3])\n",
            "cpu\n"
          ]
        }
      ]
    },
    {
      "cell_type": "markdown",
      "source": [
        "## Manipulating tensors (tensir Operations)\n",
        "\n",
        "In deep learning, data (images, text, video, audio, protein structures, etc) gets represented as tensors.\n",
        "\n",
        "A model learns by investigating those tensors and performing a series of operations (could be 1,000,000s+) on tensors to create a representation of the patterns in the input data.\n",
        "And these operations are often a wonderful dance between:\n",
        "\n",
        "* Addition\n",
        "* Substraction\n",
        "* Multiplication (element-wise)\n",
        "* Division\n",
        "* Matrix multiplication"
      ],
      "metadata": {
        "id": "9A47MaW4zwii"
      }
    },
    {
      "cell_type": "code",
      "source": [
        "# Create a tensor of values and add number to it\n",
        "tensor =  torch.tensor([1,2,3])\n",
        "tensor + 10"
      ],
      "metadata": {
        "colab": {
          "base_uri": "https://localhost:8080/"
        },
        "id": "KUoTdNM_PVVl",
        "outputId": "08d8c9a2-8193-41b0-f1da-5d2b293355d6"
      },
      "execution_count": null,
      "outputs": [
        {
          "output_type": "execute_result",
          "data": {
            "text/plain": [
              "tensor([11, 12, 13])"
            ]
          },
          "metadata": {},
          "execution_count": 38
        }
      ]
    },
    {
      "cell_type": "code",
      "source": [
        "# subtracting a number from it\n",
        "tensor - 10"
      ],
      "metadata": {
        "colab": {
          "base_uri": "https://localhost:8080/"
        },
        "id": "sVdRiZrWPisd",
        "outputId": "193717a1-fdeb-461c-8edf-b4fac2bf52ce"
      },
      "execution_count": null,
      "outputs": [
        {
          "output_type": "execute_result",
          "data": {
            "text/plain": [
              "tensor([-9, -8, -7])"
            ]
          },
          "metadata": {},
          "execution_count": 39
        }
      ]
    },
    {
      "cell_type": "code",
      "source": [
        "# multiplying the tensor with the 10\n",
        "tensor * 10"
      ],
      "metadata": {
        "colab": {
          "base_uri": "https://localhost:8080/"
        },
        "id": "xIXUXTkLPqUb",
        "outputId": "cc662459-d8fe-486e-dc46-280ba8b49192"
      },
      "execution_count": null,
      "outputs": [
        {
          "output_type": "execute_result",
          "data": {
            "text/plain": [
              "tensor([10, 20, 30])"
            ]
          },
          "metadata": {},
          "execution_count": 40
        }
      ]
    },
    {
      "cell_type": "markdown",
      "source": [
        "#### Python also have built in function for this type of multiplication like `torch.mul()` and many other"
      ],
      "metadata": {
        "id": "H0eBCy1EPxsB"
      }
    },
    {
      "cell_type": "code",
      "source": [
        "torch.mul(tensor,10)"
      ],
      "metadata": {
        "colab": {
          "base_uri": "https://localhost:8080/"
        },
        "id": "-SKtZIA_QG-1",
        "outputId": "6a384312-e0a6-4cb9-d55b-88acf146c86d"
      },
      "execution_count": null,
      "outputs": [
        {
          "output_type": "execute_result",
          "data": {
            "text/plain": [
              "tensor([10, 20, 30])"
            ]
          },
          "metadata": {},
          "execution_count": 41
        }
      ]
    },
    {
      "cell_type": "code",
      "source": [
        "# see more built in functions\n",
        "\n",
        "torch.add(tensor,3)"
      ],
      "metadata": {
        "colab": {
          "base_uri": "https://localhost:8080/"
        },
        "id": "layJCZy2QOVu",
        "outputId": "26cbc6a3-cabe-4ce4-81a8-ab6d858f523a"
      },
      "execution_count": null,
      "outputs": [
        {
          "output_type": "execute_result",
          "data": {
            "text/plain": [
              "tensor([4, 5, 6])"
            ]
          },
          "metadata": {},
          "execution_count": 42
        }
      ]
    },
    {
      "cell_type": "code",
      "source": [
        "torch.div(tensor,2)"
      ],
      "metadata": {
        "colab": {
          "base_uri": "https://localhost:8080/"
        },
        "id": "JZ_-ncjuROxB",
        "outputId": "81844aa8-9905-4b48-a88e-500324d5683d"
      },
      "execution_count": null,
      "outputs": [
        {
          "output_type": "execute_result",
          "data": {
            "text/plain": [
              "tensor([0.5000, 1.0000, 1.5000])"
            ]
          },
          "metadata": {},
          "execution_count": 43
        }
      ]
    },
    {
      "cell_type": "code",
      "source": [
        "print(tensor * tensor)\n"
      ],
      "metadata": {
        "colab": {
          "base_uri": "https://localhost:8080/"
        },
        "id": "wafYIEK_RX-g",
        "outputId": "6ce0e3d4-f255-46fa-b024-a5fedf66e73c"
      },
      "execution_count": null,
      "outputs": [
        {
          "output_type": "stream",
          "name": "stdout",
          "text": [
            "tensor([1, 4, 9])\n"
          ]
        }
      ]
    },
    {
      "cell_type": "code",
      "source": [
        "print(torch.matmul(tensor,tensor))\n"
      ],
      "metadata": {
        "colab": {
          "base_uri": "https://localhost:8080/"
        },
        "id": "cCU5iW4MnWiH",
        "outputId": "480b9f21-ec83-481e-b220-70b874b11670"
      },
      "execution_count": null,
      "outputs": [
        {
          "output_type": "stream",
          "name": "stdout",
          "text": [
            "tensor(14)\n"
          ]
        }
      ]
    },
    {
      "cell_type": "markdown",
      "source": [
        "# Matrix Multiplication\n",
        "\n",
        "one of the most important deep learning and machine learning operation(like neural networks) is matrix multiplication.\n",
        "\n",
        "Pytorch implements matrix multiplication functionality in the `torch.matmul()` method.\n",
        "\n",
        "The two main rules for the matrix multiplication to remember are\n",
        "\n",
        "1. The **inner dimensions** must match:\n",
        "* (3, 2) @ (3, 2) won't work\n",
        "* (2, 3) @ (3, 2) will work\n",
        "* (3, 2) @ (2, 3) will work\n",
        "\n",
        "2. The resulting matrix has the shape of the outer dimensions:\n",
        "* (2, 3) @ (3, 2) -> (2, 2)\n",
        "* (3, 2) @ (2, 3) -> (3, 3)\n",
        "Note: \"@\" in Python is the symbol for matrix multiplication.\n",
        "\n",
        "Resource: You can see all of the rules for matrix multiplication using torch.matmul() in the PyTorch documentation."
      ],
      "metadata": {
        "id": "V54NRIQ9Rlna"
      }
    },
    {
      "cell_type": "code",
      "source": [
        "torch.matmul(torch.rand(2,3),torch.rand(2,3))"
      ],
      "metadata": {
        "colab": {
          "base_uri": "https://localhost:8080/",
          "height": 141
        },
        "id": "ZZCh4tk4v_1I",
        "outputId": "a00509da-dfe7-42ad-c27e-4050a8ab1b7c"
      },
      "execution_count": null,
      "outputs": [
        {
          "output_type": "error",
          "ename": "RuntimeError",
          "evalue": "mat1 and mat2 shapes cannot be multiplied (2x3 and 2x3)",
          "traceback": [
            "\u001b[0;31m---------------------------------------------------------------------------\u001b[0m",
            "\u001b[0;31mRuntimeError\u001b[0m                              Traceback (most recent call last)",
            "\u001b[0;32m<ipython-input-46-b8e15577b0f8>\u001b[0m in \u001b[0;36m<cell line: 1>\u001b[0;34m()\u001b[0m\n\u001b[0;32m----> 1\u001b[0;31m \u001b[0mtorch\u001b[0m\u001b[0;34m.\u001b[0m\u001b[0mmatmul\u001b[0m\u001b[0;34m(\u001b[0m\u001b[0mtorch\u001b[0m\u001b[0;34m.\u001b[0m\u001b[0mrand\u001b[0m\u001b[0;34m(\u001b[0m\u001b[0;36m2\u001b[0m\u001b[0;34m,\u001b[0m\u001b[0;36m3\u001b[0m\u001b[0;34m)\u001b[0m\u001b[0;34m,\u001b[0m\u001b[0mtorch\u001b[0m\u001b[0;34m.\u001b[0m\u001b[0mrand\u001b[0m\u001b[0;34m(\u001b[0m\u001b[0;36m2\u001b[0m\u001b[0;34m,\u001b[0m\u001b[0;36m3\u001b[0m\u001b[0;34m)\u001b[0m\u001b[0;34m)\u001b[0m\u001b[0;34m\u001b[0m\u001b[0;34m\u001b[0m\u001b[0m\n\u001b[0m",
            "\u001b[0;31mRuntimeError\u001b[0m: mat1 and mat2 shapes cannot be multiplied (2x3 and 2x3)"
          ]
        }
      ]
    },
    {
      "cell_type": "code",
      "source": [
        "torch.matmul(torch.rand(3,2),torch.rand(2,3))\n",
        "\n",
        "# instead of matmul we can also use the {@} --> but recommended way is to use the { matmul() }"
      ],
      "metadata": {
        "id": "vTiSiWzETDpG",
        "colab": {
          "base_uri": "https://localhost:8080/"
        },
        "outputId": "eb64d03e-0dbb-4e6e-cbbc-23d6bd06fbd9"
      },
      "execution_count": null,
      "outputs": [
        {
          "output_type": "execute_result",
          "data": {
            "text/plain": [
              "tensor([[0.2457, 1.0541, 0.8178],\n",
              "        [0.0881, 0.7811, 0.1962],\n",
              "        [0.2126, 0.3564, 0.8412]])"
            ]
          },
          "metadata": {},
          "execution_count": 47
        }
      ]
    },
    {
      "cell_type": "code",
      "source": [
        "torch.matmul(torch.rand(10,10),torch.rand(10,10)).shape"
      ],
      "metadata": {
        "colab": {
          "base_uri": "https://localhost:8080/"
        },
        "id": "WGe-fijRwLmV",
        "outputId": "5d5f410a-87e7-4527-8f2c-e80985fe9db3"
      },
      "execution_count": null,
      "outputs": [
        {
          "output_type": "execute_result",
          "data": {
            "text/plain": [
              "torch.Size([10, 10])"
            ]
          },
          "metadata": {},
          "execution_count": 48
        }
      ]
    },
    {
      "cell_type": "markdown",
      "source": [
        "# One of the most common error in the deep learning: Shape Errors"
      ],
      "metadata": {
        "id": "qpm6oypqw6pt"
      }
    },
    {
      "cell_type": "code",
      "source": [
        "# shapes for the matrix multiplication\n",
        "tensor_A = torch.tensor([[1,2],\n",
        "                        [3,4],\n",
        "                        [5,6]])\n",
        "\n",
        "tensor_B = torch.tensor([[1,2],\n",
        "                         [3,4],\n",
        "                         [5,6]])\n",
        "\n",
        "mul = torch.matmul(tensor_A,tensor_B) #  we can also wirte (mm) --> instead of matmul\n",
        "print(mul)"
      ],
      "metadata": {
        "colab": {
          "base_uri": "https://localhost:8080/",
          "height": 193
        },
        "id": "SUPVm-8pxvFx",
        "outputId": "9bb623f3-53d6-4de9-b0ed-638fde6dff14"
      },
      "execution_count": null,
      "outputs": [
        {
          "output_type": "error",
          "ename": "RuntimeError",
          "evalue": "mat1 and mat2 shapes cannot be multiplied (3x2 and 3x2)",
          "traceback": [
            "\u001b[0;31m---------------------------------------------------------------------------\u001b[0m",
            "\u001b[0;31mRuntimeError\u001b[0m                              Traceback (most recent call last)",
            "\u001b[0;32m<ipython-input-49-aa934bd451fa>\u001b[0m in \u001b[0;36m<cell line: 10>\u001b[0;34m()\u001b[0m\n\u001b[1;32m      8\u001b[0m                          [5,6]])\n\u001b[1;32m      9\u001b[0m \u001b[0;34m\u001b[0m\u001b[0m\n\u001b[0;32m---> 10\u001b[0;31m \u001b[0mmul\u001b[0m \u001b[0;34m=\u001b[0m \u001b[0mtorch\u001b[0m\u001b[0;34m.\u001b[0m\u001b[0mmatmul\u001b[0m\u001b[0;34m(\u001b[0m\u001b[0mtensor_A\u001b[0m\u001b[0;34m,\u001b[0m\u001b[0mtensor_B\u001b[0m\u001b[0;34m)\u001b[0m \u001b[0;31m#  we can also wirte (mm) --> instead of matmul\u001b[0m\u001b[0;34m\u001b[0m\u001b[0;34m\u001b[0m\u001b[0m\n\u001b[0m\u001b[1;32m     11\u001b[0m \u001b[0mprint\u001b[0m\u001b[0;34m(\u001b[0m\u001b[0mmul\u001b[0m\u001b[0;34m)\u001b[0m\u001b[0;34m\u001b[0m\u001b[0;34m\u001b[0m\u001b[0m\n",
            "\u001b[0;31mRuntimeError\u001b[0m: mat1 and mat2 shapes cannot be multiplied (3x2 and 3x2)"
          ]
        }
      ]
    },
    {
      "cell_type": "markdown",
      "source": [
        "### To Fix our tensor shape issues, we can manipulate the shape of ones of our tensor using a `Transpose`\n",
        "A **transpose** switches the axes or dimensions of a given tensor."
      ],
      "metadata": {
        "id": "LRYW55rh4EaV"
      }
    },
    {
      "cell_type": "code",
      "source": [
        "tensor_B.T , tensor_B.T.shape"
      ],
      "metadata": {
        "id": "e2J2kyLl55XF"
      },
      "execution_count": null,
      "outputs": []
    },
    {
      "cell_type": "code",
      "source": [
        "tensor_B , tensor_B.shape"
      ],
      "metadata": {
        "colab": {
          "base_uri": "https://localhost:8080/"
        },
        "id": "gZQ7YkZt58dk",
        "outputId": "194b573a-ed0e-48e2-8b75-e989f7a7b919"
      },
      "execution_count": null,
      "outputs": [
        {
          "output_type": "execute_result",
          "data": {
            "text/plain": [
              "(tensor([[1, 2],\n",
              "         [3, 4],\n",
              "         [5, 6]]),\n",
              " torch.Size([3, 2]))"
            ]
          },
          "metadata": {},
          "execution_count": 50
        }
      ]
    },
    {
      "cell_type": "code",
      "source": [
        "# now we will perform operation for the matrix multiplication and check is the preveious shape error still exist with the transpose method\n",
        "\n",
        "print(f\"Original shapes: tensor_A = {tensor_A.shape}, tensor_B = {tensor_B.shape}\")\n",
        "print(f\"New shapes: tensor_A = {tensor_A.shape} (same as above), tensor_B.T = {tensor_B.T.shape}\")\n",
        "\n",
        "torch.matmul(tensor_A,tensor_B.T)"
      ],
      "metadata": {
        "colab": {
          "base_uri": "https://localhost:8080/"
        },
        "id": "K9Cfl_Wf6E4G",
        "outputId": "0670edaa-ba0e-4cad-9784-6486f8c2536f"
      },
      "execution_count": null,
      "outputs": [
        {
          "output_type": "stream",
          "name": "stdout",
          "text": [
            "Original shapes: tensor_A = torch.Size([3, 2]), tensor_B = torch.Size([3, 2])\n",
            "New shapes: tensor_A = torch.Size([3, 2]) (same as above), tensor_B.T = torch.Size([2, 3])\n"
          ]
        },
        {
          "output_type": "execute_result",
          "data": {
            "text/plain": [
              "tensor([[ 5, 11, 17],\n",
              "        [11, 25, 39],\n",
              "        [17, 39, 61]])"
            ]
          },
          "metadata": {},
          "execution_count": 51
        }
      ]
    },
    {
      "cell_type": "code",
      "source": [
        "torch.matmul(tensor_A.T , tensor_B)"
      ],
      "metadata": {
        "colab": {
          "base_uri": "https://localhost:8080/"
        },
        "id": "F4Uy6gpR68CN",
        "outputId": "6e87aaa8-acff-48bb-8f2d-b3df54a63d21"
      },
      "execution_count": null,
      "outputs": [
        {
          "output_type": "execute_result",
          "data": {
            "text/plain": [
              "tensor([[35, 44],\n",
              "        [44, 56]])"
            ]
          },
          "metadata": {},
          "execution_count": 52
        }
      ]
    },
    {
      "cell_type": "code",
      "source": [
        "tensor_C = torch.tensor([[1,2,3,4],\n",
        "                         [5,6,7,8]])"
      ],
      "metadata": {
        "id": "dKxloNrn9mIs"
      },
      "execution_count": null,
      "outputs": []
    },
    {
      "cell_type": "code",
      "source": [
        "torch.matmul(tensor_A , tensor_C)"
      ],
      "metadata": {
        "colab": {
          "base_uri": "https://localhost:8080/"
        },
        "id": "xIiw2_kt-mji",
        "outputId": "8365a678-bb1d-4603-c57c-4e89adb990a9"
      },
      "execution_count": null,
      "outputs": [
        {
          "output_type": "execute_result",
          "data": {
            "text/plain": [
              "tensor([[11, 14, 17, 20],\n",
              "        [23, 30, 37, 44],\n",
              "        [35, 46, 57, 68]])"
            ]
          },
          "metadata": {},
          "execution_count": 54
        }
      ]
    },
    {
      "cell_type": "code",
      "source": [
        "tensor_A.shape , tensor_C.shape"
      ],
      "metadata": {
        "colab": {
          "base_uri": "https://localhost:8080/"
        },
        "id": "hTRHEcq6-z7R",
        "outputId": "a78eacad-aa3e-4694-f83c-ef5f86d0dcfd"
      },
      "execution_count": null,
      "outputs": [
        {
          "output_type": "execute_result",
          "data": {
            "text/plain": [
              "(torch.Size([3, 2]), torch.Size([2, 4]))"
            ]
          },
          "metadata": {},
          "execution_count": 55
        }
      ]
    },
    {
      "cell_type": "markdown",
      "source": [
        "# Find the min , max, mean ,sum,etc `TENSOR AGGREGATION`\n",
        "\n",
        "this is called aggregation beacuse we are going from the typically a large amount of values to a one element"
      ],
      "metadata": {
        "id": "vvBb9om_-1vg"
      }
    },
    {
      "cell_type": "code",
      "source": [
        "x = torch.arange(0,100,10)\n",
        "print(x)"
      ],
      "metadata": {
        "colab": {
          "base_uri": "https://localhost:8080/"
        },
        "id": "9A36toEmF1Sx",
        "outputId": "47fe8d2e-6348-4e66-d704-0e265de2da83"
      },
      "execution_count": null,
      "outputs": [
        {
          "output_type": "stream",
          "name": "stdout",
          "text": [
            "tensor([ 0, 10, 20, 30, 40, 50, 60, 70, 80, 90])\n"
          ]
        }
      ]
    },
    {
      "cell_type": "code",
      "source": [
        "# Finding the minimum\n",
        "torch.min(x), x.min()"
      ],
      "metadata": {
        "colab": {
          "base_uri": "https://localhost:8080/"
        },
        "id": "v6IxRgtDGEYR",
        "outputId": "3c618108-3b0e-4344-9af4-7e4fe31e2b45"
      },
      "execution_count": null,
      "outputs": [
        {
          "output_type": "execute_result",
          "data": {
            "text/plain": [
              "(tensor(0), tensor(0))"
            ]
          },
          "metadata": {},
          "execution_count": 57
        }
      ]
    },
    {
      "cell_type": "code",
      "source": [
        "# Finding the maximum\n",
        "torch.max(x) , x.max()"
      ],
      "metadata": {
        "id": "P6sJghelGPDZ",
        "colab": {
          "base_uri": "https://localhost:8080/"
        },
        "outputId": "f8517f48-4173-4982-e8d1-c4a5ca2892e5"
      },
      "execution_count": null,
      "outputs": [
        {
          "output_type": "execute_result",
          "data": {
            "text/plain": [
              "(tensor(90), tensor(90))"
            ]
          },
          "metadata": {},
          "execution_count": 58
        }
      ]
    },
    {
      "cell_type": "code",
      "source": [
        "# Find the mean - note: the torch.mean() requires a tensor of float32 datatype\n",
        "torch.mean(x)\n",
        "\n",
        "# so we have to change the datatype of the tensor and convert it into the tensor32 float type"
      ],
      "metadata": {
        "colab": {
          "base_uri": "https://localhost:8080/",
          "height": 211
        },
        "id": "dOCxozptrTWX",
        "outputId": "d0d1ab9b-7d7e-4cae-8073-cbd251c02304"
      },
      "execution_count": null,
      "outputs": [
        {
          "output_type": "error",
          "ename": "RuntimeError",
          "evalue": "mean(): could not infer output dtype. Input dtype must be either a floating point or complex dtype. Got: Long",
          "traceback": [
            "\u001b[0;31m---------------------------------------------------------------------------\u001b[0m",
            "\u001b[0;31mRuntimeError\u001b[0m                              Traceback (most recent call last)",
            "\u001b[0;32m<ipython-input-59-d78f53a90062>\u001b[0m in \u001b[0;36m<cell line: 2>\u001b[0;34m()\u001b[0m\n\u001b[1;32m      1\u001b[0m \u001b[0;31m# Find the mean - note: the torch.mean() requires a tensor of float32 datatype\u001b[0m\u001b[0;34m\u001b[0m\u001b[0;34m\u001b[0m\u001b[0m\n\u001b[0;32m----> 2\u001b[0;31m \u001b[0mtorch\u001b[0m\u001b[0;34m.\u001b[0m\u001b[0mmean\u001b[0m\u001b[0;34m(\u001b[0m\u001b[0mx\u001b[0m\u001b[0;34m)\u001b[0m\u001b[0;34m\u001b[0m\u001b[0;34m\u001b[0m\u001b[0m\n\u001b[0m\u001b[1;32m      3\u001b[0m \u001b[0;34m\u001b[0m\u001b[0m\n\u001b[1;32m      4\u001b[0m \u001b[0;31m# so we have to change the datatype of the tensor and convert it into the tensor32 float type\u001b[0m\u001b[0;34m\u001b[0m\u001b[0;34m\u001b[0m\u001b[0m\n",
            "\u001b[0;31mRuntimeError\u001b[0m: mean(): could not infer output dtype. Input dtype must be either a floating point or complex dtype. Got: Long"
          ]
        }
      ]
    },
    {
      "cell_type": "code",
      "source": [
        "torch.mean(x.type(torch.float32)) , x.type(torch.float32).mean()"
      ],
      "metadata": {
        "colab": {
          "base_uri": "https://localhost:8080/"
        },
        "id": "Q7pkUN40teR2",
        "outputId": "fc910a06-078f-4fd8-ddac-5b1b9dd674eb"
      },
      "execution_count": null,
      "outputs": [
        {
          "output_type": "execute_result",
          "data": {
            "text/plain": [
              "(tensor(45.), tensor(45.))"
            ]
          },
          "metadata": {},
          "execution_count": 60
        }
      ]
    },
    {
      "cell_type": "code",
      "source": [
        "# calculating the sum of the tensor\n",
        "torch.sum(x) , x.sum()"
      ],
      "metadata": {
        "colab": {
          "base_uri": "https://localhost:8080/"
        },
        "id": "QntBtw69t3JN",
        "outputId": "6249a105-e90f-4409-9e5c-7ce35ebfc127"
      },
      "execution_count": null,
      "outputs": [
        {
          "output_type": "execute_result",
          "data": {
            "text/plain": [
              "(tensor(450), tensor(450))"
            ]
          },
          "metadata": {},
          "execution_count": 61
        }
      ]
    },
    {
      "cell_type": "markdown",
      "source": [
        "## Finding the positional min and max"
      ],
      "metadata": {
        "id": "oJoE-RUuuGD_"
      }
    },
    {
      "cell_type": "code",
      "source": [
        "# find the position in tensir that has the minimum vlaue with argmin() -> returns index position of target tensor where the minimum value occurs\n",
        "\n",
        "torch.argmin(x) , x.argmin() # --> returning the index of the minimum vlaue od the minimum argument in the tensor"
      ],
      "metadata": {
        "colab": {
          "base_uri": "https://localhost:8080/"
        },
        "id": "GDrqiLLKun4B",
        "outputId": "9d053b2a-bb30-49ec-badf-1a993790fec6"
      },
      "execution_count": null,
      "outputs": [
        {
          "output_type": "execute_result",
          "data": {
            "text/plain": [
              "(tensor(0), tensor(0))"
            ]
          },
          "metadata": {},
          "execution_count": 62
        }
      ]
    },
    {
      "cell_type": "code",
      "source": [
        "# find the argmax\n",
        "torch.argmax(x) , x.argmax() # --> returning the index of the maximum vlaue od the minimum argument in the tensor"
      ],
      "metadata": {
        "colab": {
          "base_uri": "https://localhost:8080/"
        },
        "id": "rg0R4-pYuqOB",
        "outputId": "b9df4b9d-1485-48b2-b6d0-efcf981fb7bf"
      },
      "execution_count": null,
      "outputs": [
        {
          "output_type": "execute_result",
          "data": {
            "text/plain": [
              "(tensor(9), tensor(9))"
            ]
          },
          "metadata": {},
          "execution_count": 63
        }
      ]
    },
    {
      "cell_type": "markdown",
      "source": [
        "# Reshaping, stacking, squeezing and unsequeezing tensors ( help us in solving shape and dimension issues ) which are very common in DL\n",
        "* Reshaping - reshapes an input tensor to a defined shape\n",
        "* View - Return a view of an input tensor of certain shape but keep the same memory as the original tensor\n",
        "* Stacking - combine multiple Tensors on top of each other (vstack) or side by side (hstack)\n",
        "* Squeeze - removes all `1` dimensions from a tensor\n",
        "* Unsqueeze - add a `1` dimension to a target tensor\n",
        "* Permute - Return a view of the input with dimension permuted (swapped) in a certain way"
      ],
      "metadata": {
        "id": "ObQf18p5u1MK"
      }
    },
    {
      "cell_type": "code",
      "source": [
        "# Lets create a tensor for performing these operations\n",
        "\n",
        "import torch\n",
        "x = torch.arange(1.,10.)\n",
        "x , x.shape , x.ndim"
      ],
      "metadata": {
        "colab": {
          "base_uri": "https://localhost:8080/"
        },
        "id": "YYulfWky7VeS",
        "outputId": "dada6269-19fa-49ad-8ca5-db270236bea2"
      },
      "execution_count": null,
      "outputs": [
        {
          "output_type": "execute_result",
          "data": {
            "text/plain": [
              "(tensor([1., 2., 3., 4., 5., 6., 7., 8., 9.]), torch.Size([9]), 1)"
            ]
          },
          "metadata": {},
          "execution_count": 64
        }
      ]
    },
    {
      "cell_type": "code",
      "source": [
        "# Add an extra dimension\n",
        "\n",
        "#x_reshaped = x.reshape(2,9) # --> will throw an error the new dimension must be compatable with the size\n",
        "\n",
        "\n",
        "x_reshaped = x.reshape(1,9)\n",
        "x_reshaped = x.reshape(3,3) #\n",
        "x_reshaped , x_reshaped.shape , x_reshaped.ndim"
      ],
      "metadata": {
        "colab": {
          "base_uri": "https://localhost:8080/"
        },
        "id": "odyifnr_7j1W",
        "outputId": "9aebc455-569c-44b9-916f-b0c69b5adde2"
      },
      "execution_count": null,
      "outputs": [
        {
          "output_type": "execute_result",
          "data": {
            "text/plain": [
              "(tensor([[1., 2., 3.],\n",
              "         [4., 5., 6.],\n",
              "         [7., 8., 9.]]),\n",
              " torch.Size([3, 3]),\n",
              " 2)"
            ]
          },
          "metadata": {},
          "execution_count": 65
        }
      ]
    },
    {
      "cell_type": "code",
      "source": [
        "# Change the view (the view of a tensor shares the same memory as the original input)\n",
        "\n",
        "z = x.view(1,9)\n",
        "z , z.shape"
      ],
      "metadata": {
        "colab": {
          "base_uri": "https://localhost:8080/"
        },
        "id": "jILvuGIa8OW8",
        "outputId": "cfc6c4d2-e4cb-446c-bdee-1b3da005dd3e"
      },
      "execution_count": null,
      "outputs": [
        {
          "output_type": "execute_result",
          "data": {
            "text/plain": [
              "(tensor([[1., 2., 3., 4., 5., 6., 7., 8., 9.]]), torch.Size([1, 9]))"
            ]
          },
          "metadata": {},
          "execution_count": 66
        }
      ]
    },
    {
      "cell_type": "code",
      "source": [
        "# changing the z changes x (beacuse a view of a tensor shares the same memory as the original input )\n",
        "z[:,[0,1,2]] = 4\n",
        "z,x"
      ],
      "metadata": {
        "colab": {
          "base_uri": "https://localhost:8080/"
        },
        "id": "yf8LE4EOABt5",
        "outputId": "b235e405-73f7-43ec-d41c-8af5110f2d3d"
      },
      "execution_count": null,
      "outputs": [
        {
          "output_type": "execute_result",
          "data": {
            "text/plain": [
              "(tensor([[4., 4., 4., 4., 5., 6., 7., 8., 9.]]),\n",
              " tensor([4., 4., 4., 4., 5., 6., 7., 8., 9.]))"
            ]
          },
          "metadata": {},
          "execution_count": 67
        }
      ]
    },
    {
      "cell_type": "code",
      "source": [
        "# stack tensor on the top of the each other\n",
        "\n",
        "x_stacked = torch.stack([x,x,x,x],dim=0)\n",
        "x_stacked"
      ],
      "metadata": {
        "colab": {
          "base_uri": "https://localhost:8080/"
        },
        "id": "-sXRaH9jCNdV",
        "outputId": "a28f28ff-f948-4dd3-8e91-c9bf6bc9737f"
      },
      "execution_count": null,
      "outputs": [
        {
          "output_type": "execute_result",
          "data": {
            "text/plain": [
              "tensor([[4., 4., 4., 4., 5., 6., 7., 8., 9.],\n",
              "        [4., 4., 4., 4., 5., 6., 7., 8., 9.],\n",
              "        [4., 4., 4., 4., 5., 6., 7., 8., 9.],\n",
              "        [4., 4., 4., 4., 5., 6., 7., 8., 9.]])"
            ]
          },
          "metadata": {},
          "execution_count": 86
        }
      ]
    },
    {
      "cell_type": "code",
      "source": [
        "# torch.squeeze() - remove all single dimensions from a target tensor\n",
        "x_reshaped , x_reshaped.shape"
      ],
      "metadata": {
        "id": "61pGV2zlKxk1",
        "colab": {
          "base_uri": "https://localhost:8080/"
        },
        "outputId": "cd077fbd-080a-4fb5-cd1c-28fc2e358522"
      },
      "execution_count": null,
      "outputs": [
        {
          "output_type": "execute_result",
          "data": {
            "text/plain": [
              "(tensor([[4., 4., 4.],\n",
              "         [4., 5., 6.],\n",
              "         [7., 8., 9.]]),\n",
              " torch.Size([3, 3]))"
            ]
          },
          "metadata": {},
          "execution_count": 69
        }
      ]
    },
    {
      "cell_type": "code",
      "source": [
        "x_reshaped = x_reshaped.reshape(1,9)"
      ],
      "metadata": {
        "id": "z8KDs0DrajHn"
      },
      "execution_count": null,
      "outputs": []
    },
    {
      "cell_type": "code",
      "source": [
        "x_reshaped.shape"
      ],
      "metadata": {
        "colab": {
          "base_uri": "https://localhost:8080/"
        },
        "id": "P8Oa-RePaoml",
        "outputId": "e6948b80-ced1-4a5e-8349-d616287d3aac"
      },
      "execution_count": null,
      "outputs": [
        {
          "output_type": "execute_result",
          "data": {
            "text/plain": [
              "torch.Size([1, 9])"
            ]
          },
          "metadata": {},
          "execution_count": 71
        }
      ]
    },
    {
      "cell_type": "code",
      "source": [
        "# Now using the function of the torch.squeeeze()\n",
        "x_reshaped.squeeze()"
      ],
      "metadata": {
        "colab": {
          "base_uri": "https://localhost:8080/"
        },
        "id": "EqhqzM50aq4q",
        "outputId": "76fd87a9-0700-43b7-90b8-8aabb22b4c02"
      },
      "execution_count": null,
      "outputs": [
        {
          "output_type": "execute_result",
          "data": {
            "text/plain": [
              "tensor([4., 4., 4., 4., 5., 6., 7., 8., 9.])"
            ]
          },
          "metadata": {},
          "execution_count": 72
        }
      ]
    },
    {
      "cell_type": "code",
      "source": [
        "x_reshaped.squeeze().shape"
      ],
      "metadata": {
        "colab": {
          "base_uri": "https://localhost:8080/"
        },
        "id": "YlS91WPla62e",
        "outputId": "910ebde2-68cf-4d76-dc01-182c3aedcbe1"
      },
      "execution_count": null,
      "outputs": [
        {
          "output_type": "execute_result",
          "data": {
            "text/plain": [
              "torch.Size([9])"
            ]
          },
          "metadata": {},
          "execution_count": 73
        }
      ]
    },
    {
      "cell_type": "code",
      "source": [
        "x_tensor = torch.rand(2,1,2,1)"
      ],
      "metadata": {
        "id": "5TeT96O3bCA0"
      },
      "execution_count": null,
      "outputs": []
    },
    {
      "cell_type": "code",
      "source": [
        "x_tensor , x_tensor.shape"
      ],
      "metadata": {
        "colab": {
          "base_uri": "https://localhost:8080/"
        },
        "id": "VQ-GkhZmba5L",
        "outputId": "53631725-5ba8-4562-8c83-986f154c1a01"
      },
      "execution_count": null,
      "outputs": [
        {
          "output_type": "execute_result",
          "data": {
            "text/plain": [
              "(tensor([[[[0.9979],\n",
              "           [0.0401]]],\n",
              " \n",
              " \n",
              "         [[[0.0534],\n",
              "           [0.1697]]]]),\n",
              " torch.Size([2, 1, 2, 1]))"
            ]
          },
          "metadata": {},
          "execution_count": 75
        }
      ]
    },
    {
      "cell_type": "code",
      "source": [
        "x_tensor.squeeze()"
      ],
      "metadata": {
        "colab": {
          "base_uri": "https://localhost:8080/"
        },
        "id": "wRjnNajjbh98",
        "outputId": "5e9209c1-d2a7-4812-f92c-a321b12e953f"
      },
      "execution_count": null,
      "outputs": [
        {
          "output_type": "execute_result",
          "data": {
            "text/plain": [
              "tensor([[0.9979, 0.0401],\n",
              "        [0.0534, 0.1697]])"
            ]
          },
          "metadata": {},
          "execution_count": 76
        }
      ]
    },
    {
      "cell_type": "code",
      "source": [
        "x_tensor.squeeze().shape"
      ],
      "metadata": {
        "colab": {
          "base_uri": "https://localhost:8080/"
        },
        "id": "yYphvgqAb6-l",
        "outputId": "a2146584-67ac-44e7-8087-015868a0a272"
      },
      "execution_count": null,
      "outputs": [
        {
          "output_type": "execute_result",
          "data": {
            "text/plain": [
              "torch.Size([2, 2])"
            ]
          },
          "metadata": {},
          "execution_count": 77
        }
      ]
    },
    {
      "cell_type": "code",
      "source": [
        "# Torch.unsqueeze() - add a single dimension to a target tensor at a specefic dim (dimension)\n",
        "\n",
        "x_tensor.shape"
      ],
      "metadata": {
        "colab": {
          "base_uri": "https://localhost:8080/"
        },
        "id": "uzYWXUbOb-HD",
        "outputId": "507536a4-ac41-45ed-e66d-9ae9346d6a68"
      },
      "execution_count": null,
      "outputs": [
        {
          "output_type": "execute_result",
          "data": {
            "text/plain": [
              "torch.Size([2, 1, 2, 1])"
            ]
          },
          "metadata": {},
          "execution_count": 78
        }
      ]
    },
    {
      "cell_type": "code",
      "source": [
        "x_squeeze_tensor = x_tensor.squeeze()"
      ],
      "metadata": {
        "id": "GgVPQgbeinYv"
      },
      "execution_count": null,
      "outputs": []
    },
    {
      "cell_type": "code",
      "source": [
        "x_squeeze_tensor.shape"
      ],
      "metadata": {
        "colab": {
          "base_uri": "https://localhost:8080/"
        },
        "id": "9SzD3C5diuCS",
        "outputId": "7079b543-8cfb-4ac2-8f4b-3e9833edf203"
      },
      "execution_count": null,
      "outputs": [
        {
          "output_type": "execute_result",
          "data": {
            "text/plain": [
              "torch.Size([2, 2])"
            ]
          },
          "metadata": {},
          "execution_count": 80
        }
      ]
    },
    {
      "cell_type": "code",
      "source": [
        "x_unsqueeze_tensor = x_squeeze_tensor.unsqueeze(dim=0)"
      ],
      "metadata": {
        "id": "fUvHUfCVjkwp"
      },
      "execution_count": null,
      "outputs": []
    },
    {
      "cell_type": "code",
      "source": [
        "print(x_unsqueeze_tensor.shape)\n",
        "print(x_unsqueeze_tensor)"
      ],
      "metadata": {
        "colab": {
          "base_uri": "https://localhost:8080/"
        },
        "id": "zSri2RSqjsRd",
        "outputId": "f6c5a78d-7032-4701-bdca-352b0525a596"
      },
      "execution_count": null,
      "outputs": [
        {
          "output_type": "stream",
          "name": "stdout",
          "text": [
            "torch.Size([1, 2, 2])\n",
            "tensor([[[0.9979, 0.0401],\n",
            "         [0.0534, 0.1697]]])\n"
          ]
        }
      ]
    },
    {
      "cell_type": "code",
      "source": [
        "x_unsqueeze_tensor = x_squeeze_tensor.unsqueeze(dim=2)"
      ],
      "metadata": {
        "id": "feGcBRS2jxm1"
      },
      "execution_count": null,
      "outputs": []
    },
    {
      "cell_type": "code",
      "source": [
        "print(x_unsqueeze_tensor.shape)\n",
        "print(x_unsqueeze_tensor)"
      ],
      "metadata": {
        "colab": {
          "base_uri": "https://localhost:8080/"
        },
        "id": "14NEGkIcj1Lo",
        "outputId": "50a417ff-f106-4be1-a193-558fb90e9967"
      },
      "execution_count": null,
      "outputs": [
        {
          "output_type": "stream",
          "name": "stdout",
          "text": [
            "torch.Size([2, 2, 1])\n",
            "tensor([[[0.9979],\n",
            "         [0.0401]],\n",
            "\n",
            "        [[0.0534],\n",
            "         [0.1697]]])\n"
          ]
        }
      ]
    },
    {
      "cell_type": "code",
      "source": [
        "# torch.permuted - rearranges the dimensions od a target tensor in a specefied order\n",
        "\n",
        "x_original = torch.rand(size = (224,224,3)) # height , width , color channel\n",
        "\n",
        "x_permutted = x_original.permute(2,0,1)\n",
        "\n",
        "print(f\"Previous shape: {x_original.shape}\")\n",
        "print(f\"New shape: {x_permutted.shape}\")"
      ],
      "metadata": {
        "id": "NUg1DiE1j2LS",
        "colab": {
          "base_uri": "https://localhost:8080/"
        },
        "outputId": "18445735-1ed9-4cdd-bd4f-bcd5b7a7c762"
      },
      "execution_count": null,
      "outputs": [
        {
          "output_type": "stream",
          "name": "stdout",
          "text": [
            "Previous shape: torch.Size([224, 224, 3])\n",
            "New shape: torch.Size([3, 224, 224])\n"
          ]
        }
      ]
    },
    {
      "cell_type": "code",
      "source": [
        "x_original[0,0,0] = 123\n",
        "print(x_original[0,0,0])\n"
      ],
      "metadata": {
        "colab": {
          "base_uri": "https://localhost:8080/"
        },
        "id": "ueZFK2hCdVR6",
        "outputId": "e3b784cd-9170-4eaf-c5b4-c9d8e61871e1"
      },
      "execution_count": null,
      "outputs": [
        {
          "output_type": "stream",
          "name": "stdout",
          "text": [
            "tensor(123.)\n"
          ]
        }
      ]
    },
    {
      "cell_type": "code",
      "source": [
        "print(x_permutted[0,0,0])"
      ],
      "metadata": {
        "colab": {
          "base_uri": "https://localhost:8080/"
        },
        "id": "Bhb4gpJXdeXK",
        "outputId": "02c10f51-a428-4182-f26c-16ce6b0f5749"
      },
      "execution_count": null,
      "outputs": [
        {
          "output_type": "stream",
          "name": "stdout",
          "text": [
            "tensor(123.)\n"
          ]
        }
      ]
    },
    {
      "cell_type": "code",
      "source": [
        "x_permutted[0,0,0] = 234"
      ],
      "metadata": {
        "id": "veys0syFdkqT"
      },
      "execution_count": null,
      "outputs": []
    },
    {
      "cell_type": "code",
      "source": [
        "print(x_permutted[0,0,0])\n",
        "print(x_original[0,0,0])"
      ],
      "metadata": {
        "colab": {
          "base_uri": "https://localhost:8080/"
        },
        "id": "WmZSt1andppr",
        "outputId": "dfea1e6d-db92-4800-a76c-e98e32889e3c"
      },
      "execution_count": null,
      "outputs": [
        {
          "output_type": "stream",
          "name": "stdout",
          "text": [
            "tensor(234.)\n",
            "tensor(234.)\n"
          ]
        }
      ]
    },
    {
      "cell_type": "code",
      "source": [
        "x_permutted.shape\n",
        "x_permutted.reshape(224,3,224)\n"
      ],
      "metadata": {
        "colab": {
          "base_uri": "https://localhost:8080/"
        },
        "id": "U-g4v9eQdylL",
        "outputId": "5328622b-5dca-454e-96fc-513cb63db95a"
      },
      "execution_count": null,
      "outputs": [
        {
          "output_type": "execute_result",
          "data": {
            "text/plain": [
              "tensor([[[2.3400e+02, 8.3345e-01, 1.2978e-01,  ..., 2.4266e-01,\n",
              "          8.3695e-01, 8.2112e-01],\n",
              "         [9.8266e-01, 2.9270e-01, 8.4049e-01,  ..., 5.0327e-01,\n",
              "          8.3551e-01, 8.2765e-01],\n",
              "         [8.1495e-01, 4.6772e-01, 3.1242e-01,  ..., 9.0946e-01,\n",
              "          4.4688e-01, 5.1558e-01]],\n",
              "\n",
              "        [[9.2846e-01, 2.7609e-01, 9.2324e-01,  ..., 4.8492e-01,\n",
              "          9.8163e-01, 2.6029e-01],\n",
              "         [6.9835e-01, 1.7929e-01, 8.3388e-01,  ..., 5.3033e-01,\n",
              "          9.5638e-01, 1.6505e-01],\n",
              "         [4.8186e-01, 4.3090e-01, 7.0963e-01,  ..., 2.3903e-02,\n",
              "          7.9521e-01, 1.1985e-01]],\n",
              "\n",
              "        [[8.2383e-01, 7.2790e-01, 5.9487e-02,  ..., 2.4511e-02,\n",
              "          2.9500e-01, 3.4796e-01],\n",
              "         [8.2337e-01, 9.7377e-01, 2.2658e-02,  ..., 8.4586e-01,\n",
              "          1.1449e-01, 5.8325e-01],\n",
              "         [7.9533e-01, 7.6472e-01, 2.1645e-02,  ..., 4.4600e-01,\n",
              "          2.4599e-01, 9.3231e-01]],\n",
              "\n",
              "        ...,\n",
              "\n",
              "        [[9.5795e-01, 4.7700e-01, 2.6740e-01,  ..., 5.3080e-01,\n",
              "          9.6728e-01, 1.5617e-01],\n",
              "         [1.8531e-01, 5.8810e-01, 6.6685e-02,  ..., 8.5356e-01,\n",
              "          8.9218e-01, 3.6121e-01],\n",
              "         [9.8389e-01, 3.5297e-01, 2.8996e-02,  ..., 7.7584e-01,\n",
              "          5.6448e-01, 2.0987e-01]],\n",
              "\n",
              "        [[8.0890e-01, 8.1111e-01, 7.0808e-01,  ..., 9.2792e-01,\n",
              "          7.4002e-01, 1.3397e-01],\n",
              "         [6.1548e-01, 9.2647e-01, 7.3625e-01,  ..., 2.8808e-01,\n",
              "          8.6132e-01, 2.1843e-01],\n",
              "         [2.4543e-01, 9.8002e-02, 5.4509e-01,  ..., 3.7790e-01,\n",
              "          6.3552e-01, 7.8543e-01]],\n",
              "\n",
              "        [[1.7718e-01, 3.0440e-01, 6.7870e-02,  ..., 2.6808e-02,\n",
              "          8.0861e-01, 9.7606e-01],\n",
              "         [5.8367e-01, 1.4124e-01, 9.7148e-01,  ..., 8.6216e-01,\n",
              "          8.5661e-01, 6.8767e-01],\n",
              "         [9.5545e-02, 5.5794e-01, 1.7053e-01,  ..., 6.3780e-01,\n",
              "          4.3340e-02, 8.6314e-01]]])"
            ]
          },
          "metadata": {},
          "execution_count": 100
        }
      ]
    },
    {
      "cell_type": "code",
      "source": [
        "x_original.shape"
      ],
      "metadata": {
        "colab": {
          "base_uri": "https://localhost:8080/"
        },
        "id": "NhikugoRex-c",
        "outputId": "76ee8e41-ecc1-4387-c3eb-72ba35a98b25"
      },
      "execution_count": null,
      "outputs": [
        {
          "output_type": "execute_result",
          "data": {
            "text/plain": [
              "torch.Size([224, 224, 3])"
            ]
          },
          "metadata": {},
          "execution_count": 101
        }
      ]
    },
    {
      "cell_type": "code",
      "source": [
        "print(x_original[0,0,0])"
      ],
      "metadata": {
        "colab": {
          "base_uri": "https://localhost:8080/"
        },
        "id": "NCFxO0xKgaj5",
        "outputId": "1853bc74-21dc-4257-e08f-c4e7f25d73cc"
      },
      "execution_count": null,
      "outputs": [
        {
          "output_type": "stream",
          "name": "stdout",
          "text": [
            "tensor(234.)\n"
          ]
        }
      ]
    },
    {
      "cell_type": "markdown",
      "source": [
        "# Indexing (selecting data from tensors)\n",
        "\n",
        "### Indexing with pytorch is same as the Numpy."
      ],
      "metadata": {
        "id": "OC1Znjecgf_6"
      }
    },
    {
      "cell_type": "code",
      "source": [
        "import torch"
      ],
      "metadata": {
        "id": "dju9D_iY5ZP4"
      },
      "execution_count": null,
      "outputs": []
    },
    {
      "cell_type": "code",
      "source": [
        "x = torch.arange(1,19).reshape(2,3,3)  # giving us the total of the 9 element\n",
        "x , x.shape"
      ],
      "metadata": {
        "colab": {
          "base_uri": "https://localhost:8080/"
        },
        "id": "jeuJQqzK5bO3",
        "outputId": "4019e8c2-e29a-41d3-da36-805a04b338d3"
      },
      "execution_count": null,
      "outputs": [
        {
          "output_type": "execute_result",
          "data": {
            "text/plain": [
              "(tensor([[[ 1,  2,  3],\n",
              "          [ 4,  5,  6],\n",
              "          [ 7,  8,  9]],\n",
              " \n",
              "         [[10, 11, 12],\n",
              "          [13, 14, 15],\n",
              "          [16, 17, 18]]]),\n",
              " torch.Size([2, 3, 3]))"
            ]
          },
          "metadata": {},
          "execution_count": 25
        }
      ]
    },
    {
      "cell_type": "code",
      "source": [
        "x[:][:][1,0]"
      ],
      "metadata": {
        "colab": {
          "base_uri": "https://localhost:8080/"
        },
        "id": "x3qIvYN95lMl",
        "outputId": "c3b528e7-d647-45c0-c281-42dd978ed4db"
      },
      "execution_count": null,
      "outputs": [
        {
          "output_type": "execute_result",
          "data": {
            "text/plain": [
              "tensor([10, 11, 12])"
            ]
          },
          "metadata": {},
          "execution_count": 18
        }
      ]
    },
    {
      "cell_type": "code",
      "source": [
        "x[0][2][2]"
      ],
      "metadata": {
        "colab": {
          "base_uri": "https://localhost:8080/"
        },
        "id": "-aTC7l6P5udj",
        "outputId": "1ec316d2-112a-4b6e-8a8f-2145b79431c5"
      },
      "execution_count": null,
      "outputs": [
        {
          "output_type": "execute_result",
          "data": {
            "text/plain": [
              "tensor(9)"
            ]
          },
          "metadata": {},
          "execution_count": 14
        }
      ]
    },
    {
      "cell_type": "code",
      "source": [
        "# we can also use \":\" to select \"all\" of a target dimension\n",
        "x[: , 0]"
      ],
      "metadata": {
        "colab": {
          "base_uri": "https://localhost:8080/"
        },
        "id": "8z0ow9frAfCD",
        "outputId": "a6810778-2242-4af8-d1ca-affec457a7b9"
      },
      "execution_count": null,
      "outputs": [
        {
          "output_type": "execute_result",
          "data": {
            "text/plain": [
              "tensor([[ 1,  2,  3],\n",
              "        [10, 11, 12]])"
            ]
          },
          "metadata": {},
          "execution_count": 26
        }
      ]
    },
    {
      "cell_type": "code",
      "source": [
        "# get all values of 0th and 1st deimension but only index 1 of 2nd dimension\n",
        "\n",
        "x[:,:,1]"
      ],
      "metadata": {
        "colab": {
          "base_uri": "https://localhost:8080/"
        },
        "id": "6dTdUBNVA-hW",
        "outputId": "d7b3bc11-a134-4eab-808f-335c75884566"
      },
      "execution_count": null,
      "outputs": [
        {
          "output_type": "execute_result",
          "data": {
            "text/plain": [
              "tensor([[ 2,  5,  8],\n",
              "        [11, 14, 17]])"
            ]
          },
          "metadata": {},
          "execution_count": 22
        }
      ]
    },
    {
      "cell_type": "code",
      "source": [
        "# targeting the 18th values from the\n",
        "x[1,2,2]"
      ],
      "metadata": {
        "colab": {
          "base_uri": "https://localhost:8080/"
        },
        "id": "92Tq1ZDkB04Z",
        "outputId": "c9bccb9b-b6cf-40e7-f2b9-be5dd7b44096"
      },
      "execution_count": null,
      "outputs": [
        {
          "output_type": "execute_result",
          "data": {
            "text/plain": [
              "tensor(18)"
            ]
          },
          "metadata": {},
          "execution_count": 30
        }
      ]
    },
    {
      "cell_type": "code",
      "source": [
        "# Get all values of the 0 dimension but only the 1 index value of 1st and 2nd dimesnion\n",
        "x[:,1,1]"
      ],
      "metadata": {
        "colab": {
          "base_uri": "https://localhost:8080/"
        },
        "id": "ydKqhpVqD4bb",
        "outputId": "9b46ceb3-990b-4be6-b705-d4fa9a6b16e8"
      },
      "execution_count": null,
      "outputs": [
        {
          "output_type": "execute_result",
          "data": {
            "text/plain": [
              "tensor([ 5, 14])"
            ]
          },
          "metadata": {},
          "execution_count": 31
        }
      ]
    },
    {
      "cell_type": "code",
      "source": [
        "# Get index 0 of the 0th and 1st dmension abd all values of 2nd dimension\n",
        "\n",
        "x[0,0,:]"
      ],
      "metadata": {
        "colab": {
          "base_uri": "https://localhost:8080/"
        },
        "id": "y2Lt86I6EsFt",
        "outputId": "55acc70d-8cac-428b-ed17-bbd1e8fd3f2d"
      },
      "execution_count": null,
      "outputs": [
        {
          "output_type": "execute_result",
          "data": {
            "text/plain": [
              "tensor([1, 2, 3])"
            ]
          },
          "metadata": {},
          "execution_count": 33
        }
      ]
    },
    {
      "cell_type": "code",
      "source": [
        "# index to get (3,6,9)\n",
        "\n",
        "x[0,:,2]"
      ],
      "metadata": {
        "colab": {
          "base_uri": "https://localhost:8080/"
        },
        "id": "6XgxT4oTFe2S",
        "outputId": "58aa494d-6266-475c-d1a9-42cebffc9aff"
      },
      "execution_count": null,
      "outputs": [
        {
          "output_type": "execute_result",
          "data": {
            "text/plain": [
              "tensor([3, 6, 9])"
            ]
          },
          "metadata": {},
          "execution_count": 34
        }
      ]
    },
    {
      "cell_type": "markdown",
      "source": [
        "# PyTorch tensors & Numpy\n",
        "\n",
        "Numpy is a popu;ar scientific python numerical computing library.\n",
        "And beacuse of this, Pytovh has functionality to interact with it.\n",
        "\n",
        "* Data in Numpy, want in PyTorch tensor -> `torch.from_numpy(ndarray)`\n",
        "* PyTorch tensor -> Numpy -> `torch.Tensor.numpy()`"
      ],
      "metadata": {
        "id": "KJWK4fAKF_cM"
      }
    },
    {
      "cell_type": "code",
      "source": [
        "# NumPy array to Torch\n",
        "import numpy as np\n",
        "\n",
        "array = np.arange(1.0,8.0)\n",
        "# tensor default data type is torch.flaot32\n",
        "tensor = torch.from_numpy(array).type(torch.float32) # warning : When converting from numpy -> pytorch, pytorch reflexts numpy's default datatype of float64 unless specefied otherwise\n",
        "array , tensor"
      ],
      "metadata": {
        "colab": {
          "base_uri": "https://localhost:8080/"
        },
        "id": "hrFJrv9BKsj3",
        "outputId": "fdf14210-25b0-4927-f649-82cd6d10c658"
      },
      "execution_count": null,
      "outputs": [
        {
          "output_type": "execute_result",
          "data": {
            "text/plain": [
              "(array([1., 2., 3., 4., 5., 6., 7.]), tensor([1., 2., 3., 4., 5., 6., 7.]))"
            ]
          },
          "metadata": {},
          "execution_count": 35
        }
      ]
    },
    {
      "cell_type": "code",
      "source": [
        "array.dtype"
      ],
      "metadata": {
        "colab": {
          "base_uri": "https://localhost:8080/"
        },
        "id": "FYKqVWIvLkMb",
        "outputId": "f58da0e0-12d2-4bfc-904d-9303ac7024df"
      },
      "execution_count": null,
      "outputs": [
        {
          "output_type": "execute_result",
          "data": {
            "text/plain": [
              "dtype('float64')"
            ]
          },
          "metadata": {},
          "execution_count": 36
        }
      ]
    },
    {
      "cell_type": "code",
      "source": [
        "tensor.dtype"
      ],
      "metadata": {
        "colab": {
          "base_uri": "https://localhost:8080/"
        },
        "id": "14FwFvvSLmIW",
        "outputId": "6a417871-fd4a-447d-aa6f-a021d367cbee"
      },
      "execution_count": null,
      "outputs": [
        {
          "output_type": "execute_result",
          "data": {
            "text/plain": [
              "torch.float32"
            ]
          },
          "metadata": {},
          "execution_count": 37
        }
      ]
    },
    {
      "cell_type": "code",
      "source": [
        "# if we change the value of the np array this will not effect the tensor beacus we create the tensor to the new memory.\n",
        "\n",
        "array = array + 2\n",
        "array , tensor"
      ],
      "metadata": {
        "colab": {
          "base_uri": "https://localhost:8080/"
        },
        "id": "30Nt4vKOLndS",
        "outputId": "b0ccb328-1355-473b-b292-cfece1cb4735"
      },
      "execution_count": null,
      "outputs": [
        {
          "output_type": "execute_result",
          "data": {
            "text/plain": [
              "(array([3., 4., 5., 6., 7., 8., 9.]), tensor([1., 2., 3., 4., 5., 6., 7.]))"
            ]
          },
          "metadata": {},
          "execution_count": 40
        }
      ]
    },
    {
      "cell_type": "code",
      "source": [
        "# Tensors to Numpy\n",
        "\n",
        "tensor = torch.zeros(10)\n",
        "np_array = tensor.numpy().astype('float64')\n",
        "\n",
        "tensor,np_array.dtype"
      ],
      "metadata": {
        "colab": {
          "base_uri": "https://localhost:8080/"
        },
        "id": "IzGZ-oa8OFzV",
        "outputId": "597e158c-c7a7-48c2-f14e-6b79b699ddbf"
      },
      "execution_count": null,
      "outputs": [
        {
          "output_type": "execute_result",
          "data": {
            "text/plain": [
              "(tensor([0., 0., 0., 0., 0., 0., 0., 0., 0., 0.]), dtype('float64'))"
            ]
          },
          "metadata": {},
          "execution_count": 51
        }
      ]
    },
    {
      "cell_type": "code",
      "source": [
        "# Change the tensor , what happens to the 'np_array'\n",
        "\n",
        "tensor = tensor + 1  # dont shares memory\n",
        "tensor , np_array\n"
      ],
      "metadata": {
        "colab": {
          "base_uri": "https://localhost:8080/"
        },
        "id": "yhxLYTkbSF5-",
        "outputId": "18971371-1146-4962-d002-149ea9258dec"
      },
      "execution_count": null,
      "outputs": [
        {
          "output_type": "execute_result",
          "data": {
            "text/plain": [
              "(tensor([2., 2., 2., 2., 2., 2., 2., 2., 2., 2.]),\n",
              " array([0., 0., 0., 0., 0., 0., 0., 0., 0., 0.]))"
            ]
          },
          "metadata": {},
          "execution_count": 53
        }
      ]
    },
    {
      "cell_type": "markdown",
      "source": [
        "# Reproducbility (Trying to take a random out of random)\n",
        "\n",
        "In short how a neural networks learns\n",
        "\n",
        "`start with random numbers -> tensor operations -> update random numbers to try and make them better representations of the data -> again -> again -> again...`\n",
        "\n",
        "To reduce the randomness in neural networks and PyTorch comes the concept of a **random seed**. But in torch it called a `manual seed`\n",
        "\n",
        " Essentially what the random seed does is \"flavour\" the randomness."
      ],
      "metadata": {
        "id": "jpA8xGfJTD3w"
      }
    },
    {
      "cell_type": "code",
      "source": [
        "torch.rand(3,3) # every time we run this we get the random result"
      ],
      "metadata": {
        "colab": {
          "base_uri": "https://localhost:8080/"
        },
        "id": "CG1y8oQeaKGy",
        "outputId": "d9aa9280-9e31-4558-b5e6-b25977bfe061"
      },
      "execution_count": null,
      "outputs": [
        {
          "output_type": "execute_result",
          "data": {
            "text/plain": [
              "tensor([[0.9272, 0.4588, 0.4474],\n",
              "        [0.9878, 0.4542, 0.4745],\n",
              "        [0.9721, 0.2681, 0.4592]])"
            ]
          },
          "metadata": {},
          "execution_count": 56
        }
      ]
    },
    {
      "cell_type": "code",
      "source": [
        "# Create a two random tensor\n",
        "random_tensor_A = torch.rand(3,4)\n",
        "random_tensor_B = torch.rand(3,4)\n",
        "\n",
        "print(random_tensor_A)\n",
        "print(random_tensor_B)\n",
        "print(random_tensor_A == random_tensor_B)"
      ],
      "metadata": {
        "colab": {
          "base_uri": "https://localhost:8080/"
        },
        "id": "JxF-85InaMKK",
        "outputId": "e71dbb09-6bae-4810-cda9-2ff9dd5c9789"
      },
      "execution_count": null,
      "outputs": [
        {
          "output_type": "stream",
          "name": "stdout",
          "text": [
            "tensor([[0.2288, 0.5828, 0.9305, 0.9258],\n",
            "        [0.0506, 0.5025, 0.6904, 0.5976],\n",
            "        [0.0869, 0.3321, 0.0483, 0.2618]])\n",
            "tensor([[0.7491, 0.7914, 0.3443, 0.6083],\n",
            "        [0.3933, 0.8521, 0.4229, 0.9402],\n",
            "        [0.9230, 0.6920, 0.0484, 0.1780]])\n",
            "tensor([[False, False, False, False],\n",
            "        [False, False, False, False],\n",
            "        [False, False, False, False]])\n"
          ]
        }
      ]
    },
    {
      "cell_type": "code",
      "source": [
        "import torch\n",
        "\n",
        "# Randomness with reproducibility\n",
        "\n",
        "Random_Seed = 42\n",
        "torch.manual_seed(Random_Seed)\n",
        "random_tensor_C = torch.rand(3,4)\n",
        "\n",
        "torch.manual_seed(Random_Seed)\n",
        "random_tensor_D = torch.rand(3,4)\n",
        "\n",
        "print(random_tensor_C)\n",
        "print(random_tensor_D)\n",
        "print(random_tensor_C == random_tensor_D)"
      ],
      "metadata": {
        "colab": {
          "base_uri": "https://localhost:8080/"
        },
        "id": "v0oiDm6RbaYo",
        "outputId": "b79dec25-6bca-4446-ec29-26c696dd2c0f"
      },
      "execution_count": null,
      "outputs": [
        {
          "output_type": "stream",
          "name": "stdout",
          "text": [
            "tensor([[0.8823, 0.9150, 0.3829, 0.9593],\n",
            "        [0.3904, 0.6009, 0.2566, 0.7936],\n",
            "        [0.9408, 0.1332, 0.9346, 0.5936]])\n",
            "tensor([[0.8823, 0.9150, 0.3829, 0.9593],\n",
            "        [0.3904, 0.6009, 0.2566, 0.7936],\n",
            "        [0.9408, 0.1332, 0.9346, 0.5936]])\n",
            "tensor([[True, True, True, True],\n",
            "        [True, True, True, True],\n",
            "        [True, True, True, True]])\n"
          ]
        }
      ]
    },
    {
      "cell_type": "markdown",
      "source": [
        "## Getting the GPU access\n",
        "\n",
        "#### Right now we are using the colab so simple change the runtime from cpu to gpu\n",
        "\n",
        "#### if we want to run on the local machine then we have to do a little bit of setup in order to get the GPU access"
      ],
      "metadata": {
        "id": "b1JH5aD3dpdn"
      }
    },
    {
      "cell_type": "code",
      "source": [
        "!nvidia-smi"
      ],
      "metadata": {
        "colab": {
          "base_uri": "https://localhost:8080/"
        },
        "id": "6XcSDR7DTdMr",
        "outputId": "c5c740d1-89ea-4b5e-a1d0-0141cc225850"
      },
      "execution_count": null,
      "outputs": [
        {
          "output_type": "stream",
          "name": "stdout",
          "text": [
            "Sat Oct  5 15:32:22 2024       \n",
            "+---------------------------------------------------------------------------------------+\n",
            "| NVIDIA-SMI 535.104.05             Driver Version: 535.104.05   CUDA Version: 12.2     |\n",
            "|-----------------------------------------+----------------------+----------------------+\n",
            "| GPU  Name                 Persistence-M | Bus-Id        Disp.A | Volatile Uncorr. ECC |\n",
            "| Fan  Temp   Perf          Pwr:Usage/Cap |         Memory-Usage | GPU-Util  Compute M. |\n",
            "|                                         |                      |               MIG M. |\n",
            "|=========================================+======================+======================|\n",
            "|   0  Tesla T4                       Off | 00000000:00:04.0 Off |                    0 |\n",
            "| N/A   42C    P8               9W /  70W |      0MiB / 15360MiB |      0%      Default |\n",
            "|                                         |                      |                  N/A |\n",
            "+-----------------------------------------+----------------------+----------------------+\n",
            "                                                                                         \n",
            "+---------------------------------------------------------------------------------------+\n",
            "| Processes:                                                                            |\n",
            "|  GPU   GI   CI        PID   Type   Process name                            GPU Memory |\n",
            "|        ID   ID                                                             Usage      |\n",
            "|=======================================================================================|\n",
            "|  No running processes found                                                           |\n",
            "+---------------------------------------------------------------------------------------+\n"
          ]
        }
      ]
    },
    {
      "cell_type": "markdown",
      "source": [
        "## Checking the GPU access with pytorch"
      ],
      "metadata": {
        "id": "ott6fx-fT2lC"
      }
    },
    {
      "cell_type": "code",
      "source": [
        "import torch\n",
        "torch.cuda.is_available()\n",
        "\n",
        "# cuda is nvidia programming interface that allow us to use GPUs for numerical computing"
      ],
      "metadata": {
        "colab": {
          "base_uri": "https://localhost:8080/"
        },
        "id": "284VMds9UBfv",
        "outputId": "35914df5-c2d1-4c05-c806-e1dba76ecae4"
      },
      "execution_count": null,
      "outputs": [
        {
          "output_type": "execute_result",
          "data": {
            "text/plain": [
              "True"
            ]
          },
          "metadata": {},
          "execution_count": 4
        }
      ]
    },
    {
      "cell_type": "code",
      "source": [
        "# Setup device agnostic code\n",
        "device = \"cuda\" if torch.cuda.is_available() else \"cpu\" # set the device to the cuda if it is available else switch to cpu\n",
        "device"
      ],
      "metadata": {
        "colab": {
          "base_uri": "https://localhost:8080/",
          "height": 35
        },
        "id": "xclBYorEUSKL",
        "outputId": "e2633c40-395c-4cdb-85d3-6d0afc448649"
      },
      "execution_count": null,
      "outputs": [
        {
          "output_type": "execute_result",
          "data": {
            "text/plain": [
              "'cuda'"
            ],
            "application/vnd.google.colaboratory.intrinsic+json": {
              "type": "string"
            }
          },
          "metadata": {},
          "execution_count": 5
        }
      ]
    },
    {
      "cell_type": "code",
      "source": [
        "# count the number of Devices\n",
        "torch.cuda.device_count()"
      ],
      "metadata": {
        "colab": {
          "base_uri": "https://localhost:8080/"
        },
        "id": "a2n_tCwBVKfR",
        "outputId": "95bb7926-ae85-4b87-e557-c81f3d3ffd19"
      },
      "execution_count": null,
      "outputs": [
        {
          "output_type": "execute_result",
          "data": {
            "text/plain": [
              "1"
            ]
          },
          "metadata": {},
          "execution_count": 6
        }
      ]
    },
    {
      "cell_type": "markdown",
      "source": [
        "# Putting tensors (and more) on the GPU\n",
        "### The Reason we want our tensors/models on the GPU is beacuse using a GPU results in faster computations"
      ],
      "metadata": {
        "id": "vr2VCS_AVguw"
      }
    },
    {
      "cell_type": "code",
      "source": [
        "# Create a tensor (Default on the CPU)\n",
        "tensor_on_cpu = torch.rand(3,4)\n",
        "\n",
        "# Tensor not on GPU\n",
        "print(tensor_on_cpu, tensor_on_cpu.device)"
      ],
      "metadata": {
        "colab": {
          "base_uri": "https://localhost:8080/"
        },
        "id": "VTOMmXD9XMZn",
        "outputId": "6cc8e666-21c9-4870-9a28-f5145c845cb6"
      },
      "execution_count": null,
      "outputs": [
        {
          "output_type": "stream",
          "name": "stdout",
          "text": [
            "tensor([[0.2328, 0.0545, 0.1804, 0.2795],\n",
            "        [0.1051, 0.4210, 0.0713, 0.2797],\n",
            "        [0.4976, 0.6156, 0.1531, 0.9771]]) cpu\n"
          ]
        }
      ]
    },
    {
      "cell_type": "code",
      "source": [
        "# Move tensor to GPU (if available)\n",
        "tensor_on_gpu = tensor_on_cpu.to(device) # --> this gonna shift the tenspr_on_cpu to the target device\n",
        "tensor_on_gpu"
      ],
      "metadata": {
        "colab": {
          "base_uri": "https://localhost:8080/"
        },
        "id": "aBRq-TbWXxw6",
        "outputId": "8953e16c-06fb-4913-b3de-20098aa50fd7"
      },
      "execution_count": null,
      "outputs": [
        {
          "output_type": "execute_result",
          "data": {
            "text/plain": [
              "tensor([[0.2328, 0.0545, 0.1804, 0.2795],\n",
              "        [0.1051, 0.4210, 0.0713, 0.2797],\n",
              "        [0.4976, 0.6156, 0.1531, 0.9771]], device='cuda:0')"
            ]
          },
          "metadata": {},
          "execution_count": 14
        }
      ]
    },
    {
      "cell_type": "markdown",
      "source": [
        "# Moving tensors back to the CPU"
      ],
      "metadata": {
        "id": "WCzMQotfav9x"
      }
    },
    {
      "cell_type": "code",
      "source": [
        "# Now will see the tensor device error issues.\n",
        "tensor_on_gpu.numpy()  # --> numpy doesn't works on the GPU it works on the CPU"
      ],
      "metadata": {
        "colab": {
          "base_uri": "https://localhost:8080/",
          "height": 193
        },
        "id": "76W-6m2heIH6",
        "outputId": "c4d97ec0-4940-47c8-d63a-20520249d1f8"
      },
      "execution_count": null,
      "outputs": [
        {
          "output_type": "error",
          "ename": "TypeError",
          "evalue": "can't convert cuda:0 device type tensor to numpy. Use Tensor.cpu() to copy the tensor to host memory first.",
          "traceback": [
            "\u001b[0;31m---------------------------------------------------------------------------\u001b[0m",
            "\u001b[0;31mTypeError\u001b[0m                                 Traceback (most recent call last)",
            "\u001b[0;32m<ipython-input-17-4c21f65fb2f7>\u001b[0m in \u001b[0;36m<cell line: 2>\u001b[0;34m()\u001b[0m\n\u001b[1;32m      1\u001b[0m \u001b[0;31m# Now will see the tensor device error issues.\u001b[0m\u001b[0;34m\u001b[0m\u001b[0;34m\u001b[0m\u001b[0m\n\u001b[0;32m----> 2\u001b[0;31m \u001b[0mtensor_on_gpu\u001b[0m\u001b[0;34m.\u001b[0m\u001b[0mnumpy\u001b[0m\u001b[0;34m(\u001b[0m\u001b[0;34m)\u001b[0m  \u001b[0;31m# --> numpy doesn't works on the GPU it works on the CPU\u001b[0m\u001b[0;34m\u001b[0m\u001b[0;34m\u001b[0m\u001b[0m\n\u001b[0m",
            "\u001b[0;31mTypeError\u001b[0m: can't convert cuda:0 device type tensor to numpy. Use Tensor.cpu() to copy the tensor to host memory first."
          ]
        }
      ]
    },
    {
      "cell_type": "code",
      "source": [
        "# To fix the GPU tensor with Numpy issue, we can first set it to the CPU\n",
        "tensor_back_on_cpu = tensor_on_gpu.cpu().numpy()\n",
        "tensor_back_on_cpu"
      ],
      "metadata": {
        "colab": {
          "base_uri": "https://localhost:8080/"
        },
        "id": "vejwNy_ZeP-N",
        "outputId": "f4895170-2469-4dd8-aa85-53b8e0710289"
      },
      "execution_count": null,
      "outputs": [
        {
          "output_type": "execute_result",
          "data": {
            "text/plain": [
              "array([[0.23275101, 0.05451506, 0.18037581, 0.279518  ],\n",
              "       [0.10506815, 0.4209569 , 0.07125467, 0.2796842 ],\n",
              "       [0.49758953, 0.61557263, 0.153067  , 0.9771342 ]], dtype=float32)"
            ]
          },
          "metadata": {},
          "execution_count": 19
        }
      ]
    }
  ]
}