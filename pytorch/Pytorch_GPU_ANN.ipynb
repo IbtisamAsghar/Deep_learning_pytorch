{
  "nbformat": 4,
  "nbformat_minor": 0,
  "metadata": {
    "colab": {
      "provenance": [],
      "gpuType": "T4"
    },
    "kernelspec": {
      "name": "python3",
      "display_name": "Python 3"
    },
    "language_info": {
      "name": "python"
    },
    "accelerator": "GPU"
  },
  "cells": [
    {
      "cell_type": "code",
      "execution_count": 13,
      "metadata": {
        "id": "2tvtJ-DHArvr"
      },
      "outputs": [],
      "source": [
        "import pandas as pd\n",
        "import numpy as np\n",
        "import matplotlib.pyplot as plt\n",
        "import torch\n",
        "from torch.utils.data import Dataset,DataLoader\n",
        "from torch import nn"
      ]
    },
    {
      "cell_type": "code",
      "source": [
        "torch.manual_seed(42)"
      ],
      "metadata": {
        "colab": {
          "base_uri": "https://localhost:8080/"
        },
        "id": "NERbt8KZBagr",
        "outputId": "8710c761-1fdc-421e-accd-b493614200f9"
      },
      "execution_count": 14,
      "outputs": [
        {
          "output_type": "execute_result",
          "data": {
            "text/plain": [
              "<torch._C.Generator at 0x7c80c3728310>"
            ]
          },
          "metadata": {},
          "execution_count": 14
        }
      ]
    },
    {
      "cell_type": "code",
      "source": [
        "device = \"cuda\" if torch.cuda.is_available() else \"cpu\"\n",
        "device"
      ],
      "metadata": {
        "colab": {
          "base_uri": "https://localhost:8080/",
          "height": 35
        },
        "id": "TWI2C-mrxi7V",
        "outputId": "aab88fda-a4d5-4447-e0a7-d89877fc4710"
      },
      "execution_count": 15,
      "outputs": [
        {
          "output_type": "execute_result",
          "data": {
            "text/plain": [
              "'cuda'"
            ],
            "application/vnd.google.colaboratory.intrinsic+json": {
              "type": "string"
            }
          },
          "metadata": {},
          "execution_count": 15
        }
      ]
    },
    {
      "cell_type": "code",
      "source": [
        "df = pd.read_csv('/content/fmnist_small.csv')"
      ],
      "metadata": {
        "id": "GwWN0gqqBnKz"
      },
      "execution_count": 16,
      "outputs": []
    },
    {
      "cell_type": "code",
      "source": [
        "df.head()"
      ],
      "metadata": {
        "colab": {
          "base_uri": "https://localhost:8080/",
          "height": 236
        },
        "id": "hrF76HhaBsuF",
        "outputId": "b528473a-948c-46d9-85af-cb8ea81197fb"
      },
      "execution_count": 17,
      "outputs": [
        {
          "output_type": "execute_result",
          "data": {
            "text/plain": [
              "   label  pixel1  pixel2  pixel3  pixel4  pixel5  pixel6  pixel7  pixel8  \\\n",
              "0      9       0       0       0       0       0       0       0       0   \n",
              "1      7       0       0       0       0       0       0       0       0   \n",
              "2      0       0       0       0       0       0       1       0       0   \n",
              "3      8       0       0       0       0       0       0       0       0   \n",
              "4      8       0       0       0       0       0       0       0       0   \n",
              "\n",
              "   pixel9  ...  pixel775  pixel776  pixel777  pixel778  pixel779  pixel780  \\\n",
              "0       0  ...         0         7         0        50       205       196   \n",
              "1       0  ...         0         0         0         0         0         0   \n",
              "2       0  ...       142       142       142        21         0         3   \n",
              "3       0  ...         0         0         0         0         0         0   \n",
              "4       0  ...       213       203       174       151       188        10   \n",
              "\n",
              "   pixel781  pixel782  pixel783  pixel784  \n",
              "0       213       165         0         0  \n",
              "1         0         0         0         0  \n",
              "2         0         0         0         0  \n",
              "3         0         0         0         0  \n",
              "4         0         0         0         0  \n",
              "\n",
              "[5 rows x 785 columns]"
            ],
            "text/html": [
              "\n",
              "  <div id=\"df-99752e8d-c53c-4fc3-9269-84e0d76523a2\" class=\"colab-df-container\">\n",
              "    <div>\n",
              "<style scoped>\n",
              "    .dataframe tbody tr th:only-of-type {\n",
              "        vertical-align: middle;\n",
              "    }\n",
              "\n",
              "    .dataframe tbody tr th {\n",
              "        vertical-align: top;\n",
              "    }\n",
              "\n",
              "    .dataframe thead th {\n",
              "        text-align: right;\n",
              "    }\n",
              "</style>\n",
              "<table border=\"1\" class=\"dataframe\">\n",
              "  <thead>\n",
              "    <tr style=\"text-align: right;\">\n",
              "      <th></th>\n",
              "      <th>label</th>\n",
              "      <th>pixel1</th>\n",
              "      <th>pixel2</th>\n",
              "      <th>pixel3</th>\n",
              "      <th>pixel4</th>\n",
              "      <th>pixel5</th>\n",
              "      <th>pixel6</th>\n",
              "      <th>pixel7</th>\n",
              "      <th>pixel8</th>\n",
              "      <th>pixel9</th>\n",
              "      <th>...</th>\n",
              "      <th>pixel775</th>\n",
              "      <th>pixel776</th>\n",
              "      <th>pixel777</th>\n",
              "      <th>pixel778</th>\n",
              "      <th>pixel779</th>\n",
              "      <th>pixel780</th>\n",
              "      <th>pixel781</th>\n",
              "      <th>pixel782</th>\n",
              "      <th>pixel783</th>\n",
              "      <th>pixel784</th>\n",
              "    </tr>\n",
              "  </thead>\n",
              "  <tbody>\n",
              "    <tr>\n",
              "      <th>0</th>\n",
              "      <td>9</td>\n",
              "      <td>0</td>\n",
              "      <td>0</td>\n",
              "      <td>0</td>\n",
              "      <td>0</td>\n",
              "      <td>0</td>\n",
              "      <td>0</td>\n",
              "      <td>0</td>\n",
              "      <td>0</td>\n",
              "      <td>0</td>\n",
              "      <td>...</td>\n",
              "      <td>0</td>\n",
              "      <td>7</td>\n",
              "      <td>0</td>\n",
              "      <td>50</td>\n",
              "      <td>205</td>\n",
              "      <td>196</td>\n",
              "      <td>213</td>\n",
              "      <td>165</td>\n",
              "      <td>0</td>\n",
              "      <td>0</td>\n",
              "    </tr>\n",
              "    <tr>\n",
              "      <th>1</th>\n",
              "      <td>7</td>\n",
              "      <td>0</td>\n",
              "      <td>0</td>\n",
              "      <td>0</td>\n",
              "      <td>0</td>\n",
              "      <td>0</td>\n",
              "      <td>0</td>\n",
              "      <td>0</td>\n",
              "      <td>0</td>\n",
              "      <td>0</td>\n",
              "      <td>...</td>\n",
              "      <td>0</td>\n",
              "      <td>0</td>\n",
              "      <td>0</td>\n",
              "      <td>0</td>\n",
              "      <td>0</td>\n",
              "      <td>0</td>\n",
              "      <td>0</td>\n",
              "      <td>0</td>\n",
              "      <td>0</td>\n",
              "      <td>0</td>\n",
              "    </tr>\n",
              "    <tr>\n",
              "      <th>2</th>\n",
              "      <td>0</td>\n",
              "      <td>0</td>\n",
              "      <td>0</td>\n",
              "      <td>0</td>\n",
              "      <td>0</td>\n",
              "      <td>0</td>\n",
              "      <td>1</td>\n",
              "      <td>0</td>\n",
              "      <td>0</td>\n",
              "      <td>0</td>\n",
              "      <td>...</td>\n",
              "      <td>142</td>\n",
              "      <td>142</td>\n",
              "      <td>142</td>\n",
              "      <td>21</td>\n",
              "      <td>0</td>\n",
              "      <td>3</td>\n",
              "      <td>0</td>\n",
              "      <td>0</td>\n",
              "      <td>0</td>\n",
              "      <td>0</td>\n",
              "    </tr>\n",
              "    <tr>\n",
              "      <th>3</th>\n",
              "      <td>8</td>\n",
              "      <td>0</td>\n",
              "      <td>0</td>\n",
              "      <td>0</td>\n",
              "      <td>0</td>\n",
              "      <td>0</td>\n",
              "      <td>0</td>\n",
              "      <td>0</td>\n",
              "      <td>0</td>\n",
              "      <td>0</td>\n",
              "      <td>...</td>\n",
              "      <td>0</td>\n",
              "      <td>0</td>\n",
              "      <td>0</td>\n",
              "      <td>0</td>\n",
              "      <td>0</td>\n",
              "      <td>0</td>\n",
              "      <td>0</td>\n",
              "      <td>0</td>\n",
              "      <td>0</td>\n",
              "      <td>0</td>\n",
              "    </tr>\n",
              "    <tr>\n",
              "      <th>4</th>\n",
              "      <td>8</td>\n",
              "      <td>0</td>\n",
              "      <td>0</td>\n",
              "      <td>0</td>\n",
              "      <td>0</td>\n",
              "      <td>0</td>\n",
              "      <td>0</td>\n",
              "      <td>0</td>\n",
              "      <td>0</td>\n",
              "      <td>0</td>\n",
              "      <td>...</td>\n",
              "      <td>213</td>\n",
              "      <td>203</td>\n",
              "      <td>174</td>\n",
              "      <td>151</td>\n",
              "      <td>188</td>\n",
              "      <td>10</td>\n",
              "      <td>0</td>\n",
              "      <td>0</td>\n",
              "      <td>0</td>\n",
              "      <td>0</td>\n",
              "    </tr>\n",
              "  </tbody>\n",
              "</table>\n",
              "<p>5 rows × 785 columns</p>\n",
              "</div>\n",
              "    <div class=\"colab-df-buttons\">\n",
              "\n",
              "  <div class=\"colab-df-container\">\n",
              "    <button class=\"colab-df-convert\" onclick=\"convertToInteractive('df-99752e8d-c53c-4fc3-9269-84e0d76523a2')\"\n",
              "            title=\"Convert this dataframe to an interactive table.\"\n",
              "            style=\"display:none;\">\n",
              "\n",
              "  <svg xmlns=\"http://www.w3.org/2000/svg\" height=\"24px\" viewBox=\"0 -960 960 960\">\n",
              "    <path d=\"M120-120v-720h720v720H120Zm60-500h600v-160H180v160Zm220 220h160v-160H400v160Zm0 220h160v-160H400v160ZM180-400h160v-160H180v160Zm440 0h160v-160H620v160ZM180-180h160v-160H180v160Zm440 0h160v-160H620v160Z\"/>\n",
              "  </svg>\n",
              "    </button>\n",
              "\n",
              "  <style>\n",
              "    .colab-df-container {\n",
              "      display:flex;\n",
              "      gap: 12px;\n",
              "    }\n",
              "\n",
              "    .colab-df-convert {\n",
              "      background-color: #E8F0FE;\n",
              "      border: none;\n",
              "      border-radius: 50%;\n",
              "      cursor: pointer;\n",
              "      display: none;\n",
              "      fill: #1967D2;\n",
              "      height: 32px;\n",
              "      padding: 0 0 0 0;\n",
              "      width: 32px;\n",
              "    }\n",
              "\n",
              "    .colab-df-convert:hover {\n",
              "      background-color: #E2EBFA;\n",
              "      box-shadow: 0px 1px 2px rgba(60, 64, 67, 0.3), 0px 1px 3px 1px rgba(60, 64, 67, 0.15);\n",
              "      fill: #174EA6;\n",
              "    }\n",
              "\n",
              "    .colab-df-buttons div {\n",
              "      margin-bottom: 4px;\n",
              "    }\n",
              "\n",
              "    [theme=dark] .colab-df-convert {\n",
              "      background-color: #3B4455;\n",
              "      fill: #D2E3FC;\n",
              "    }\n",
              "\n",
              "    [theme=dark] .colab-df-convert:hover {\n",
              "      background-color: #434B5C;\n",
              "      box-shadow: 0px 1px 3px 1px rgba(0, 0, 0, 0.15);\n",
              "      filter: drop-shadow(0px 1px 2px rgba(0, 0, 0, 0.3));\n",
              "      fill: #FFFFFF;\n",
              "    }\n",
              "  </style>\n",
              "\n",
              "    <script>\n",
              "      const buttonEl =\n",
              "        document.querySelector('#df-99752e8d-c53c-4fc3-9269-84e0d76523a2 button.colab-df-convert');\n",
              "      buttonEl.style.display =\n",
              "        google.colab.kernel.accessAllowed ? 'block' : 'none';\n",
              "\n",
              "      async function convertToInteractive(key) {\n",
              "        const element = document.querySelector('#df-99752e8d-c53c-4fc3-9269-84e0d76523a2');\n",
              "        const dataTable =\n",
              "          await google.colab.kernel.invokeFunction('convertToInteractive',\n",
              "                                                    [key], {});\n",
              "        if (!dataTable) return;\n",
              "\n",
              "        const docLinkHtml = 'Like what you see? Visit the ' +\n",
              "          '<a target=\"_blank\" href=https://colab.research.google.com/notebooks/data_table.ipynb>data table notebook</a>'\n",
              "          + ' to learn more about interactive tables.';\n",
              "        element.innerHTML = '';\n",
              "        dataTable['output_type'] = 'display_data';\n",
              "        await google.colab.output.renderOutput(dataTable, element);\n",
              "        const docLink = document.createElement('div');\n",
              "        docLink.innerHTML = docLinkHtml;\n",
              "        element.appendChild(docLink);\n",
              "      }\n",
              "    </script>\n",
              "  </div>\n",
              "\n",
              "\n",
              "<div id=\"df-4296500f-c6eb-4203-ad7f-cd034e18fc66\">\n",
              "  <button class=\"colab-df-quickchart\" onclick=\"quickchart('df-4296500f-c6eb-4203-ad7f-cd034e18fc66')\"\n",
              "            title=\"Suggest charts\"\n",
              "            style=\"display:none;\">\n",
              "\n",
              "<svg xmlns=\"http://www.w3.org/2000/svg\" height=\"24px\"viewBox=\"0 0 24 24\"\n",
              "     width=\"24px\">\n",
              "    <g>\n",
              "        <path d=\"M19 3H5c-1.1 0-2 .9-2 2v14c0 1.1.9 2 2 2h14c1.1 0 2-.9 2-2V5c0-1.1-.9-2-2-2zM9 17H7v-7h2v7zm4 0h-2V7h2v10zm4 0h-2v-4h2v4z\"/>\n",
              "    </g>\n",
              "</svg>\n",
              "  </button>\n",
              "\n",
              "<style>\n",
              "  .colab-df-quickchart {\n",
              "      --bg-color: #E8F0FE;\n",
              "      --fill-color: #1967D2;\n",
              "      --hover-bg-color: #E2EBFA;\n",
              "      --hover-fill-color: #174EA6;\n",
              "      --disabled-fill-color: #AAA;\n",
              "      --disabled-bg-color: #DDD;\n",
              "  }\n",
              "\n",
              "  [theme=dark] .colab-df-quickchart {\n",
              "      --bg-color: #3B4455;\n",
              "      --fill-color: #D2E3FC;\n",
              "      --hover-bg-color: #434B5C;\n",
              "      --hover-fill-color: #FFFFFF;\n",
              "      --disabled-bg-color: #3B4455;\n",
              "      --disabled-fill-color: #666;\n",
              "  }\n",
              "\n",
              "  .colab-df-quickchart {\n",
              "    background-color: var(--bg-color);\n",
              "    border: none;\n",
              "    border-radius: 50%;\n",
              "    cursor: pointer;\n",
              "    display: none;\n",
              "    fill: var(--fill-color);\n",
              "    height: 32px;\n",
              "    padding: 0;\n",
              "    width: 32px;\n",
              "  }\n",
              "\n",
              "  .colab-df-quickchart:hover {\n",
              "    background-color: var(--hover-bg-color);\n",
              "    box-shadow: 0 1px 2px rgba(60, 64, 67, 0.3), 0 1px 3px 1px rgba(60, 64, 67, 0.15);\n",
              "    fill: var(--button-hover-fill-color);\n",
              "  }\n",
              "\n",
              "  .colab-df-quickchart-complete:disabled,\n",
              "  .colab-df-quickchart-complete:disabled:hover {\n",
              "    background-color: var(--disabled-bg-color);\n",
              "    fill: var(--disabled-fill-color);\n",
              "    box-shadow: none;\n",
              "  }\n",
              "\n",
              "  .colab-df-spinner {\n",
              "    border: 2px solid var(--fill-color);\n",
              "    border-color: transparent;\n",
              "    border-bottom-color: var(--fill-color);\n",
              "    animation:\n",
              "      spin 1s steps(1) infinite;\n",
              "  }\n",
              "\n",
              "  @keyframes spin {\n",
              "    0% {\n",
              "      border-color: transparent;\n",
              "      border-bottom-color: var(--fill-color);\n",
              "      border-left-color: var(--fill-color);\n",
              "    }\n",
              "    20% {\n",
              "      border-color: transparent;\n",
              "      border-left-color: var(--fill-color);\n",
              "      border-top-color: var(--fill-color);\n",
              "    }\n",
              "    30% {\n",
              "      border-color: transparent;\n",
              "      border-left-color: var(--fill-color);\n",
              "      border-top-color: var(--fill-color);\n",
              "      border-right-color: var(--fill-color);\n",
              "    }\n",
              "    40% {\n",
              "      border-color: transparent;\n",
              "      border-right-color: var(--fill-color);\n",
              "      border-top-color: var(--fill-color);\n",
              "    }\n",
              "    60% {\n",
              "      border-color: transparent;\n",
              "      border-right-color: var(--fill-color);\n",
              "    }\n",
              "    80% {\n",
              "      border-color: transparent;\n",
              "      border-right-color: var(--fill-color);\n",
              "      border-bottom-color: var(--fill-color);\n",
              "    }\n",
              "    90% {\n",
              "      border-color: transparent;\n",
              "      border-bottom-color: var(--fill-color);\n",
              "    }\n",
              "  }\n",
              "</style>\n",
              "\n",
              "  <script>\n",
              "    async function quickchart(key) {\n",
              "      const quickchartButtonEl =\n",
              "        document.querySelector('#' + key + ' button');\n",
              "      quickchartButtonEl.disabled = true;  // To prevent multiple clicks.\n",
              "      quickchartButtonEl.classList.add('colab-df-spinner');\n",
              "      try {\n",
              "        const charts = await google.colab.kernel.invokeFunction(\n",
              "            'suggestCharts', [key], {});\n",
              "      } catch (error) {\n",
              "        console.error('Error during call to suggestCharts:', error);\n",
              "      }\n",
              "      quickchartButtonEl.classList.remove('colab-df-spinner');\n",
              "      quickchartButtonEl.classList.add('colab-df-quickchart-complete');\n",
              "    }\n",
              "    (() => {\n",
              "      let quickchartButtonEl =\n",
              "        document.querySelector('#df-4296500f-c6eb-4203-ad7f-cd034e18fc66 button');\n",
              "      quickchartButtonEl.style.display =\n",
              "        google.colab.kernel.accessAllowed ? 'block' : 'none';\n",
              "    })();\n",
              "  </script>\n",
              "</div>\n",
              "\n",
              "    </div>\n",
              "  </div>\n"
            ],
            "application/vnd.google.colaboratory.intrinsic+json": {
              "type": "dataframe",
              "variable_name": "df"
            }
          },
          "metadata": {},
          "execution_count": 17
        }
      ]
    },
    {
      "cell_type": "code",
      "source": [
        "\n",
        "# Create figure and set size\n",
        "plt.figure(figsize=(8, 8))\n",
        "plt.suptitle(\"First 16 Images\")\n",
        "\n",
        "# Loop through the first 16 images\n",
        "for i in range(16):\n",
        "    plt.subplot(4, 4, i + 1)  # Create a 4x4 grid of subplots (position starts at 1)\n",
        "\n",
        "    # Extract image data from DataFrame, reshape to 28x28 pixels\n",
        "    img = df.iloc[i, 1:].values.reshape(28, 28)\n",
        "\n",
        "    # Display image in grayscale\n",
        "    plt.imshow(img, cmap='gray')\n",
        "    plt.axis('off')  # Hide axis for better visualization\n",
        "\n",
        "    # Add title showing the label\n",
        "    plt.title(f\"Label: {df.iloc[i, 0]}\")\n",
        "\n",
        "# Adjust layout to prevent overlap\n",
        "plt.tight_layout()\n",
        "\n",
        "# Show the figure\n",
        "plt.show()\n"
      ],
      "metadata": {
        "colab": {
          "base_uri": "https://localhost:8080/",
          "height": 805
        },
        "id": "WHMWflbSBtsd",
        "outputId": "29e36fc6-c931-43a3-abee-5b7d0a991553"
      },
      "execution_count": 18,
      "outputs": [
        {
          "output_type": "display_data",
          "data": {
            "text/plain": [
              "<Figure size 800x800 with 16 Axes>"
            ],
            "image/png": "[encoded data removed]"
          },
          "metadata": {}
        }
      ]
    },
    {
      "cell_type": "code",
      "source": [
        "from sklearn.model_selection import train_test_split\n",
        "\n",
        "# genreate x and y\n",
        "x = df.iloc[:,1:].values\n",
        "y = df.iloc[:,0].values\n",
        "\n",
        "X_train , X_test , y_train , y_test = train_test_split(x,y,test_size=0.2,random_state=42)\n",
        "\n"
      ],
      "metadata": {
        "id": "Sfbs5GuXJGaw"
      },
      "execution_count": 19,
      "outputs": []
    },
    {
      "cell_type": "code",
      "source": [
        "X_train.shape , X_test.shape ,y_train.shape , y_test.shape"
      ],
      "metadata": {
        "colab": {
          "base_uri": "https://localhost:8080/"
        },
        "id": "k8R-c5npK7ca",
        "outputId": "327e4912-5480-4402-c6b3-1a0a997615cf"
      },
      "execution_count": 20,
      "outputs": [
        {
          "output_type": "execute_result",
          "data": {
            "text/plain": [
              "((4800, 784), (1200, 784), (4800,), (1200,))"
            ]
          },
          "metadata": {},
          "execution_count": 20
        }
      ]
    },
    {
      "cell_type": "code",
      "source": [],
      "metadata": {
        "id": "7EHekaixK6f0"
      },
      "execution_count": 20,
      "outputs": []
    },
    {
      "cell_type": "code",
      "source": [
        "\n",
        "# scaling the feautures\n",
        "X_train = X_train/255.0\n",
        "X_test = X_test/255.0\n"
      ],
      "metadata": {
        "id": "KXYRLP47KE3Q"
      },
      "execution_count": 21,
      "outputs": []
    },
    {
      "cell_type": "code",
      "source": [
        "X_train"
      ],
      "metadata": {
        "colab": {
          "base_uri": "https://localhost:8080/"
        },
        "id": "KKV_NwdCKa0F",
        "outputId": "fa1e4f2b-d90e-4e6f-c389-2e6e28eed381"
      },
      "execution_count": 22,
      "outputs": [
        {
          "output_type": "execute_result",
          "data": {
            "text/plain": [
              "array([[0.       , 0.       , 0.       , ..., 0.       , 0.       ,\n",
              "        0.       ],\n",
              "       [0.       , 0.       , 0.       , ..., 0.       , 0.       ,\n",
              "        0.       ],\n",
              "       [0.       , 0.       , 0.       , ..., 0.       , 0.       ,\n",
              "        0.       ],\n",
              "       ...,\n",
              "       [0.       , 0.       , 0.       , ..., 0.       , 0.       ,\n",
              "        0.       ],\n",
              "       [0.       , 0.       , 0.       , ..., 0.       , 0.       ,\n",
              "        0.       ],\n",
              "       [0.       , 0.       , 0.       , ..., 0.0627451, 0.       ,\n",
              "        0.       ]])"
            ]
          },
          "metadata": {},
          "execution_count": 22
        }
      ]
    },
    {
      "cell_type": "code",
      "source": [
        "X_train.shape"
      ],
      "metadata": {
        "colab": {
          "base_uri": "https://localhost:8080/"
        },
        "id": "5opDzYuKKt22",
        "outputId": "a5172443-3548-4d13-dc45-2d5e19a633aa"
      },
      "execution_count": 23,
      "outputs": [
        {
          "output_type": "execute_result",
          "data": {
            "text/plain": [
              "(4800, 784)"
            ]
          },
          "metadata": {},
          "execution_count": 23
        }
      ]
    },
    {
      "cell_type": "code",
      "source": [
        "# create CustomDataset Class\n",
        "class CustomDataset(Dataset):\n",
        "\n",
        "  def __init__(self, features, labels):\n",
        "\n",
        "    self.features = torch.tensor(features, dtype=torch.float32)\n",
        "    self.labels = torch.tensor(labels, dtype=torch.long)\n",
        "\n",
        "  def __len__(self):\n",
        "\n",
        "    return len(self.features)\n",
        "\n",
        "  def __getitem__(self, index):\n",
        "\n",
        "    return self.features[index], self.labels[index]"
      ],
      "metadata": {
        "id": "QwTLkUnLKxFG"
      },
      "execution_count": 24,
      "outputs": []
    },
    {
      "cell_type": "code",
      "source": [
        "train_dataset = CustomDataset(X_train, y_train)"
      ],
      "metadata": {
        "id": "mx3gHWoHMAbS"
      },
      "execution_count": 25,
      "outputs": []
    },
    {
      "cell_type": "code",
      "source": [
        "train_dataset[0]"
      ],
      "metadata": {
        "colab": {
          "base_uri": "https://localhost:8080/"
        },
        "id": "ZrBXEqWPUGxs",
        "outputId": "2126c607-79a1-43f8-ced8-7ee8ad10da6d"
      },
      "execution_count": 26,
      "outputs": [
        {
          "output_type": "execute_result",
          "data": {
            "text/plain": [
              "(tensor([0.0000, 0.0000, 0.0000, 0.0000, 0.0000, 0.0000, 0.0000, 0.0000, 0.0000,\n",
              "         0.0000, 0.0000, 0.0000, 0.0000, 0.0000, 0.0000, 0.0000, 0.0000, 0.0000,\n",
              "         0.0000, 0.0000, 0.0000, 0.0000, 0.0000, 0.0000, 0.0000, 0.0000, 0.0000,\n",
              "         0.0000, 0.0000, 0.0000, 0.0000, 0.0000, 0.0000, 0.0000, 0.0000, 0.0000,\n",
              "         0.0000, 0.0000, 0.0000, 0.0000, 0.0000, 0.0000, 0.0000, 0.0000, 0.0000,\n",
              "         0.0000, 0.0000, 0.0000, 0.0000, 0.0000, 0.0000, 0.0000, 0.0000, 0.0000,\n",
              "         0.0000, 0.0000, 0.0000, 0.0000, 0.0000, 0.0000, 0.0000, 0.0000, 0.0000,\n",
              "         0.0000, 0.0000, 0.0000, 0.0000, 0.0000, 0.0000, 0.0000, 0.0000, 0.0000,\n",
              "         0.0000, 0.0000, 0.0000, 0.0000, 0.0000, 0.0000, 0.0000, 0.0000, 0.0000,\n",
              "         0.0000, 0.0000, 0.0000, 0.0000, 0.0000, 0.0000, 0.0000, 0.0000, 0.0000,\n",
              "         0.0000, 0.0000, 0.0000, 0.0000, 0.0000, 0.0000, 0.0000, 0.0000, 0.0000,\n",
              "         0.0000, 0.0000, 0.0000, 0.0000, 0.0000, 0.0000, 0.0000, 0.0000, 0.0000,\n",
              "         0.0000, 0.0000, 0.0000, 0.0000, 0.0000, 0.0000, 0.0000, 0.0000, 0.0000,\n",
              "         0.0000, 0.0000, 0.0000, 0.0000, 0.0000, 0.0000, 0.0000, 0.0000, 0.0000,\n",
              "         0.0000, 0.0000, 0.0000, 0.0000, 0.0000, 0.0000, 0.0000, 0.0000, 0.0000,\n",
              "         0.0000, 0.0000, 0.0000, 0.0000, 0.0000, 0.0000, 0.0000, 0.0000, 0.0000,\n",
              "         0.0000, 0.0000, 0.0000, 0.0000, 0.0000, 0.0000, 0.0000, 0.0000, 0.0000,\n",
              "         0.0000, 0.0000, 0.0000, 0.0000, 0.0000, 0.0000, 0.0000, 0.0000, 0.0000,\n",
              "         0.0000, 0.0000, 0.0000, 0.0000, 0.0000, 0.0000, 0.0000, 0.0000, 0.0000,\n",
              "         0.0000, 0.0000, 0.0000, 0.0000, 0.0000, 0.0000, 0.0000, 0.0000, 0.0000,\n",
              "         0.0000, 0.0000, 0.0000, 0.0000, 0.0000, 0.0000, 0.0000, 0.0000, 0.0000,\n",
              "         0.0000, 0.0000, 0.0000, 0.0000, 0.0000, 0.0000, 0.0000, 0.0000, 0.0000,\n",
              "         0.0000, 0.0000, 0.0000, 0.0000, 0.0000, 0.0000, 0.0000, 0.0000, 0.0000,\n",
              "         0.0000, 0.0000, 0.0000, 0.0000, 0.0000, 0.0000, 0.0000, 0.0000, 0.0000,\n",
              "         0.0000, 0.0000, 0.0000, 0.0000, 0.0000, 0.0000, 0.0000, 0.0000, 0.0000,\n",
              "         0.0000, 0.0000, 0.0000, 0.0000, 0.0000, 0.0000, 0.0000, 0.0000, 0.0000,\n",
              "         0.0000, 0.0000, 0.0000, 0.0000, 0.0000, 0.0000, 0.0000, 0.0000, 0.0000,\n",
              "         0.0000, 0.0000, 0.0000, 0.0000, 0.0000, 0.0000, 0.0000, 0.0000, 0.0000,\n",
              "         0.0000, 0.0000, 0.0000, 0.0000, 0.0000, 0.0000, 0.0000, 0.0000, 0.0000,\n",
              "         0.0000, 0.0000, 0.0000, 0.0000, 0.0000, 0.0627, 0.2196, 0.2039, 0.0784,\n",
              "         0.1569, 0.2196, 0.0000, 0.0000, 0.0314, 0.0000, 0.0000, 0.0000, 0.0000,\n",
              "         0.0000, 0.0000, 0.0000, 0.0000, 0.0000, 0.0000, 0.0000, 0.0000, 0.0000,\n",
              "         0.0157, 0.0000, 0.0000, 0.0000, 0.0157, 0.0627, 0.3333, 0.5216, 0.4118,\n",
              "         0.2667, 0.2667, 0.4745, 0.0000, 0.0000, 0.0157, 0.0157, 0.0157, 0.0000,\n",
              "         0.0000, 0.0000, 0.0000, 0.0000, 0.0000, 0.0000, 0.0000, 0.0000, 0.0000,\n",
              "         0.0000, 0.0000, 0.0000, 0.0471, 0.2039, 0.3137, 0.3647, 0.0314, 0.0627,\n",
              "         0.2196, 0.1098, 0.3490, 1.0000, 0.0000, 0.0000, 0.0000, 0.0000, 0.0000,\n",
              "         0.0000, 0.6824, 0.1098, 0.0000, 0.0157, 0.0000, 0.0000, 0.0000, 0.0000,\n",
              "         0.0000, 0.0000, 0.1255, 0.2667, 0.3137, 0.2510, 0.1098, 0.0627, 0.1569,\n",
              "         0.1098, 0.0471, 0.1098, 0.0000, 0.4275, 0.6824, 0.2353, 0.0314, 0.0000,\n",
              "         0.0157, 0.4275, 0.6824, 0.1098, 0.0000, 0.0000, 0.0000, 0.0000, 0.0000,\n",
              "         0.0000, 0.1882, 0.2667, 0.1882, 0.0627, 0.1098, 0.0941, 0.0314, 0.0471,\n",
              "         0.0000, 0.0000, 0.0000, 0.1569, 0.8078, 0.0941, 0.0000, 0.1255, 0.6667,\n",
              "         0.6824, 0.6157, 0.6824, 0.6824, 0.2039, 0.0157, 0.1569, 0.1882, 0.2039,\n",
              "         0.1725, 0.3804, 0.1255, 0.0000, 0.1098, 0.1255, 0.0627, 0.0157, 0.0157,\n",
              "         0.0000, 0.0314, 0.3647, 0.6157, 0.5843, 0.7608, 0.8549, 0.4745, 0.1882,\n",
              "         0.7765, 0.6667, 0.4745, 0.6314, 0.6314, 0.4118, 0.2980, 0.4118, 0.1255,\n",
              "         0.0000, 0.1412, 0.5686, 0.0000, 0.2667, 0.1255, 0.0000, 0.0471, 0.1412,\n",
              "         0.1725, 0.3333, 0.5216, 0.7765, 0.9176, 0.8392, 0.7137, 0.8078, 0.8549,\n",
              "         0.6824, 0.8863, 0.6824, 0.3961, 0.5529, 0.6824, 0.4588, 0.2510, 0.2510,\n",
              "         0.3804, 0.2980, 0.3804, 0.5529, 0.2510, 0.4431, 0.2353, 0.1569, 0.0157,\n",
              "         0.1412, 0.3804, 0.8392, 0.7137, 0.6980, 0.6157, 0.4588, 0.4431, 0.5686,\n",
              "         0.7294, 0.6471, 0.7765, 0.7765, 0.5373, 0.5843, 0.6667, 0.4588, 0.4588,\n",
              "         0.4431, 0.3333, 0.2667, 0.2824, 0.3137, 0.3490, 0.3804, 0.3333, 0.3961,\n",
              "         0.3333, 0.2980, 0.3137, 0.2980, 0.2824, 0.2824, 0.2510, 0.2039, 0.2196,\n",
              "         0.2510, 0.2667, 0.3490, 0.3647, 0.3333, 0.2980, 0.2980, 0.3647, 0.4118,\n",
              "         0.1098, 0.2667, 0.4588, 0.5529, 0.4431, 0.4275, 0.3804, 0.3647, 0.3137,\n",
              "         0.3961, 0.4745, 0.4431, 0.4275, 0.3647, 0.3804, 0.3961, 0.4275, 0.4118,\n",
              "         0.3804, 0.3961, 0.3804, 0.3647, 0.3490, 0.3804, 0.4118, 0.3961, 0.3804,\n",
              "         0.4118, 0.0000, 0.0000, 0.0000, 0.1255, 0.3137, 0.2980, 0.3804, 0.3961,\n",
              "         0.4431, 0.4275, 0.3804, 0.3137, 0.3647, 0.4118, 0.3647, 0.3490, 0.3333,\n",
              "         0.3490, 0.3647, 0.3804, 0.3804, 0.3804, 0.3961, 0.4275, 0.4588, 0.3961,\n",
              "         0.4118, 0.3804, 0.0000, 0.0000, 0.0000, 0.0000, 0.0000, 0.0000, 0.0000,\n",
              "         0.0000, 0.0000, 0.0000, 0.0000, 0.0000, 0.0000, 0.0000, 0.0000, 0.0000,\n",
              "         0.0000, 0.0000, 0.0000, 0.0000, 0.0000, 0.0000, 0.0000, 0.0000, 0.0000,\n",
              "         0.0000, 0.0000, 0.0000, 0.0000, 0.0000, 0.0000, 0.0000, 0.0000, 0.0000,\n",
              "         0.0000, 0.0000, 0.0000, 0.0000, 0.0000, 0.0000, 0.0000, 0.0000, 0.0000,\n",
              "         0.0000, 0.0000, 0.0000, 0.0000, 0.0000, 0.0000, 0.0000, 0.0000, 0.0000,\n",
              "         0.0000, 0.0000, 0.0000, 0.0000, 0.0000, 0.0000, 0.0000, 0.0000, 0.0000,\n",
              "         0.0000, 0.0000, 0.0000, 0.0000, 0.0000, 0.0000, 0.0000, 0.0000, 0.0000,\n",
              "         0.0000, 0.0000, 0.0000, 0.0000, 0.0000, 0.0000, 0.0000, 0.0000, 0.0000,\n",
              "         0.0000, 0.0000, 0.0000, 0.0000, 0.0000, 0.0000, 0.0000, 0.0000, 0.0000,\n",
              "         0.0000, 0.0000, 0.0000, 0.0000, 0.0000, 0.0000, 0.0000, 0.0000, 0.0000,\n",
              "         0.0000, 0.0000, 0.0000, 0.0000, 0.0000, 0.0000, 0.0000, 0.0000, 0.0000,\n",
              "         0.0000, 0.0000, 0.0000, 0.0000, 0.0000, 0.0000, 0.0000, 0.0000, 0.0000,\n",
              "         0.0000, 0.0000, 0.0000, 0.0000, 0.0000, 0.0000, 0.0000, 0.0000, 0.0000,\n",
              "         0.0000, 0.0000, 0.0000, 0.0000, 0.0000, 0.0000, 0.0000, 0.0000, 0.0000,\n",
              "         0.0000, 0.0000, 0.0000, 0.0000, 0.0000, 0.0000, 0.0000, 0.0000, 0.0000,\n",
              "         0.0000, 0.0000, 0.0000, 0.0000, 0.0000, 0.0000, 0.0000, 0.0000, 0.0000,\n",
              "         0.0000, 0.0000, 0.0000, 0.0000, 0.0000, 0.0000, 0.0000, 0.0000, 0.0000,\n",
              "         0.0000, 0.0000, 0.0000, 0.0000, 0.0000, 0.0000, 0.0000, 0.0000, 0.0000,\n",
              "         0.0000, 0.0000, 0.0000, 0.0000, 0.0000, 0.0000, 0.0000, 0.0000, 0.0000,\n",
              "         0.0000, 0.0000, 0.0000, 0.0000, 0.0000, 0.0000, 0.0000, 0.0000, 0.0000,\n",
              "         0.0000, 0.0000, 0.0000, 0.0000, 0.0000, 0.0000, 0.0000, 0.0000, 0.0000,\n",
              "         0.0000, 0.0000, 0.0000, 0.0000, 0.0000, 0.0000, 0.0000, 0.0000, 0.0000,\n",
              "         0.0000, 0.0000, 0.0000, 0.0000, 0.0000, 0.0000, 0.0000, 0.0000, 0.0000,\n",
              "         0.0000, 0.0000, 0.0000, 0.0000, 0.0000, 0.0000, 0.0000, 0.0000, 0.0000,\n",
              "         0.0000]),\n",
              " tensor(7))"
            ]
          },
          "metadata": {},
          "execution_count": 26
        }
      ]
    },
    {
      "cell_type": "code",
      "source": [
        "test_dataset = CustomDataset(X_test,y_test)"
      ],
      "metadata": {
        "id": "KTiHKuU7UEpT"
      },
      "execution_count": 27,
      "outputs": []
    },
    {
      "cell_type": "code",
      "source": [
        "test_loader = DataLoader(train_dataset , batch_size=32 , shuffle=True , pin_memory = True)\n",
        "train_loader = DataLoader(test_dataset , batch_size=32 , shuffle= False , pin_memory= True)"
      ],
      "metadata": {
        "id": "26vAXf1eMYNW"
      },
      "execution_count": 38,
      "outputs": []
    },
    {
      "cell_type": "code",
      "source": [
        "class ModelANN (nn.Module) :\n",
        "  def __init__(self , input_features) :\n",
        "    super().__init__()\n",
        "    self.model_1 = nn.Sequential(\n",
        "        nn.Linear(input_features,128),\n",
        "        nn.ReLU(),\n",
        "        nn.Linear(128,64),\n",
        "        nn.ReLU(),\n",
        "        nn.Linear(64,10)\n",
        "    )\n",
        "\n",
        "  def forward (self ,x) :\n",
        "    return self.model_1(x)"
      ],
      "metadata": {
        "id": "pSLbCTETNF5T"
      },
      "execution_count": 39,
      "outputs": []
    },
    {
      "cell_type": "code",
      "source": [
        "X_train.shape[1]"
      ],
      "metadata": {
        "colab": {
          "base_uri": "https://localhost:8080/"
        },
        "id": "2_BmI2PVYAq2",
        "outputId": "4b10d1ac-525e-4f9f-dc42-2b5d78c02009"
      },
      "execution_count": 40,
      "outputs": [
        {
          "output_type": "execute_result",
          "data": {
            "text/plain": [
              "784"
            ]
          },
          "metadata": {},
          "execution_count": 40
        }
      ]
    },
    {
      "cell_type": "code",
      "source": [
        "model = ModelANN(X_train.shape[1]).to(device)"
      ],
      "metadata": {
        "id": "XdfRotLhX4ov"
      },
      "execution_count": 41,
      "outputs": []
    },
    {
      "cell_type": "code",
      "source": [
        "model.state_dict()"
      ],
      "metadata": {
        "colab": {
          "base_uri": "https://localhost:8080/"
        },
        "id": "vK__7jyBOs77",
        "outputId": "34e4c763-fb49-4aa7-d4e0-5faada6e8233"
      },
      "execution_count": 42,
      "outputs": [
        {
          "output_type": "execute_result",
          "data": {
            "text/plain": [
              "OrderedDict([('model_1.0.weight',\n",
              "              tensor([[-1.1058e-02,  2.8032e-02,  2.2222e-02,  ...,  2.2687e-02,\n",
              "                        2.3322e-02,  3.2873e-03],\n",
              "                      [-6.0879e-03, -1.7775e-02, -8.0178e-04,  ..., -7.0825e-03,\n",
              "                       -1.6583e-02,  3.1450e-02],\n",
              "                      [-2.1665e-02, -2.0580e-02,  2.6058e-02,  ..., -4.4099e-05,\n",
              "                       -1.6688e-02, -1.5892e-02],\n",
              "                      ...,\n",
              "                      [ 7.4031e-03, -1.9092e-02,  1.5895e-02,  ..., -2.2057e-02,\n",
              "                       -9.6768e-03,  2.0382e-02],\n",
              "                      [ 1.2097e-02, -2.5608e-02,  3.5730e-03,  ..., -9.1146e-03,\n",
              "                        4.8243e-03,  2.6940e-02],\n",
              "                      [ 3.5683e-02,  1.1164e-02, -9.8978e-03,  ...,  2.7085e-02,\n",
              "                        2.7805e-02, -2.5075e-02]], device='cuda:0')),\n",
              "             ('model_1.0.bias',\n",
              "              tensor([ 0.0164,  0.0020, -0.0350, -0.0324, -0.0236,  0.0016, -0.0311,  0.0073,\n",
              "                       0.0186,  0.0203, -0.0085,  0.0298, -0.0021, -0.0356, -0.0251, -0.0101,\n",
              "                      -0.0220,  0.0036,  0.0317,  0.0174, -0.0204, -0.0226, -0.0200, -0.0288,\n",
              "                      -0.0035, -0.0216,  0.0154,  0.0304,  0.0012,  0.0104,  0.0317,  0.0328,\n",
              "                       0.0094,  0.0269, -0.0192, -0.0248,  0.0106, -0.0123, -0.0236, -0.0211,\n",
              "                       0.0153, -0.0214, -0.0120,  0.0207,  0.0331,  0.0165, -0.0357, -0.0158,\n",
              "                      -0.0087, -0.0125, -0.0051,  0.0217,  0.0344, -0.0320, -0.0003,  0.0067,\n",
              "                       0.0098,  0.0255, -0.0304,  0.0222,  0.0319,  0.0079, -0.0037,  0.0258,\n",
              "                       0.0334, -0.0236, -0.0246, -0.0162,  0.0290, -0.0068,  0.0164, -0.0017,\n",
              "                       0.0323, -0.0174,  0.0079, -0.0008, -0.0041,  0.0093, -0.0290, -0.0193,\n",
              "                       0.0092,  0.0215, -0.0271,  0.0005,  0.0074,  0.0294,  0.0251, -0.0214,\n",
              "                      -0.0354, -0.0180,  0.0162, -0.0107,  0.0296,  0.0239,  0.0186, -0.0051,\n",
              "                       0.0330,  0.0068, -0.0144, -0.0178,  0.0312,  0.0284, -0.0153,  0.0273,\n",
              "                       0.0145,  0.0155,  0.0341, -0.0091, -0.0011, -0.0331, -0.0146, -0.0209,\n",
              "                      -0.0283, -0.0071,  0.0035, -0.0351,  0.0263, -0.0307, -0.0154, -0.0231,\n",
              "                       0.0272,  0.0004,  0.0309, -0.0130, -0.0206, -0.0218, -0.0275,  0.0049],\n",
              "                     device='cuda:0')),\n",
              "             ('model_1.2.weight',\n",
              "              tensor([[ 0.0334, -0.0509,  0.0444,  ..., -0.0229,  0.0559, -0.0060],\n",
              "                      [ 0.0519,  0.0610,  0.0243,  ...,  0.0143,  0.0165,  0.0419],\n",
              "                      [ 0.0739,  0.0583,  0.0025,  ...,  0.0360, -0.0334, -0.0413],\n",
              "                      ...,\n",
              "                      [ 0.0299,  0.0522, -0.0204,  ...,  0.0017, -0.0469, -0.0377],\n",
              "                      [-0.0721,  0.0354,  0.0768,  ..., -0.0640, -0.0181, -0.0428],\n",
              "                      [-0.0209,  0.0722,  0.0863,  ..., -0.0699,  0.0584,  0.0845]],\n",
              "                     device='cuda:0')),\n",
              "             ('model_1.2.bias',\n",
              "              tensor([ 0.0536, -0.0713,  0.0154,  0.0571, -0.0858,  0.0515, -0.0062,  0.0007,\n",
              "                      -0.0547, -0.0224,  0.0681,  0.0527,  0.0381,  0.0565,  0.0341, -0.0089,\n",
              "                      -0.0424, -0.0610, -0.0277, -0.0473, -0.0202,  0.0119, -0.0334,  0.0614,\n",
              "                      -0.0423, -0.0064, -0.0345,  0.0011,  0.0467,  0.0883, -0.0320,  0.0489,\n",
              "                       0.0566, -0.0182, -0.0595, -0.0468,  0.0568, -0.0242,  0.0689, -0.0864,\n",
              "                      -0.0814, -0.0125, -0.0761,  0.0653,  0.0505,  0.0604, -0.0733, -0.0005,\n",
              "                      -0.0027, -0.0607, -0.0021, -0.0386,  0.0280,  0.0630, -0.0017,  0.0393,\n",
              "                       0.0265,  0.0430, -0.0460, -0.0406,  0.0773, -0.0037, -0.0182, -0.0005],\n",
              "                     device='cuda:0')),\n",
              "             ('model_1.4.weight',\n",
              "              tensor([[-0.0532, -0.0810, -0.0833, -0.0492,  0.1133,  0.0981, -0.0845, -0.0211,\n",
              "                        0.0463,  0.0537,  0.1130,  0.0468, -0.0101, -0.0465,  0.0965,  0.0956,\n",
              "                       -0.0931, -0.0418,  0.0432,  0.0412, -0.1231, -0.0794,  0.0066, -0.0190,\n",
              "                       -0.0233, -0.0898, -0.0233, -0.1218,  0.0697, -0.0123, -0.0838,  0.1166,\n",
              "                       -0.0390,  0.1194, -0.1131,  0.0069, -0.1087,  0.0973,  0.1211,  0.0872,\n",
              "                        0.0844, -0.0705, -0.1235, -0.0406, -0.1079, -0.0741, -0.0561,  0.0334,\n",
              "                       -0.0034, -0.0168, -0.1050,  0.0653,  0.0969, -0.1123, -0.0850, -0.1204,\n",
              "                       -0.0806,  0.0299,  0.0475, -0.0290,  0.0956, -0.0081, -0.0991, -0.1036],\n",
              "                      [-0.0947, -0.0832,  0.0059,  0.0605, -0.0494, -0.1236, -0.0621, -0.1237,\n",
              "                       -0.1117,  0.1103, -0.0208, -0.0237, -0.0312,  0.0600,  0.1194,  0.0479,\n",
              "                       -0.0887, -0.0775,  0.0912, -0.0879, -0.0593, -0.0729, -0.1185, -0.0472,\n",
              "                        0.0772,  0.0084,  0.0774,  0.0015,  0.0794,  0.1220, -0.0052, -0.0736,\n",
              "                       -0.0353,  0.0979, -0.0891,  0.0742, -0.0837,  0.0286, -0.0440,  0.0807,\n",
              "                       -0.0239, -0.0491,  0.0264,  0.0168,  0.0226, -0.1158, -0.1166,  0.0260,\n",
              "                       -0.0981, -0.0468,  0.0152,  0.0620,  0.0484, -0.0118,  0.0071, -0.0173,\n",
              "                        0.1205,  0.0332, -0.0888, -0.1193, -0.0678,  0.1182,  0.0304,  0.0890],\n",
              "                      [-0.1093, -0.1128,  0.0125,  0.1156,  0.1209,  0.0414, -0.0472,  0.0531,\n",
              "                        0.0897, -0.0373, -0.1007, -0.0947,  0.0639, -0.0463,  0.0998,  0.0790,\n",
              "                        0.0804,  0.0912,  0.0287, -0.0458,  0.0933,  0.0223, -0.0890, -0.0042,\n",
              "                       -0.0502,  0.0491,  0.1216, -0.0822, -0.0008,  0.0317,  0.0036, -0.0260,\n",
              "                       -0.0974, -0.0444,  0.1244,  0.0932,  0.0234, -0.0663,  0.1040, -0.1209,\n",
              "                        0.0990,  0.0318, -0.0913,  0.0673,  0.0970, -0.0641,  0.0751, -0.1152,\n",
              "                       -0.0560,  0.0989,  0.0525,  0.0017,  0.0932,  0.0213, -0.0839,  0.0809,\n",
              "                       -0.0103,  0.1247, -0.0961, -0.1242,  0.0493, -0.1066,  0.0588, -0.0565],\n",
              "                      [ 0.0909, -0.0563,  0.0984,  0.0049, -0.0086,  0.0537, -0.1018,  0.0741,\n",
              "                        0.0861, -0.1200,  0.0975,  0.0388, -0.0358,  0.1219, -0.0163, -0.0398,\n",
              "                        0.1134,  0.0319,  0.1001, -0.0580,  0.0959, -0.0610,  0.1042, -0.0524,\n",
              "                        0.0813,  0.0647, -0.1147, -0.0891,  0.0500,  0.0059, -0.0685,  0.0712,\n",
              "                        0.1027,  0.0179, -0.0471, -0.0300,  0.0668,  0.0747,  0.0219,  0.0518,\n",
              "                        0.0506,  0.1032, -0.0980,  0.0809, -0.0753,  0.0441, -0.0400,  0.0150,\n",
              "                        0.0869, -0.1234, -0.1084, -0.0638,  0.1102, -0.0367, -0.0666, -0.0148,\n",
              "                       -0.0465,  0.1249,  0.0196,  0.0476,  0.0023,  0.0034,  0.0403, -0.0532],\n",
              "                      [-0.1114,  0.0824,  0.1088,  0.1042, -0.0779,  0.0893, -0.0162,  0.0500,\n",
              "                       -0.1012,  0.0729,  0.0405,  0.0474,  0.0841,  0.0129, -0.0718, -0.0364,\n",
              "                        0.0691,  0.0230, -0.0522,  0.0912,  0.0605,  0.0665,  0.1237, -0.0796,\n",
              "                        0.0426,  0.0161, -0.1146, -0.0405,  0.1111, -0.0843, -0.0134, -0.0645,\n",
              "                        0.0818,  0.0990, -0.1032, -0.0254,  0.0143, -0.0865,  0.0921, -0.0163,\n",
              "                        0.0785,  0.0015, -0.0990,  0.0004,  0.0016, -0.0996,  0.0734, -0.0424,\n",
              "                        0.0949, -0.0851,  0.0744, -0.1106,  0.1014,  0.1066, -0.0595, -0.1053,\n",
              "                        0.0694,  0.0485, -0.0952, -0.0383,  0.0799, -0.1037, -0.0434, -0.1233],\n",
              "                      [-0.0333, -0.0297,  0.0489,  0.0370, -0.0951,  0.1113,  0.0949, -0.0131,\n",
              "                        0.0920,  0.0114,  0.0452, -0.0298,  0.1145,  0.0241, -0.1109, -0.0245,\n",
              "                       -0.0512,  0.1172,  0.0687,  0.0549,  0.0498,  0.0117, -0.0642, -0.0252,\n",
              "                        0.1242,  0.0490, -0.0132,  0.0131,  0.0604,  0.0686, -0.0662, -0.0408,\n",
              "                        0.0534,  0.1061,  0.0614,  0.0498, -0.0775, -0.1173,  0.0977, -0.0505,\n",
              "                       -0.0377, -0.1007,  0.1068,  0.0566, -0.0210,  0.0787,  0.0782,  0.0989,\n",
              "                       -0.0060, -0.1054,  0.0677,  0.0286, -0.1046,  0.0620, -0.0306, -0.0366,\n",
              "                       -0.0852,  0.0430, -0.0279,  0.1194,  0.0208, -0.0893, -0.0728, -0.0850],\n",
              "                      [-0.0326,  0.0751, -0.0590,  0.0384, -0.0019,  0.0978, -0.0446,  0.0654,\n",
              "                        0.1071, -0.0218, -0.0369,  0.0008,  0.1039,  0.0933,  0.0140,  0.0591,\n",
              "                        0.0845, -0.0926,  0.0353,  0.0272, -0.0691,  0.0121, -0.0464, -0.0978,\n",
              "                        0.0754, -0.0976,  0.0908, -0.0384,  0.0698,  0.0799,  0.0935, -0.0763,\n",
              "                       -0.0498, -0.0264, -0.1199,  0.0438, -0.0887,  0.0223, -0.1008,  0.1213,\n",
              "                        0.1221,  0.0220,  0.0025, -0.0824,  0.0511,  0.0446, -0.0226, -0.0938,\n",
              "                       -0.0031,  0.0970, -0.0695, -0.0339, -0.0666, -0.0600, -0.1248, -0.1247,\n",
              "                        0.0125,  0.1197, -0.1037, -0.0361, -0.0595, -0.0206, -0.0016,  0.0075],\n",
              "                      [-0.0334, -0.0991,  0.0977, -0.1023, -0.0274,  0.0512, -0.0330,  0.0514,\n",
              "                        0.0251, -0.0973,  0.0092, -0.0532,  0.0029,  0.0170, -0.0022,  0.0485,\n",
              "                        0.0602, -0.0776,  0.0196, -0.0268, -0.0332, -0.0478, -0.0750,  0.0350,\n",
              "                        0.0682, -0.0359, -0.0391,  0.0203, -0.0714, -0.1177,  0.0549, -0.0038,\n",
              "                        0.0847, -0.0707,  0.0960, -0.0205, -0.0210, -0.0808, -0.0602, -0.1202,\n",
              "                       -0.1173,  0.0427, -0.0901, -0.0080, -0.0954, -0.1055,  0.1038,  0.1081,\n",
              "                       -0.0507,  0.0976,  0.0343,  0.1158, -0.0732,  0.1101, -0.0177, -0.1156,\n",
              "                        0.1087,  0.0643,  0.0800, -0.0093, -0.0642,  0.0990, -0.0662,  0.0973],\n",
              "                      [ 0.1128, -0.1077, -0.0836,  0.1066, -0.0729,  0.0855, -0.1060,  0.0385,\n",
              "                        0.0955, -0.0967,  0.0169,  0.1139,  0.1227,  0.1124,  0.0014,  0.0057,\n",
              "                        0.0795, -0.0331,  0.0088,  0.0623, -0.0515, -0.1000,  0.1238, -0.0025,\n",
              "                        0.0832, -0.0178, -0.0969, -0.0753, -0.0972,  0.0257,  0.0948,  0.0289,\n",
              "                       -0.0193, -0.1066, -0.0163,  0.0305,  0.0450,  0.0611, -0.0731, -0.1245,\n",
              "                        0.0778,  0.1248, -0.0758, -0.0631, -0.0531, -0.0065, -0.0098,  0.0812,\n",
              "                        0.0407, -0.1149,  0.0372,  0.0770, -0.0624,  0.0924, -0.0995,  0.0113,\n",
              "                        0.0370, -0.0308, -0.0264, -0.0296,  0.0926,  0.0036,  0.0423, -0.0715],\n",
              "                      [-0.0909,  0.0071, -0.0752, -0.0709, -0.0511, -0.1208, -0.0701, -0.0466,\n",
              "                       -0.1064, -0.0224,  0.1215, -0.0837,  0.1033, -0.0698, -0.0563,  0.0487,\n",
              "                       -0.0733, -0.0632, -0.1054, -0.0850, -0.0249,  0.1083, -0.0760,  0.0930,\n",
              "                       -0.0466,  0.1030,  0.0346, -0.0431,  0.0276, -0.1024,  0.0918,  0.0365,\n",
              "                        0.0541,  0.0346, -0.0936,  0.0555, -0.0151,  0.0173,  0.0679,  0.0167,\n",
              "                       -0.0326,  0.0554, -0.0240, -0.1115,  0.1161, -0.1085, -0.0023,  0.0586,\n",
              "                        0.1026, -0.0534, -0.0776, -0.0618,  0.0280,  0.0810, -0.1216, -0.0739,\n",
              "                        0.0021,  0.0186, -0.0869, -0.1223,  0.0170,  0.0683, -0.0287, -0.0112]],\n",
              "                     device='cuda:0')),\n",
              "             ('model_1.4.bias',\n",
              "              tensor([-0.0077, -0.0742,  0.0623, -0.0498, -0.1135, -0.0512, -0.0955, -0.1097,\n",
              "                       0.0869, -0.0924], device='cuda:0'))])"
            ]
          },
          "metadata": {},
          "execution_count": 42
        }
      ]
    },
    {
      "cell_type": "code",
      "source": [
        "loss_fn  = nn.CrossEntropyLoss()\n",
        "\n",
        "optimizer = torch.optim.SGD(params = model.parameters() , lr = 0.1)"
      ],
      "metadata": {
        "id": "Cxwc4jUWOyVw"
      },
      "execution_count": 43,
      "outputs": []
    },
    {
      "cell_type": "code",
      "source": [
        "for batch_features , batch_labels in train_loader :\n",
        "  print(batch_features.shape , batch_labels.shape)\n",
        "  break"
      ],
      "metadata": {
        "colab": {
          "base_uri": "https://localhost:8080/"
        },
        "id": "z9rzXH8AQGtb",
        "outputId": "962f8221-3003-469a-8a70-6f0a1db10d4b"
      },
      "execution_count": 44,
      "outputs": [
        {
          "output_type": "stream",
          "name": "stdout",
          "text": [
            "torch.Size([32, 784]) torch.Size([32])\n"
          ]
        }
      ]
    },
    {
      "cell_type": "code",
      "source": [
        "y_train.shape"
      ],
      "metadata": {
        "colab": {
          "base_uri": "https://localhost:8080/"
        },
        "id": "3TkjSFh_Qo44",
        "outputId": "d534dc2c-2a7b-4200-ab78-7e86d446ee91"
      },
      "execution_count": 45,
      "outputs": [
        {
          "output_type": "execute_result",
          "data": {
            "text/plain": [
              "(4800,)"
            ]
          },
          "metadata": {},
          "execution_count": 45
        }
      ]
    },
    {
      "cell_type": "code",
      "source": [
        "# training loop\n",
        "epochs = 100\n",
        "for epoch in range(epochs):\n",
        "\n",
        "  total_epoch_loss = 0\n",
        "\n",
        "  for batch_features, batch_labels in train_loader:\n",
        "    batch_features = batch_features.to(device)\n",
        "    batch_labels = batch_labels.to(device)\n",
        "    # forward pass\n",
        "    outputs = model(batch_features)\n",
        "\n",
        "    # calculate loss\n",
        "    loss = loss_fn(outputs, batch_labels)\n",
        "\n",
        "    # back pass\n",
        "    optimizer.zero_grad()\n",
        "    loss.backward()\n",
        "\n",
        "    # update grads\n",
        "    optimizer.step()\n",
        "\n",
        "    total_epoch_loss = total_epoch_loss + loss.item()\n",
        "\n",
        "  avg_loss = total_epoch_loss/len(train_loader)\n",
        "  print(f'Epoch: {epoch + 1} , Loss: {avg_loss}')\n"
      ],
      "metadata": {
        "colab": {
          "base_uri": "https://localhost:8080/"
        },
        "id": "Di_o_qjwPgVz",
        "outputId": "468eea0b-1af1-421a-99d7-c3f30de09870"
      },
      "execution_count": 46,
      "outputs": [
        {
          "output_type": "stream",
          "name": "stdout",
          "text": [
            "Epoch: 1 , Loss: 2.1133793090519153\n",
            "Epoch: 2 , Loss: 1.3689559698104858\n",
            "Epoch: 3 , Loss: 1.042528919483486\n",
            "Epoch: 4 , Loss: 0.8920613590039705\n",
            "Epoch: 5 , Loss: 0.8105831805028414\n",
            "Epoch: 6 , Loss: 0.7517153981484865\n",
            "Epoch: 7 , Loss: 0.6992312607012297\n",
            "Epoch: 8 , Loss: 0.65348472093281\n",
            "Epoch: 9 , Loss: 0.6139835903519079\n",
            "Epoch: 10 , Loss: 0.5765200500425539\n",
            "Epoch: 11 , Loss: 0.5468995971115012\n",
            "Epoch: 12 , Loss: 0.5200219491594716\n",
            "Epoch: 13 , Loss: 0.4936543526618104\n",
            "Epoch: 14 , Loss: 0.47303382817067596\n",
            "Epoch: 15 , Loss: 0.45511631510759654\n",
            "Epoch: 16 , Loss: 0.43491151379911525\n",
            "Epoch: 17 , Loss: 0.41528045817425374\n",
            "Epoch: 18 , Loss: 0.4012314822328718\n",
            "Epoch: 19 , Loss: 0.38391399461972087\n",
            "Epoch: 20 , Loss: 0.37128292847620814\n",
            "Epoch: 21 , Loss: 0.3576191842163864\n",
            "Epoch: 22 , Loss: 0.3418531164919075\n",
            "Epoch: 23 , Loss: 0.33337638036985145\n",
            "Epoch: 24 , Loss: 0.3130335860738629\n",
            "Epoch: 25 , Loss: 0.3034323053924661\n",
            "Epoch: 26 , Loss: 0.29246909465444715\n",
            "Epoch: 27 , Loss: 0.2865459887604964\n",
            "Epoch: 28 , Loss: 0.2795362478416217\n",
            "Epoch: 29 , Loss: 0.2864413012407328\n",
            "Epoch: 30 , Loss: 0.25491942475108725\n",
            "Epoch: 31 , Loss: 0.25797830129924576\n",
            "Epoch: 32 , Loss: 0.281104269094373\n",
            "Epoch: 33 , Loss: 0.24293666538831435\n",
            "Epoch: 34 , Loss: 0.23389337839264618\n",
            "Epoch: 35 , Loss: 0.21343021016371877\n",
            "Epoch: 36 , Loss: 0.2062222537045416\n",
            "Epoch: 37 , Loss: 0.19440004396203317\n",
            "Epoch: 38 , Loss: 0.1940205096218147\n",
            "Epoch: 39 , Loss: 0.2053510903527862\n",
            "Epoch: 40 , Loss: 0.17885028864992292\n",
            "Epoch: 41 , Loss: 0.173756081708952\n",
            "Epoch: 42 , Loss: 0.18320989064676196\n",
            "Epoch: 43 , Loss: 0.1796199136266583\n",
            "Epoch: 44 , Loss: 0.15943778791513882\n",
            "Epoch: 45 , Loss: 0.6326699850982741\n",
            "Epoch: 46 , Loss: 0.31160456853869717\n",
            "Epoch: 47 , Loss: 0.2635833160265496\n",
            "Epoch: 48 , Loss: 0.20076222609924643\n",
            "Epoch: 49 , Loss: 0.17826219010902078\n",
            "Epoch: 50 , Loss: 0.17161333707994536\n",
            "Epoch: 51 , Loss: 0.17584181076994068\n",
            "Epoch: 52 , Loss: 0.1548380022868514\n",
            "Epoch: 53 , Loss: 0.1687078358311402\n",
            "Epoch: 54 , Loss: 0.1819784002574651\n",
            "Epoch: 55 , Loss: 0.1368541077857739\n",
            "Epoch: 56 , Loss: 0.14958526782299342\n",
            "Epoch: 57 , Loss: 0.1322436363093163\n",
            "Epoch: 58 , Loss: 0.12630703432583495\n",
            "Epoch: 59 , Loss: 0.11520262878682268\n",
            "Epoch: 60 , Loss: 0.10387114401122458\n",
            "Epoch: 61 , Loss: 0.10306611010118534\n",
            "Epoch: 62 , Loss: 0.09272583968643296\n",
            "Epoch: 63 , Loss: 0.08497382661229685\n",
            "Epoch: 64 , Loss: 0.19775083665981105\n",
            "Epoch: 65 , Loss: 0.20143188256770372\n",
            "Epoch: 66 , Loss: 0.13138451133119433\n",
            "Epoch: 67 , Loss: 0.07728856150060892\n",
            "Epoch: 68 , Loss: 0.13011029240136085\n",
            "Epoch: 69 , Loss: 0.11516462906116717\n",
            "Epoch: 70 , Loss: 0.1094541823687522\n",
            "Epoch: 71 , Loss: 0.06994526649482156\n",
            "Epoch: 72 , Loss: 0.06810081038182896\n",
            "Epoch: 73 , Loss: 0.10542499104906854\n",
            "Epoch: 74 , Loss: 0.06286815453418776\n",
            "Epoch: 75 , Loss: 0.05871977735506861\n",
            "Epoch: 76 , Loss: 0.26686671653174254\n",
            "Epoch: 77 , Loss: 0.11358325033889789\n",
            "Epoch: 78 , Loss: 0.17936068773269653\n",
            "Epoch: 79 , Loss: 0.07612564583848182\n",
            "Epoch: 80 , Loss: 0.0489817029110303\n",
            "Epoch: 81 , Loss: 0.041533680350862835\n",
            "Epoch: 82 , Loss: 0.04217299805512946\n",
            "Epoch: 83 , Loss: 0.038059565103857926\n",
            "Epoch: 84 , Loss: 0.04386919988074193\n",
            "Epoch: 85 , Loss: 0.09177107243234978\n",
            "Epoch: 86 , Loss: 0.09552364846642472\n",
            "Epoch: 87 , Loss: 0.06622728351258526\n",
            "Epoch: 88 , Loss: 0.5953778632377323\n",
            "Epoch: 89 , Loss: 0.08885734479286168\n",
            "Epoch: 90 , Loss: 0.05534602733525006\n",
            "Epoch: 91 , Loss: 0.03989150120239509\n",
            "Epoch: 92 , Loss: 0.03381687372089609\n",
            "Epoch: 93 , Loss: 0.030368075240403414\n",
            "Epoch: 94 , Loss: 0.02797952532082012\n",
            "Epoch: 95 , Loss: 0.02563482290133834\n",
            "Epoch: 96 , Loss: 0.02297266934826774\n",
            "Epoch: 97 , Loss: 0.03248983209854678\n",
            "Epoch: 98 , Loss: 0.1658334731197867\n",
            "Epoch: 99 , Loss: 0.10460962619828551\n",
            "Epoch: 100 , Loss: 0.06656789025414343\n"
          ]
        }
      ]
    },
    {
      "cell_type": "code",
      "source": [
        "model.eval()\n",
        "\n",
        "# evaluation code\n",
        "total = 0\n",
        "correct = 0\n",
        "\n",
        "with torch.no_grad():\n",
        "\n",
        "  for batch_features, batch_labels in test_loader:\n",
        "    batch_features = batch_features.to(device)\n",
        "    batch_labels = batch_labels.to(device)\n",
        "    outputs = model(batch_features)\n",
        "\n",
        "    _, predicted = torch.max(outputs, 1)\n",
        "\n",
        "    total = total + batch_labels.shape[0]\n",
        "\n",
        "    correct = correct + (predicted == batch_labels).sum().item()\n",
        "\n",
        "print(correct/total)"
      ],
      "metadata": {
        "colab": {
          "base_uri": "https://localhost:8080/"
        },
        "id": "g9aWPjyWRUI3",
        "outputId": "dfa00e6c-71ea-42fc-e83c-8ef63eb08b02"
      },
      "execution_count": 48,
      "outputs": [
        {
          "output_type": "stream",
          "name": "stdout",
          "text": [
            "0.8020833333333334\n"
          ]
        }
      ]
    },
    {
      "cell_type": "code",
      "source": [],
      "metadata": {
        "id": "db4TIym7Sxb8"
      },
      "execution_count": 47,
      "outputs": []
    }
  ]
}